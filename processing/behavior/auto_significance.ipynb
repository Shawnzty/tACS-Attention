{
 "cells": [
  {
   "cell_type": "code",
   "execution_count": 2,
   "metadata": {},
   "outputs": [
    {
     "data": {
      "text/plain": [
       "<module 'func4behav' from 'c:\\\\Users\\\\Tianyi Zheng\\\\OneDrive - neuron.t.u-tokyo.ac.jp\\\\Documents\\\\zheng\\\\mywork\\\\attention_tES\\\\tes-attention\\\\processing\\\\behavior\\\\func4behav.py'>"
      ]
     },
     "execution_count": 2,
     "metadata": {},
     "output_type": "execute_result"
    }
   ],
   "source": [
    "import os\n",
    "import time\n",
    "import multiprocessing as mp\n",
    "import matplotlib.pyplot as plt\n",
    "import numpy as np\n",
    "import pandas as pd\n",
    "import seaborn as sns\n",
    "from scipy import stats\n",
    "import func4behav as fb\n",
    "import itertools\n",
    "import ast\n",
    "import imp\n",
    "imp.reload(fb)"
   ]
  },
  {
   "cell_type": "code",
   "execution_count": 39,
   "metadata": {},
   "outputs": [],
   "source": [
    "def auto_sig(size, watch_cases, watch_idxs):\n",
    "    record = pd.DataFrame(columns=['try id', 'Real picks', 'Sham picks', 'p values', 'Judge'])\n",
    "    all_real = [1, 3, 4, 5, 9, 12, 13, 17, 18]\n",
    "    all_sham = [2, 6, 7, 8, 10, 11, 14, 15, 16]\n",
    "    real_comb = [list(comb) for comb in itertools.combinations(all_real, size)]\n",
    "    sham_comb = [list(comb) for comb in itertools.combinations(all_sham, size)]\n",
    "\n",
    "    start_time = time.time()\n",
    "    try_id = 0\n",
    "\n",
    "    for real_to_pick in real_comb:\n",
    "        for sham_to_pick in sham_comb:\n",
    "            p_values = fb.auto_compare(real_to_pick, sham_to_pick, watch_cases, watch_idxs)\n",
    "            record.at[try_id, 'try id'] = try_id\n",
    "            record.at[try_id, 'Real picks'] = real_to_pick\n",
    "            record.at[try_id, 'Sham picks'] = sham_to_pick\n",
    "            record.at[try_id, 'p values'] = p_values.values.tolist()\n",
    "            record.at[try_id, 'Judge'] = [1 if all(i <= 0.05 for i in sublist if i is not None) else 0 for sublist in p_values.values]\n",
    "\n",
    "            judge_matrix = p_values.applymap(lambda x: 1 if x <= 0.05 else 0)\n",
    "            record.at[try_id, 'Judge'] = judge_matrix.values.tolist()\n",
    "\n",
    "            try_id += 1\n",
    "\n",
    "    end_time = time.time()\n",
    "    elapsed_time = end_time - start_time  # Calculate the difference\n",
    "    print(f\"The program took {elapsed_time} seconds to run.\")\n",
    "    record.to_csv('../../../docs/report/data/record_'+str(size)+'.csv', index=False)\n",
    "\n",
    "    return elapsed_time"
   ]
  },
  {
   "cell_type": "code",
   "execution_count": 40,
   "metadata": {},
   "outputs": [
    {
     "name": "stdout",
     "output_type": "stream",
     "text": [
      "The program took 0.8789994716644287 seconds to run.\n"
     ]
    },
    {
     "data": {
      "text/plain": [
       "0.8789994716644287"
      ]
     },
     "execution_count": 40,
     "metadata": {},
     "output_type": "execute_result"
    }
   ],
   "source": [
    "watch_cases = ['endo', 'exo', 'endo valid', 'exo valid', 'endo invalid', 'exo invalid', 'endo stim left', 'endo stim right', 'exo stim left', 'exo stim right']\n",
    "watch_idxs = [\"RT mean shorten\", \"RT median shorten\", \"RT mean shorten %\", \"RT median shorten %\"]\n",
    "size = 9\n",
    "auto_sig(size, watch_cases, watch_idxs)"
   ]
  },
  {
   "cell_type": "markdown",
   "metadata": {},
   "source": [
    "### View result"
   ]
  },
  {
   "cell_type": "code",
   "execution_count": 3,
   "metadata": {},
   "outputs": [],
   "source": [
    "def round_nested_lists(nested_list):\n",
    "    return [[round(number, 3) for number in sublist] for sublist in nested_list]\n",
    "\n",
    "# Define a function to sum the sublist elements column-wise\n",
    "def sum_sublist_elements(lst):\n",
    "    return [sum(x) for x in zip(*lst)]"
   ]
  },
  {
   "cell_type": "code",
   "execution_count": 7,
   "metadata": {},
   "outputs": [
    {
     "data": {
      "text/html": [
       "<div>\n",
       "<style scoped>\n",
       "    .dataframe tbody tr th:only-of-type {\n",
       "        vertical-align: middle;\n",
       "    }\n",
       "\n",
       "    .dataframe tbody tr th {\n",
       "        vertical-align: top;\n",
       "    }\n",
       "\n",
       "    .dataframe thead th {\n",
       "        text-align: right;\n",
       "    }\n",
       "</style>\n",
       "<table border=\"1\" class=\"dataframe\">\n",
       "  <thead>\n",
       "    <tr style=\"text-align: right;\">\n",
       "      <th></th>\n",
       "      <th>try id</th>\n",
       "      <th>Real picks</th>\n",
       "      <th>Sham picks</th>\n",
       "      <th>p values</th>\n",
       "      <th>Judge</th>\n",
       "      <th>Judge sum</th>\n",
       "    </tr>\n",
       "  </thead>\n",
       "  <tbody>\n",
       "    <tr>\n",
       "      <th>2132</th>\n",
       "      <td>2132</td>\n",
       "      <td>[1, 3, 5, 9, 17, 18]</td>\n",
       "      <td>[2, 6, 10, 11, 15, 16]</td>\n",
       "      <td>[[0.065, 0.002, 0.015, 0.002], [0.132, 0.132, ...</td>\n",
       "      <td>[[0, 1, 1, 1], [0, 0, 0, 0], [0, 1, 0, 1], [0,...</td>\n",
       "      <td>[1, 4, 2, 4]</td>\n",
       "    </tr>\n",
       "    <tr>\n",
       "      <th>2130</th>\n",
       "      <td>2130</td>\n",
       "      <td>[1, 3, 5, 9, 17, 18]</td>\n",
       "      <td>[2, 6, 10, 11, 14, 15]</td>\n",
       "      <td>[[0.18, 0.009, 0.093, 0.009], [0.394, 0.394, 0...</td>\n",
       "      <td>[[0, 1, 0, 1], [0, 0, 0, 0], [0, 1, 0, 1], [0,...</td>\n",
       "      <td>[1, 4, 1, 4]</td>\n",
       "    </tr>\n",
       "    <tr>\n",
       "      <th>2111</th>\n",
       "      <td>2111</td>\n",
       "      <td>[1, 3, 5, 9, 17, 18]</td>\n",
       "      <td>[2, 6, 7, 10, 11, 15]</td>\n",
       "      <td>[[0.026, 0.009, 0.015, 0.004], [0.132, 0.31, 0...</td>\n",
       "      <td>[[1, 1, 1, 1], [0, 0, 0, 0], [0, 1, 0, 1], [0,...</td>\n",
       "      <td>[2, 4, 2, 4]</td>\n",
       "    </tr>\n",
       "    <tr>\n",
       "      <th>6930</th>\n",
       "      <td>6930</td>\n",
       "      <td>[4, 9, 12, 13, 17, 18]</td>\n",
       "      <td>[2, 7, 8, 11, 14, 16]</td>\n",
       "      <td>[[0.24, 0.485, 0.18, 0.485], [0.093, 0.132, 0....</td>\n",
       "      <td>[[0, 0, 0, 0], [0, 0, 1, 0], [0, 0, 0, 0], [1,...</td>\n",
       "      <td>[1, 0, 4, 0]</td>\n",
       "    </tr>\n",
       "    <tr>\n",
       "      <th>2110</th>\n",
       "      <td>2110</td>\n",
       "      <td>[1, 3, 5, 9, 17, 18]</td>\n",
       "      <td>[2, 6, 7, 10, 11, 14]</td>\n",
       "      <td>[[0.18, 0.026, 0.093, 0.015], [0.394, 0.394, 0...</td>\n",
       "      <td>[[0, 1, 0, 1], [0, 0, 0, 0], [0, 1, 0, 0], [0,...</td>\n",
       "      <td>[1, 3, 1, 2]</td>\n",
       "    </tr>\n",
       "    <tr>\n",
       "      <th>...</th>\n",
       "      <td>...</td>\n",
       "      <td>...</td>\n",
       "      <td>...</td>\n",
       "      <td>...</td>\n",
       "      <td>...</td>\n",
       "      <td>...</td>\n",
       "    </tr>\n",
       "    <tr>\n",
       "      <th>2143</th>\n",
       "      <td>2143</td>\n",
       "      <td>[1, 3, 5, 9, 17, 18]</td>\n",
       "      <td>[2, 7, 8, 11, 15, 16]</td>\n",
       "      <td>[[0.31, 0.093, 0.132, 0.093], [0.485, 0.699, 0...</td>\n",
       "      <td>[[0, 0, 0, 0], [0, 0, 0, 0], [0, 0, 0, 0], [0,...</td>\n",
       "      <td>[0, 1, 0, 0]</td>\n",
       "    </tr>\n",
       "    <tr>\n",
       "      <th>2146</th>\n",
       "      <td>2146</td>\n",
       "      <td>[1, 3, 5, 9, 17, 18]</td>\n",
       "      <td>[2, 7, 10, 11, 14, 16]</td>\n",
       "      <td>[[0.31, 0.026, 0.093, 0.015], [0.589, 0.485, 0...</td>\n",
       "      <td>[[0, 1, 0, 1], [0, 0, 0, 0], [0, 0, 0, 0], [0,...</td>\n",
       "      <td>[0, 1, 0, 1]</td>\n",
       "    </tr>\n",
       "    <tr>\n",
       "      <th>2148</th>\n",
       "      <td>2148</td>\n",
       "      <td>[1, 3, 5, 9, 17, 18]</td>\n",
       "      <td>[2, 7, 10, 14, 15, 16]</td>\n",
       "      <td>[[0.31, 0.026, 0.093, 0.015], [0.699, 0.937, 0...</td>\n",
       "      <td>[[0, 1, 0, 1], [0, 0, 0, 0], [0, 0, 0, 0], [0,...</td>\n",
       "      <td>[0, 1, 0, 1]</td>\n",
       "    </tr>\n",
       "    <tr>\n",
       "      <th>2149</th>\n",
       "      <td>2149</td>\n",
       "      <td>[1, 3, 5, 9, 17, 18]</td>\n",
       "      <td>[2, 7, 11, 14, 15, 16]</td>\n",
       "      <td>[[0.31, 0.026, 0.093, 0.015], [0.818, 0.937, 0...</td>\n",
       "      <td>[[0, 1, 0, 1], [0, 0, 0, 0], [0, 0, 0, 0], [0,...</td>\n",
       "      <td>[0, 1, 0, 1]</td>\n",
       "    </tr>\n",
       "    <tr>\n",
       "      <th>6965</th>\n",
       "      <td>6965</td>\n",
       "      <td>[4, 9, 12, 13, 17, 18]</td>\n",
       "      <td>[7, 8, 10, 11, 14, 15]</td>\n",
       "      <td>[[0.394, 0.485, 0.394, 0.485], [0.24, 0.18, 0....</td>\n",
       "      <td>[[0, 0, 0, 0], [0, 0, 0, 0], [0, 0, 0, 0], [0,...</td>\n",
       "      <td>[1, 0, 1, 0]</td>\n",
       "    </tr>\n",
       "  </tbody>\n",
       "</table>\n",
       "<p>307 rows × 6 columns</p>\n",
       "</div>"
      ],
      "text/plain": [
       "      try id              Real picks              Sham picks  \\\n",
       "2132    2132    [1, 3, 5, 9, 17, 18]  [2, 6, 10, 11, 15, 16]   \n",
       "2130    2130    [1, 3, 5, 9, 17, 18]  [2, 6, 10, 11, 14, 15]   \n",
       "2111    2111    [1, 3, 5, 9, 17, 18]   [2, 6, 7, 10, 11, 15]   \n",
       "6930    6930  [4, 9, 12, 13, 17, 18]   [2, 7, 8, 11, 14, 16]   \n",
       "2110    2110    [1, 3, 5, 9, 17, 18]   [2, 6, 7, 10, 11, 14]   \n",
       "...      ...                     ...                     ...   \n",
       "2143    2143    [1, 3, 5, 9, 17, 18]   [2, 7, 8, 11, 15, 16]   \n",
       "2146    2146    [1, 3, 5, 9, 17, 18]  [2, 7, 10, 11, 14, 16]   \n",
       "2148    2148    [1, 3, 5, 9, 17, 18]  [2, 7, 10, 14, 15, 16]   \n",
       "2149    2149    [1, 3, 5, 9, 17, 18]  [2, 7, 11, 14, 15, 16]   \n",
       "6965    6965  [4, 9, 12, 13, 17, 18]  [7, 8, 10, 11, 14, 15]   \n",
       "\n",
       "                                               p values  \\\n",
       "2132  [[0.065, 0.002, 0.015, 0.002], [0.132, 0.132, ...   \n",
       "2130  [[0.18, 0.009, 0.093, 0.009], [0.394, 0.394, 0...   \n",
       "2111  [[0.026, 0.009, 0.015, 0.004], [0.132, 0.31, 0...   \n",
       "6930  [[0.24, 0.485, 0.18, 0.485], [0.093, 0.132, 0....   \n",
       "2110  [[0.18, 0.026, 0.093, 0.015], [0.394, 0.394, 0...   \n",
       "...                                                 ...   \n",
       "2143  [[0.31, 0.093, 0.132, 0.093], [0.485, 0.699, 0...   \n",
       "2146  [[0.31, 0.026, 0.093, 0.015], [0.589, 0.485, 0...   \n",
       "2148  [[0.31, 0.026, 0.093, 0.015], [0.699, 0.937, 0...   \n",
       "2149  [[0.31, 0.026, 0.093, 0.015], [0.818, 0.937, 0...   \n",
       "6965  [[0.394, 0.485, 0.394, 0.485], [0.24, 0.18, 0....   \n",
       "\n",
       "                                                  Judge     Judge sum  \n",
       "2132  [[0, 1, 1, 1], [0, 0, 0, 0], [0, 1, 0, 1], [0,...  [1, 4, 2, 4]  \n",
       "2130  [[0, 1, 0, 1], [0, 0, 0, 0], [0, 1, 0, 1], [0,...  [1, 4, 1, 4]  \n",
       "2111  [[1, 1, 1, 1], [0, 0, 0, 0], [0, 1, 0, 1], [0,...  [2, 4, 2, 4]  \n",
       "6930  [[0, 0, 0, 0], [0, 0, 1, 0], [0, 0, 0, 0], [1,...  [1, 0, 4, 0]  \n",
       "2110  [[0, 1, 0, 1], [0, 0, 0, 0], [0, 1, 0, 0], [0,...  [1, 3, 1, 2]  \n",
       "...                                                 ...           ...  \n",
       "2143  [[0, 0, 0, 0], [0, 0, 0, 0], [0, 0, 0, 0], [0,...  [0, 1, 0, 0]  \n",
       "2146  [[0, 1, 0, 1], [0, 0, 0, 0], [0, 0, 0, 0], [0,...  [0, 1, 0, 1]  \n",
       "2148  [[0, 1, 0, 1], [0, 0, 0, 0], [0, 0, 0, 0], [0,...  [0, 1, 0, 1]  \n",
       "2149  [[0, 1, 0, 1], [0, 0, 0, 0], [0, 0, 0, 0], [0,...  [0, 1, 0, 1]  \n",
       "6965  [[0, 0, 0, 0], [0, 0, 0, 0], [0, 0, 0, 0], [0,...  [1, 0, 1, 0]  \n",
       "\n",
       "[307 rows x 6 columns]"
      ]
     },
     "execution_count": 7,
     "metadata": {},
     "output_type": "execute_result"
    }
   ],
   "source": [
    "record_path = os.path.join('..', '..', '..', 'docs', 'report', 'data', 'record_6'+'.csv')\n",
    "record = pd.read_csv(record_path)\n",
    "\n",
    "record['p values'] = record['p values'].apply(ast.literal_eval).apply(round_nested_lists)\n",
    "# Convert the 'Judge' column from string representation to actual list of lists\n",
    "record['Judge'] = record['Judge'].apply(ast.literal_eval)\n",
    "\n",
    "# Filter the dataframe\n",
    "record = record[record['Judge'].apply(lambda row: any(1 in sublist for sublist in row))]\n",
    "\n",
    "\n",
    "# Apply this function to the 'Judge' column and create a new column 'Judge_sum'\n",
    "record['Judge sum'] = record['Judge'].apply(sum_sublist_elements)\n",
    "\n",
    "# Create a new column that contains the maximum value from the 'Judge_sum' list\n",
    "record['Max Judge sum'] = record['Judge sum'].apply(max)\n",
    "\n",
    "# Sort the DataFrame by the 'Max_Judge_sum' column in descending order\n",
    "record = record.sort_values(by='Max Judge sum', ascending=False)\n",
    "\n",
    "record.drop(columns=['Max Judge sum'], inplace=True)\n",
    "\n",
    "record\n"
   ]
  },
  {
   "cell_type": "code",
   "execution_count": 22,
   "metadata": {},
   "outputs": [
    {
     "data": {
      "text/plain": [
       "[[0, 1, 1, 1],\n",
       " [0, 0, 0, 0],\n",
       " [0, 1, 0, 1],\n",
       " [0, 0, 0, 0],\n",
       " [0, 0, 0, 0],\n",
       " [0, 0, 0, 0],\n",
       " [0, 0, 0, 0],\n",
       " [0, 1, 0, 1],\n",
       " [0, 0, 0, 0],\n",
       " [1, 1, 1, 1]]"
      ]
     },
     "metadata": {},
     "output_type": "display_data"
    },
    {
     "data": {
      "text/plain": [
       "[1, 4, 2, 4]"
      ]
     },
     "metadata": {},
     "output_type": "display_data"
    }
   ],
   "source": [
    "display(record.at[2132, 'Judge'])\n",
    "display(record.at[2132, 'Judge sum'])"
   ]
  }
 ],
 "metadata": {
  "kernelspec": {
   "display_name": "mne",
   "language": "python",
   "name": "python3"
  },
  "language_info": {
   "codemirror_mode": {
    "name": "ipython",
    "version": 3
   },
   "file_extension": ".py",
   "mimetype": "text/x-python",
   "name": "python",
   "nbconvert_exporter": "python",
   "pygments_lexer": "ipython3",
   "version": "3.9.17"
  },
  "orig_nbformat": 4
 },
 "nbformat": 4,
 "nbformat_minor": 2
}
