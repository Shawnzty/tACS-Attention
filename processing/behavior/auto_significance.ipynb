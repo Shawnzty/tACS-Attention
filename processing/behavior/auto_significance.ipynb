{
 "cells": [
  {
   "cell_type": "code",
   "execution_count": 2,
   "metadata": {},
   "outputs": [
    {
     "name": "stderr",
     "output_type": "stream",
     "text": [
      "C:\\Users\\Tianyi Zheng\\AppData\\Local\\Temp\\ipykernel_26348\\3756806229.py:12: DeprecationWarning: the imp module is deprecated in favour of importlib; see the module's documentation for alternative uses\n",
      "  import imp\n"
     ]
    },
    {
     "data": {
      "text/plain": [
       "<module 'func4behav' from 'c:\\\\Users\\\\Tianyi Zheng\\\\OneDrive - neuron.t.u-tokyo.ac.jp\\\\Documents\\\\zheng\\\\mywork\\\\attention_tES\\\\tes-attention\\\\processing\\\\behavior\\\\func4behav.py'>"
      ]
     },
     "execution_count": 2,
     "metadata": {},
     "output_type": "execute_result"
    }
   ],
   "source": [
    "import os\n",
    "import time\n",
    "import multiprocessing as mp\n",
    "import matplotlib.pyplot as plt\n",
    "import numpy as np\n",
    "import pandas as pd\n",
    "import seaborn as sns\n",
    "from scipy import stats\n",
    "import func4behav as fb\n",
    "import itertools\n",
    "import ast\n",
    "import imp\n",
    "imp.reload(fb)"
   ]
  },
  {
   "cell_type": "code",
   "execution_count": 2,
   "metadata": {},
   "outputs": [],
   "source": [
    "def auto_sig(size, watch_cases, watch_idxs):\n",
    "    record = pd.DataFrame(columns=['try id', 'Real picks', 'Sham picks', 'p values', 'Judge'])\n",
    "    all_real = [1, 3, 4, 5, 9, 12, 13, 17, 18]\n",
    "    all_sham = [2, 6, 7, 8, 10, 11, 14, 15, 16]\n",
    "    real_comb = [list(comb) for comb in itertools.combinations(all_real, size)]\n",
    "    sham_comb = [list(comb) for comb in itertools.combinations(all_sham, size)]\n",
    "\n",
    "    start_time = time.time()\n",
    "    try_id = 0\n",
    "\n",
    "    for real_to_pick in real_comb:\n",
    "        for sham_to_pick in sham_comb:\n",
    "            p_values = fb.auto_compare(real_to_pick, sham_to_pick, watch_cases, watch_idxs)\n",
    "            record.at[try_id, 'try id'] = try_id\n",
    "            record.at[try_id, 'Real picks'] = real_to_pick\n",
    "            record.at[try_id, 'Sham picks'] = sham_to_pick\n",
    "            record.at[try_id, 'p values'] = p_values.values.tolist()\n",
    "            record.at[try_id, 'Judge'] = [1 if all(i <= 0.05 for i in sublist if i is not None) else 0 for sublist in p_values.values]\n",
    "\n",
    "            judge_matrix = p_values.applymap(lambda x: 1 if x <= 0.05 else 0)\n",
    "            record.at[try_id, 'Judge'] = judge_matrix.values.tolist()\n",
    "\n",
    "            try_id += 1\n",
    "\n",
    "    end_time = time.time()\n",
    "    elapsed_time = end_time - start_time  # Calculate the difference\n",
    "    print(f\"The program took {elapsed_time} seconds to run.\")\n",
    "    record.to_csv('../../../docs/report/record_'+str(size)+'.csv', index=False)\n",
    "\n",
    "    return elapsed_time"
   ]
  },
  {
   "cell_type": "code",
   "execution_count": 3,
   "metadata": {},
   "outputs": [
    {
     "name": "stdout",
     "output_type": "stream",
     "text": [
      "The program took 6706.270402908325 seconds to run.\n"
     ]
    },
    {
     "data": {
      "text/plain": [
       "6706.270402908325"
      ]
     },
     "execution_count": 3,
     "metadata": {},
     "output_type": "execute_result"
    }
   ],
   "source": [
    "watch_cases = ['endo', 'exo', 'endo valid', 'exo valid', 'endo invalid', 'exo invalid', 'endo stim left', 'endo stim right', 'exo stim left', 'exo stim right']\n",
    "watch_idxs = [\"RT mean shorten\", \"RT median shorten\", \"RT mean shorten %\", \"RT median shorten %\"]\n",
    "size = 7\n",
    "auto_sig(size, watch_cases, watch_idxs)"
   ]
  },
  {
   "cell_type": "markdown",
   "metadata": {},
   "source": [
    "### View result"
   ]
  },
  {
   "cell_type": "code",
   "execution_count": 3,
   "metadata": {},
   "outputs": [
    {
     "data": {
      "text/html": [
       "<div>\n",
       "<style scoped>\n",
       "    .dataframe tbody tr th:only-of-type {\n",
       "        vertical-align: middle;\n",
       "    }\n",
       "\n",
       "    .dataframe tbody tr th {\n",
       "        vertical-align: top;\n",
       "    }\n",
       "\n",
       "    .dataframe thead th {\n",
       "        text-align: right;\n",
       "    }\n",
       "</style>\n",
       "<table border=\"1\" class=\"dataframe\">\n",
       "  <thead>\n",
       "    <tr style=\"text-align: right;\">\n",
       "      <th></th>\n",
       "      <th>try id</th>\n",
       "      <th>Real picks</th>\n",
       "      <th>Sham picks</th>\n",
       "      <th>p values</th>\n",
       "      <th>Judge</th>\n",
       "      <th>Judge_sum</th>\n",
       "    </tr>\n",
       "  </thead>\n",
       "  <tbody>\n",
       "    <tr>\n",
       "      <th>190</th>\n",
       "      <td>190</td>\n",
       "      <td>[1, 3, 4, 5, 9, 17, 18]</td>\n",
       "      <td>[2, 6, 7, 10, 11, 14, 15]</td>\n",
       "      <td>[[0.31759906759906764, 0.09731934731934733, 0....</td>\n",
       "      <td>[[0, 0, 0, 0], [0, 0, 0, 0], [0, 0, 0, 0], [0,...</td>\n",
       "      <td>[0, 1, 0, 0]</td>\n",
       "    </tr>\n",
       "    <tr>\n",
       "      <th>192</th>\n",
       "      <td>192</td>\n",
       "      <td>[1, 3, 4, 5, 9, 17, 18]</td>\n",
       "      <td>[2, 6, 7, 10, 11, 15, 16]</td>\n",
       "      <td>[[0.16491841491841494, 0.05303030303030303, 0....</td>\n",
       "      <td>[[0, 0, 0, 1], [0, 0, 0, 0], [0, 0, 0, 0], [0,...</td>\n",
       "      <td>[0, 0, 0, 1]</td>\n",
       "    </tr>\n",
       "    <tr>\n",
       "      <th>622</th>\n",
       "      <td>622</td>\n",
       "      <td>[1, 3, 5, 9, 12, 17, 18]</td>\n",
       "      <td>[2, 6, 7, 10, 11, 14, 15]</td>\n",
       "      <td>[[0.31759906759906764, 0.09731934731934733, 0....</td>\n",
       "      <td>[[0, 0, 0, 0], [0, 0, 0, 0], [0, 0, 0, 0], [0,...</td>\n",
       "      <td>[0, 1, 0, 0]</td>\n",
       "    </tr>\n",
       "    <tr>\n",
       "      <th>624</th>\n",
       "      <td>624</td>\n",
       "      <td>[1, 3, 5, 9, 12, 17, 18]</td>\n",
       "      <td>[2, 6, 7, 10, 11, 15, 16]</td>\n",
       "      <td>[[0.16491841491841494, 0.05303030303030303, 0....</td>\n",
       "      <td>[[0, 0, 0, 1], [0, 0, 0, 0], [0, 0, 0, 0], [0,...</td>\n",
       "      <td>[0, 0, 0, 1]</td>\n",
       "    </tr>\n",
       "    <tr>\n",
       "      <th>658</th>\n",
       "      <td>658</td>\n",
       "      <td>[1, 3, 5, 9, 13, 17, 18]</td>\n",
       "      <td>[2, 6, 7, 10, 11, 14, 15]</td>\n",
       "      <td>[[0.31759906759906764, 0.09731934731934733, 0....</td>\n",
       "      <td>[[0, 0, 0, 0], [0, 0, 0, 0], [0, 0, 0, 0], [0,...</td>\n",
       "      <td>[0, 1, 0, 0]</td>\n",
       "    </tr>\n",
       "    <tr>\n",
       "      <th>660</th>\n",
       "      <td>660</td>\n",
       "      <td>[1, 3, 5, 9, 13, 17, 18]</td>\n",
       "      <td>[2, 6, 7, 10, 11, 15, 16]</td>\n",
       "      <td>[[0.16491841491841494, 0.05303030303030303, 0....</td>\n",
       "      <td>[[0, 0, 0, 1], [0, 0, 0, 0], [0, 0, 0, 0], [0,...</td>\n",
       "      <td>[0, 0, 0, 1]</td>\n",
       "    </tr>\n",
       "    <tr>\n",
       "      <th>1192</th>\n",
       "      <td>1192</td>\n",
       "      <td>[3, 4, 9, 12, 13, 17, 18]</td>\n",
       "      <td>[2, 6, 7, 8, 10, 14, 16]</td>\n",
       "      <td>[[0.31759906759906764, 0.6200466200466201, 0.3...</td>\n",
       "      <td>[[0, 0, 0, 0], [0, 0, 0, 0], [0, 0, 1, 0], [0,...</td>\n",
       "      <td>[0, 0, 1, 0]</td>\n",
       "    </tr>\n",
       "    <tr>\n",
       "      <th>1210</th>\n",
       "      <td>1210</td>\n",
       "      <td>[3, 4, 9, 12, 13, 17, 18]</td>\n",
       "      <td>[2, 7, 8, 10, 11, 14, 16]</td>\n",
       "      <td>[[0.31759906759906764, 0.6200466200466201, 0.3...</td>\n",
       "      <td>[[0, 0, 0, 0], [0, 0, 0, 0], [0, 0, 1, 0], [0,...</td>\n",
       "      <td>[0, 0, 1, 0]</td>\n",
       "    </tr>\n",
       "    <tr>\n",
       "      <th>1212</th>\n",
       "      <td>1212</td>\n",
       "      <td>[3, 4, 9, 12, 13, 17, 18]</td>\n",
       "      <td>[2, 7, 8, 10, 14, 15, 16]</td>\n",
       "      <td>[[0.31759906759906764, 0.6200466200466201, 0.3...</td>\n",
       "      <td>[[0, 0, 0, 0], [0, 0, 0, 0], [0, 0, 1, 0], [0,...</td>\n",
       "      <td>[0, 0, 1, 0]</td>\n",
       "    </tr>\n",
       "  </tbody>\n",
       "</table>\n",
       "</div>"
      ],
      "text/plain": [
       "      try id                 Real picks                 Sham picks  \\\n",
       "190      190    [1, 3, 4, 5, 9, 17, 18]  [2, 6, 7, 10, 11, 14, 15]   \n",
       "192      192    [1, 3, 4, 5, 9, 17, 18]  [2, 6, 7, 10, 11, 15, 16]   \n",
       "622      622   [1, 3, 5, 9, 12, 17, 18]  [2, 6, 7, 10, 11, 14, 15]   \n",
       "624      624   [1, 3, 5, 9, 12, 17, 18]  [2, 6, 7, 10, 11, 15, 16]   \n",
       "658      658   [1, 3, 5, 9, 13, 17, 18]  [2, 6, 7, 10, 11, 14, 15]   \n",
       "660      660   [1, 3, 5, 9, 13, 17, 18]  [2, 6, 7, 10, 11, 15, 16]   \n",
       "1192    1192  [3, 4, 9, 12, 13, 17, 18]   [2, 6, 7, 8, 10, 14, 16]   \n",
       "1210    1210  [3, 4, 9, 12, 13, 17, 18]  [2, 7, 8, 10, 11, 14, 16]   \n",
       "1212    1212  [3, 4, 9, 12, 13, 17, 18]  [2, 7, 8, 10, 14, 15, 16]   \n",
       "\n",
       "                                               p values  \\\n",
       "190   [[0.31759906759906764, 0.09731934731934733, 0....   \n",
       "192   [[0.16491841491841494, 0.05303030303030303, 0....   \n",
       "622   [[0.31759906759906764, 0.09731934731934733, 0....   \n",
       "624   [[0.16491841491841494, 0.05303030303030303, 0....   \n",
       "658   [[0.31759906759906764, 0.09731934731934733, 0....   \n",
       "660   [[0.16491841491841494, 0.05303030303030303, 0....   \n",
       "1192  [[0.31759906759906764, 0.6200466200466201, 0.3...   \n",
       "1210  [[0.31759906759906764, 0.6200466200466201, 0.3...   \n",
       "1212  [[0.31759906759906764, 0.6200466200466201, 0.3...   \n",
       "\n",
       "                                                  Judge     Judge_sum  \n",
       "190   [[0, 0, 0, 0], [0, 0, 0, 0], [0, 0, 0, 0], [0,...  [0, 1, 0, 0]  \n",
       "192   [[0, 0, 0, 1], [0, 0, 0, 0], [0, 0, 0, 0], [0,...  [0, 0, 0, 1]  \n",
       "622   [[0, 0, 0, 0], [0, 0, 0, 0], [0, 0, 0, 0], [0,...  [0, 1, 0, 0]  \n",
       "624   [[0, 0, 0, 1], [0, 0, 0, 0], [0, 0, 0, 0], [0,...  [0, 0, 0, 1]  \n",
       "658   [[0, 0, 0, 0], [0, 0, 0, 0], [0, 0, 0, 0], [0,...  [0, 1, 0, 0]  \n",
       "660   [[0, 0, 0, 1], [0, 0, 0, 0], [0, 0, 0, 0], [0,...  [0, 0, 0, 1]  \n",
       "1192  [[0, 0, 0, 0], [0, 0, 0, 0], [0, 0, 1, 0], [0,...  [0, 0, 1, 0]  \n",
       "1210  [[0, 0, 0, 0], [0, 0, 0, 0], [0, 0, 1, 0], [0,...  [0, 0, 1, 0]  \n",
       "1212  [[0, 0, 0, 0], [0, 0, 0, 0], [0, 0, 1, 0], [0,...  [0, 0, 1, 0]  "
      ]
     },
     "execution_count": 3,
     "metadata": {},
     "output_type": "execute_result"
    }
   ],
   "source": [
    "record_path = os.path.join('..', '..', '..', 'docs', 'report', 'record_7'+'.csv')\n",
    "record = pd.read_csv(record_path)\n",
    "\n",
    "# Convert the 'Judge' column from string representation to actual list of lists\n",
    "record['Judge'] = record['Judge'].apply(ast.literal_eval)\n",
    "\n",
    "# Filter the dataframe\n",
    "record = record[record['Judge'].apply(lambda row: any(1 in sublist for sublist in row))]\n",
    "\n",
    "# Define a function to sum the sublist elements column-wise\n",
    "def sum_sublist_elements(lst):\n",
    "    return [sum(x) for x in zip(*lst)]\n",
    "\n",
    "# Apply this function to the 'Judge' column and create a new column 'Judge_sum'\n",
    "record['Judge_sum'] = record['Judge'].apply(sum_sublist_elements)\n",
    "record\n"
   ]
  },
  {
   "cell_type": "code",
   "execution_count": 5,
   "metadata": {},
   "outputs": [],
   "source": [
    "# record_path = os.path.join('..', '..', '..', 'docs', 'report', 'record_8.csv')\n",
    "# record = pd.read_csv(record_path)\n",
    "\n",
    "# # Use apply with ast.literal_eval to convert string representation of list to actual list\n",
    "# record['Judge'] = record['Judge'].apply(ast.literal_eval)\n",
    "# record['p value'] = record['p value'].apply(ast.literal_eval)\n",
    "\n",
    "# record['p1'] = record['p value'].apply(lambda x: x[0] if isinstance(x, list) and len(x) > 0 else None)\n",
    "# record['p2'] = record['p value'].apply(lambda x: x[1] if isinstance(x, list) and len(x) > 1 else None)\n",
    "# record['Judge 1'] = record['p1'].apply(lambda x: 1 if sum(i <= 0.05 for i in x) == 3 else 0)\n",
    "# record['Judge 2'] = record['p2'].apply(lambda x: 1 if sum(i <= 0.05 for i in x) == 4 else 0)\n",
    "\n",
    "# # # Filter rows where 'Judge' column is [1, 1]\n",
    "# # record = record[record['Judge'].apply(lambda x: x == [0, 1])]\n",
    "# record = record[record['Judge 1'] == 1]\n",
    "# # record = record[record['Judge 2'] == 1]\n",
    "\n",
    "# # Display the updated DataFrame\n",
    "# display(record)"
   ]
  }
 ],
 "metadata": {
  "kernelspec": {
   "display_name": "mne",
   "language": "python",
   "name": "python3"
  },
  "language_info": {
   "codemirror_mode": {
    "name": "ipython",
    "version": 3
   },
   "file_extension": ".py",
   "mimetype": "text/x-python",
   "name": "python",
   "nbconvert_exporter": "python",
   "pygments_lexer": "ipython3",
   "version": "3.9.17"
  },
  "orig_nbformat": 4
 },
 "nbformat": 4,
 "nbformat_minor": 2
}
