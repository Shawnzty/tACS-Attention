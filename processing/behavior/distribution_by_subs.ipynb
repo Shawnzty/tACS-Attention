{
 "cells": [
  {
   "cell_type": "code",
   "execution_count": 5,
   "metadata": {},
   "outputs": [
    {
     "data": {
      "text/plain": [
       "<module 'func4behav' from 'c:\\\\Users\\\\Tianyi Zheng\\\\OneDrive - neuron.t.u-tokyo.ac.jp\\\\Documents\\\\zheng\\\\mywork\\\\attention_tES\\\\tes-attention\\\\processing\\\\behavior\\\\func4behav.py'>"
      ]
     },
     "execution_count": 5,
     "metadata": {},
     "output_type": "execute_result"
    }
   ],
   "source": [
    "import os\n",
    "import warnings\n",
    "import matplotlib.pyplot as plt\n",
    "import numpy as np\n",
    "import pandas as pd\n",
    "import seaborn as sns\n",
    "from scipy import stats\n",
    "import func4behav as fb\n",
    "from scipy.stats import lognorm, exponnorm, invgauss\n",
    "from scipy.optimize import curve_fit\n",
    "from sklearn.metrics import mean_squared_error\n",
    "from pyddm import Model, Sample, Fittable, Fitted\n",
    "from pyddm.models import DriftConstant, NoiseConstant, BoundConstant, OverlayNonDecision, ICPointSourceCenter, LossRobustLikelihood\n",
    "from pyddm.functions import fit_adjust_model, display_model\n",
    "import pyddm.plot\n",
    "\n",
    "import imp\n",
    "imp.reload(fb)"
   ]
  },
  {
   "cell_type": "code",
   "execution_count": 6,
   "metadata": {},
   "outputs": [],
   "source": [
    "def distribution_param(case_list, cutoff):\n",
    "\n",
    "    _, expt_info = fb.create_allsubs_compare()\n",
    "    param_record = pd.DataFrame(columns=['subject id', 'case', 'group', 'session', 'method', 'params', 'log likelihood', 'AIC'])\n",
    "    \n",
    "    session_name = ['before', 'after']\n",
    "    methods_name = ['shift lognorm', 'exgaussian', 'ddm', 'shift invgauss']\n",
    "    methods = [fb.fit_shift_lognorm, fb.fit_exgaussian, fb.fit_ddm, fb.fit_shift_invgauss]\n",
    "\n",
    "    # Loops\n",
    "    record_idx = 0\n",
    "    for subject_id in range(1,19):\n",
    "        print(\"Subject id:\" + str(subject_id) + \" is processing...\")\n",
    "        real_or_sham = expt_info.loc[expt_info['subject id'] == subject_id, 'Real stimulation'].values[0]\n",
    "\n",
    "        for case in case_list:\n",
    "            rt_before, rt_after = make_rt_data(subject_id, case, cutoff)\n",
    "\n",
    "            for method_idx, method in enumerate(methods):\n",
    "                for session_idx, rt in enumerate([rt_before, rt_after]):\n",
    "                    param, log_L, AIC = method(rt, cutoff)\n",
    "\n",
    "                    param_record.loc[record_idx, 'subject id'] = subject_id\n",
    "                    param_record.loc[record_idx, 'case'] = case\n",
    "                    param_record.loc[record_idx, 'group'] = \"real\" if real_or_sham == 1 else \"sham\"\n",
    "                    param_record.loc[record_idx, 'session'] = session_name[session_idx]\n",
    "                    param_record.loc[record_idx, 'method'] = methods_name[method_idx]\n",
    "                    param_record.loc[record_idx, 'params'] = param\n",
    "                    param_record.loc[record_idx, 'log likelihood'] = log_L\n",
    "                    param_record.loc[record_idx, 'AIC'] = AIC\n",
    "\n",
    "                    record_idx += 1\n",
    "                    \n",
    "    return param_record\n",
    "\n",
    "\n",
    "def make_rt_data(subject_id, case, cutoff):\n",
    "    \n",
    "    behavior_before, behavior_after = fb.load_behavior(subject_id)\n",
    "    behavior_before, behavior_after = fb.filter_behav(case, behavior_before, behavior_after)\n",
    "    rt_before = behavior_before.loc[(behavior_before['response'] == 1) & (behavior_before['reaction time'] > 0.05) & (behavior_before['reaction time'] < cutoff)]\n",
    "    rt_after = behavior_after.loc[(behavior_after['response'] == 1) & (behavior_after['reaction time'] > 0.05) & (behavior_after['reaction time'] < cutoff)]\n",
    "\n",
    "    rt_before = rt_before['reaction time'].values\n",
    "    rt_after = rt_after['reaction time'].values\n",
    "\n",
    "    return rt_before, rt_after"
   ]
  },
  {
   "cell_type": "code",
   "execution_count": 7,
   "metadata": {},
   "outputs": [
    {
     "name": "stdout",
     "output_type": "stream",
     "text": [
      "Subject id:1 is processing...\n"
     ]
    },
    {
     "ename": "KeyboardInterrupt",
     "evalue": "",
     "output_type": "error",
     "traceback": [
      "\u001b[1;31m---------------------------------------------------------------------------\u001b[0m",
      "\u001b[1;31mKeyboardInterrupt\u001b[0m                         Traceback (most recent call last)",
      "Cell \u001b[1;32mIn[7], line 5\u001b[0m\n\u001b[0;32m      3\u001b[0m case_list \u001b[39m=\u001b[39m [\u001b[39m'\u001b[39m\u001b[39mall\u001b[39m\u001b[39m'\u001b[39m, \u001b[39m'\u001b[39m\u001b[39mendo\u001b[39m\u001b[39m'\u001b[39m, \u001b[39m'\u001b[39m\u001b[39mexo\u001b[39m\u001b[39m'\u001b[39m, \u001b[39m'\u001b[39m\u001b[39mvalid\u001b[39m\u001b[39m'\u001b[39m, \u001b[39m'\u001b[39m\u001b[39mendo valid\u001b[39m\u001b[39m'\u001b[39m, \u001b[39m'\u001b[39m\u001b[39mexo valid\u001b[39m\u001b[39m'\u001b[39m, \u001b[39m'\u001b[39m\u001b[39minvalid\u001b[39m\u001b[39m'\u001b[39m, \u001b[39m'\u001b[39m\u001b[39mendo invalid\u001b[39m\u001b[39m'\u001b[39m, \u001b[39m'\u001b[39m\u001b[39mexo invalid\u001b[39m\u001b[39m'\u001b[39m, \u001b[39m'\u001b[39m\u001b[39mstim left\u001b[39m\u001b[39m'\u001b[39m, \u001b[39m'\u001b[39m\u001b[39mendo stim left\u001b[39m\u001b[39m'\u001b[39m, \u001b[39m'\u001b[39m\u001b[39mendo stim right\u001b[39m\u001b[39m'\u001b[39m, \u001b[39m'\u001b[39m\u001b[39mstim right\u001b[39m\u001b[39m'\u001b[39m, \u001b[39m'\u001b[39m\u001b[39mexo stim left\u001b[39m\u001b[39m'\u001b[39m, \u001b[39m'\u001b[39m\u001b[39mexo stim right\u001b[39m\u001b[39m'\u001b[39m]\n\u001b[0;32m      4\u001b[0m cutoff \u001b[39m=\u001b[39m \u001b[39m1\u001b[39m\n\u001b[1;32m----> 5\u001b[0m param_record \u001b[39m=\u001b[39m distribution_param(case_list, cutoff)\n",
      "Cell \u001b[1;32mIn[6], line 21\u001b[0m, in \u001b[0;36mdistribution_param\u001b[1;34m(case_list, cutoff)\u001b[0m\n\u001b[0;32m     19\u001b[0m \u001b[39mfor\u001b[39;00m method_idx, method \u001b[39min\u001b[39;00m \u001b[39menumerate\u001b[39m(methods):\n\u001b[0;32m     20\u001b[0m     \u001b[39mfor\u001b[39;00m session_idx, rt \u001b[39min\u001b[39;00m \u001b[39menumerate\u001b[39m([rt_before, rt_after]):\n\u001b[1;32m---> 21\u001b[0m         param, log_L, AIC \u001b[39m=\u001b[39m method(rt, cutoff)\n\u001b[0;32m     23\u001b[0m         param_record\u001b[39m.\u001b[39mloc[record_idx, \u001b[39m'\u001b[39m\u001b[39msubject id\u001b[39m\u001b[39m'\u001b[39m] \u001b[39m=\u001b[39m subject_id\n\u001b[0;32m     24\u001b[0m         param_record\u001b[39m.\u001b[39mloc[record_idx, \u001b[39m'\u001b[39m\u001b[39mcase\u001b[39m\u001b[39m'\u001b[39m] \u001b[39m=\u001b[39m case\n",
      "File \u001b[1;32mc:\\Users\\Tianyi Zheng\\OneDrive - neuron.t.u-tokyo.ac.jp\\Documents\\zheng\\mywork\\attention_tES\\tes-attention\\processing\\behavior\\func4behav.py:211\u001b[0m, in \u001b[0;36mfit_exgaussian\u001b[1;34m(data, cutoff)\u001b[0m\n\u001b[0;32m    209\u001b[0m x \u001b[39m=\u001b[39m np\u001b[39m.\u001b[39mlinspace(\u001b[39m0\u001b[39m, cutoff, \u001b[39m1000\u001b[39m)\n\u001b[0;32m    210\u001b[0m \u001b[39m# Compute the Ex-Gaussian PDF\u001b[39;00m\n\u001b[1;32m--> 211\u001b[0m fitted_values \u001b[39m=\u001b[39m exponnorm\u001b[39m.\u001b[39;49mpdf(x, K, loc, scale)\n\u001b[0;32m    213\u001b[0m log_L \u001b[39m=\u001b[39m log_likelihood(data, x, fitted_values)\n\u001b[0;32m    214\u001b[0m AIC \u001b[39m=\u001b[39m akaike(\u001b[39m3\u001b[39m,log_L)\n",
      "File \u001b[1;32mc:\\ProgramData\\anaconda3\\envs\\mne\\lib\\site-packages\\scipy\\stats\\_distn_infrastructure.py:2102\u001b[0m, in \u001b[0;36mrv_continuous.pdf\u001b[1;34m(self, x, *args, **kwds)\u001b[0m\n\u001b[0;32m   2100\u001b[0m     goodargs \u001b[39m=\u001b[39m argsreduce(cond, \u001b[39m*\u001b[39m((x,)\u001b[39m+\u001b[39margs\u001b[39m+\u001b[39m(scale,)))\n\u001b[0;32m   2101\u001b[0m     scale, goodargs \u001b[39m=\u001b[39m goodargs[\u001b[39m-\u001b[39m\u001b[39m1\u001b[39m], goodargs[:\u001b[39m-\u001b[39m\u001b[39m1\u001b[39m]\n\u001b[1;32m-> 2102\u001b[0m     place(output, cond, \u001b[39mself\u001b[39;49m\u001b[39m.\u001b[39;49m_pdf(\u001b[39m*\u001b[39;49mgoodargs) \u001b[39m/\u001b[39m scale)\n\u001b[0;32m   2103\u001b[0m \u001b[39mif\u001b[39;00m output\u001b[39m.\u001b[39mndim \u001b[39m==\u001b[39m \u001b[39m0\u001b[39m:\n\u001b[0;32m   2104\u001b[0m     \u001b[39mreturn\u001b[39;00m output[()]\n",
      "File \u001b[1;32mc:\\ProgramData\\anaconda3\\envs\\mne\\lib\\site-packages\\scipy\\stats\\_continuous_distns.py:1779\u001b[0m, in \u001b[0;36mexponnorm_gen._pdf\u001b[1;34m(self, x, K)\u001b[0m\n\u001b[0;32m   1778\u001b[0m \u001b[39mdef\u001b[39;00m \u001b[39m_pdf\u001b[39m(\u001b[39mself\u001b[39m, x, K):\n\u001b[1;32m-> 1779\u001b[0m     \u001b[39mreturn\u001b[39;00m np\u001b[39m.\u001b[39mexp(\u001b[39mself\u001b[39;49m\u001b[39m.\u001b[39;49m_logpdf(x, K))\n",
      "File \u001b[1;32mc:\\ProgramData\\anaconda3\\envs\\mne\\lib\\site-packages\\scipy\\stats\\_continuous_distns.py:1783\u001b[0m, in \u001b[0;36mexponnorm_gen._logpdf\u001b[1;34m(self, x, K)\u001b[0m\n\u001b[0;32m   1781\u001b[0m \u001b[39mdef\u001b[39;00m \u001b[39m_logpdf\u001b[39m(\u001b[39mself\u001b[39m, x, K):\n\u001b[0;32m   1782\u001b[0m     invK \u001b[39m=\u001b[39m \u001b[39m1.0\u001b[39m \u001b[39m/\u001b[39m K\n\u001b[1;32m-> 1783\u001b[0m     exparg \u001b[39m=\u001b[39m invK \u001b[39m*\u001b[39m (\u001b[39m0.5\u001b[39;49m \u001b[39m*\u001b[39;49m invK \u001b[39m-\u001b[39;49m x)\n\u001b[0;32m   1784\u001b[0m     \u001b[39mreturn\u001b[39;00m exparg \u001b[39m+\u001b[39m _norm_logcdf(x \u001b[39m-\u001b[39m invK) \u001b[39m-\u001b[39m np\u001b[39m.\u001b[39mlog(K)\n",
      "\u001b[1;31mKeyboardInterrupt\u001b[0m: "
     ]
    }
   ],
   "source": [
    "all_real = [1, 3, 4, 5, 9, 12, 13, 17, 18]\n",
    "all_sham = [2, 6, 7, 8, 10, 11, 14, 15, 16]\n",
    "case_list = ['all', 'endo', 'exo', 'valid', 'endo valid', 'exo valid', 'invalid', 'endo invalid', 'exo invalid', 'stim left', 'endo stim left', 'endo stim right', 'stim right', 'exo stim left', 'exo stim right']\n",
    "cutoff = 1\n",
    "param_record = distribution_param(case_list, cutoff)"
   ]
  }
 ],
 "metadata": {
  "kernelspec": {
   "display_name": "mne",
   "language": "python",
   "name": "python3"
  },
  "language_info": {
   "codemirror_mode": {
    "name": "ipython",
    "version": 3
   },
   "file_extension": ".py",
   "mimetype": "text/x-python",
   "name": "python",
   "nbconvert_exporter": "python",
   "pygments_lexer": "ipython3",
   "version": "3.9.17"
  },
  "orig_nbformat": 4
 },
 "nbformat": 4,
 "nbformat_minor": 2
}
