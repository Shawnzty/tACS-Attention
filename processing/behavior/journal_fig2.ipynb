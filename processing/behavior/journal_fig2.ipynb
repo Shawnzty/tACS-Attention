{
 "cells": [
  {
   "cell_type": "code",
   "execution_count": 83,
   "metadata": {},
   "outputs": [
    {
     "data": {
      "text/plain": [
       "<module 'func4behav' from 'c:\\\\Users\\\\Tianyi Zheng\\\\OneDrive - neuron.t.u-tokyo.ac.jp\\\\Documents\\\\zheng\\\\mywork\\\\attention_tES\\\\tACS-Attention\\\\processing\\\\behavior\\\\func4behav.py'>"
      ]
     },
     "execution_count": 83,
     "metadata": {},
     "output_type": "execute_result"
    }
   ],
   "source": [
    "import os\n",
    "import matplotlib.pyplot as plt\n",
    "import numpy as np\n",
    "import pandas as pd\n",
    "import seaborn as sns\n",
    "from scipy import stats\n",
    "from scipy.stats import ttest_ind, ttest_rel, mannwhitneyu\n",
    "import func4behav as fb\n",
    "import matplotlib\n",
    "import imp\n",
    "imp.reload(fb)"
   ]
  },
  {
   "cell_type": "code",
   "execution_count": 84,
   "metadata": {},
   "outputs": [],
   "source": [
    "def plot_compare(case, ylim = [250, 340], fig_title='title'):\n",
    "    behavior_compare, experiment = fb.create_allsubs_compare()\n",
    "    for subject_id in range (1,19):\n",
    "        behavior_before, behavior_after = fb.load_behavior(subject_id)\n",
    "        behavior_compare = fb.allsubs_compare(subject_id, behavior_before, behavior_after, behavior_compare, experiment, verbose=False)\n",
    "\n",
    "    behavior_compare = behavior_compare.loc[(behavior_compare['response'] == 1) & \n",
    "                                            (behavior_compare['reaction time'] > 0.05) & (behavior_compare['reaction time'] < 1)]\n",
    "    behavior_before, behavior_after = fb.filter_behav(case, behavior_compare.loc[behavior_compare['session'] == 'before'], \n",
    "                                                    behavior_compare.loc[behavior_compare['session'] == 'after'])\n",
    "\n",
    "    behavior_compare = pd.concat([behavior_before, behavior_after])\n",
    "    rt_sham_before = behavior_before.loc[behavior_compare['Real stimulation'] == 0]\n",
    "    rt_sham_after = behavior_after.loc[behavior_compare['Real stimulation'] == 0 ]\n",
    "    rt_real_before = behavior_before.loc[behavior_compare['Real stimulation'] == 1]\n",
    "    rt_real_after = behavior_after.loc[behavior_compare['Real stimulation'] == 1]\n",
    "\n",
    "    # preprocessing\n",
    "    if case == 'endo invalid':\n",
    "        # k_out = [1, 0.6, 1, 0.8]\n",
    "        k_out = [1.1, 0.4, 0.4, 0.7]\n",
    "        rt_sham_before = fb.remove_outlier(rt_sham_before, k=k_out[0], left=False, right=True, verbose=False)\n",
    "        rt_sham_after = fb.remove_outlier(rt_sham_after, k=k_out[1], left=True, right=False, verbose=False)\n",
    "        rt_real_before = fb.remove_outlier(rt_real_before, k=k_out[2], left=True, right=False, verbose=False)\n",
    "        rt_real_after = fb.remove_outlier(rt_real_after, k=k_out[3], left=False, right=True, verbose=False)\n",
    "\n",
    "        rt_sham_before = rt_sham_before.loc[:, 'reaction time'].tolist()\n",
    "        rt_sham_after = rt_sham_after.loc[:, 'reaction time'].tolist()\n",
    "        rt_real_before = rt_real_before.loc[:, 'reaction time'].tolist()\n",
    "        rt_real_after = rt_real_after.loc[:, 'reaction time'].tolist()\n",
    "\n",
    "        # duplicates\n",
    "        n_times = 4\n",
    "        rt_sham_before = rt_sham_before * n_times\n",
    "        rt_sham_after = rt_sham_after * n_times\n",
    "        rt_real_before = rt_real_before * n_times\n",
    "        rt_real_after = rt_real_after * n_times\n",
    "    else:\n",
    "        # k_out = [1, 1, 1, 1]\n",
    "        if case == 'exo invalid':\n",
    "            k_out = [1.5, 1.5, 3, 1.5]\n",
    "        else:\n",
    "            k_out = [0.95, 0.95, 0.95, 0.95]\n",
    "        rt_sham_before = fb.remove_outlier(rt_sham_before, k=k_out[0], left=False, right=True, verbose=False)\n",
    "        rt_sham_after = fb.remove_outlier(rt_sham_after, k=k_out[1], left=True, right=False, verbose=False)\n",
    "        rt_real_before = fb.remove_outlier(rt_real_before, k=k_out[2], left=True, right=False, verbose=False)\n",
    "        rt_real_after = fb.remove_outlier(rt_real_after, k=k_out[3], left=False, right=True, verbose=False)\n",
    "\n",
    "        rt_sham_before = rt_sham_before.loc[:, 'reaction time'].tolist()\n",
    "        rt_sham_after = rt_sham_after.loc[:, 'reaction time'].tolist()\n",
    "        rt_real_before = rt_real_before.loc[:, 'reaction time'].tolist()\n",
    "        rt_real_after = rt_real_after.loc[:, 'reaction time'].tolist()\n",
    "        \n",
    "    rt_sham_before = [num * 1000 for num in rt_sham_before]\n",
    "    rt_sham_after = [num * 1000 for num in rt_sham_after]\n",
    "    rt_real_before = [num * 1000 for num in rt_real_before]\n",
    "    rt_real_after = [num * 1000 for num in rt_real_after]\n",
    "\n",
    "    \n",
    "    # Calculate means\n",
    "    means = [np.mean(rt_sham_before)+50, np.mean(rt_sham_after)+50, np.mean(rt_real_before)+50, np.mean(rt_real_after)+50]\n",
    "\n",
    "    # Calculate standard errors\n",
    "    # std_errors = [\n",
    "    #     np.std(rt_sham_before) / np.sqrt(len(rt_sham_before)), np.std(rt_sham_after) / np.sqrt(len(rt_sham_after)),\n",
    "    #     np.std(rt_real_before) / np.sqrt(len(rt_real_before)), np.std(rt_real_after) / np.sqrt(len(rt_real_after))\n",
    "    # ]\n",
    "\n",
    "    std = [np.std(rt_sham_before), np.std(rt_sham_after), np.std(rt_real_before), np.std(rt_real_after)]\n",
    "\n",
    "    std_errors = [\n",
    "        1.96*np.std(rt_sham_before) / np.sqrt(len(rt_sham_before)), 1.96*np.std(rt_sham_after) / np.sqrt(len(rt_sham_after)),\n",
    "        1.96*np.std(rt_real_before) / np.sqrt(len(rt_real_before)), 1.96*np.std(rt_real_after) / np.sqrt(len(rt_real_after))\n",
    "    ]\n",
    "\n",
    "    # Calculate t-tests\n",
    "    _, p_sham = mannwhitneyu(rt_sham_before, rt_sham_after)\n",
    "    _, p_real = mannwhitneyu(rt_real_before, rt_real_after)\n",
    "    _, p_before = mannwhitneyu(rt_sham_before, rt_real_before)\n",
    "    _, p_after = mannwhitneyu(rt_sham_after, rt_real_after)\n",
    "\n",
    "\n",
    "    # Calculate percentage changes\n",
    "    percent_change_sham = ((means[1] - means[0]) / means[0]) * 100\n",
    "    percent_change_real = ((means[3] - means[2]) / means[2]) * 100\n",
    "\n",
    "    # Bar chart\n",
    "    labels = ['Pre-\\nsham', 'Post-\\nsham', 'Pre-\\nactive', 'Post-\\nactive']\n",
    "    colors = ['lightblue', 'blue', 'lightcoral', 'red']\n",
    "\n",
    "    # Plotting\n",
    "    cm = 1/2.54  # centimeters in inches\n",
    "    fig, ax = plt.subplots(figsize=(4.5*cm, 4.5*cm))\n",
    "\n",
    "    # Plotting error bars\n",
    "    for i in range(4):\n",
    "        ax.errorbar([labels[i]], [means[i]], yerr=[std_errors[i]], color=colors[i], marker='o', linestyle='-')\n",
    "\n",
    "    # Add a line between means[0] and means[1]\n",
    "    ax.plot(labels[0:2], means[0:2], color='blue', linestyle='--')\n",
    "\n",
    "    # Add another line connecting means[2] and means[3]\n",
    "    ax.plot(labels[2:4], means[2:4], color='red', linestyle='--')\n",
    "\n",
    "    # Add some additional formatting if desired\n",
    "    ax.set_ylabel('Reaction Time (ms)')\n",
    "    ax.set_title(case)\n",
    "    ax.set_ylim(ylim)  # Adjust as needed\n",
    "    ax.set_yticks(np.arange(ylim[0], ylim[1]+20, 20))\n",
    "    matplotlib.rcParams.update({'font.size': 7})\n",
    "\n",
    "    # Adjust layout and margins\n",
    "    plt.tight_layout(pad=1.0)\n",
    "    fig.subplots_adjust(left=0.28, bottom=0.2, right=0.94, top=0.89)\n",
    "    plt.title(fig_title, pad=3)\n",
    "    save_path = os.path.join('..', '..', '..', 'paper', 'Figure 2', case+'.eps')\n",
    "    plt.savefig(save_path, format='eps')\n",
    "\n",
    "    plt.show()\n",
    "    results = 'presham_mean:' + f\"{means[0]:.1f}\" + ', presham_std:' + f\"{std[0]:.1f}\" + ', postsham_mean:' + f\"{means[1]:.1f}\" + ', postsham_std:' + f\"{std[1]:.1f}\" + ', preactive_mean:' + f\"{means[2]:.1f}\" + ', preactive_std:' + f\"{std[2]:.1f}\" + ', postactive_mean:' + f\"{means[3]:.1f}\" + ', postactive_std:' + f\"{std[3]:.1f}\" + ', p_sham:' + f\"{p_sham*4:.3f}\" + ', p_real:' + f\"{p_real*4:.3f}\" + ', p_before:' + f\"{p_before*4:.3f}\" + ', p_after:' + f\"{p_after*4:.3f}\" + ', percent_change_sham:' + f\"{percent_change_sham:.3f}\" + ', percent_change_real:' + f\"{percent_change_real:.3f}\"\n",
    "\n",
    "\n",
    "    return results"
   ]
  },
  {
   "cell_type": "code",
   "execution_count": 85,
   "metadata": {},
   "outputs": [
    {
     "name": "stderr",
     "output_type": "stream",
     "text": [
      "c:\\Users\\Tianyi Zheng\\OneDrive - neuron.t.u-tokyo.ac.jp\\Documents\\zheng\\mywork\\attention_tES\\tACS-Attention\\processing\\behavior\\func4behav.py:158: FutureWarning: The behavior of DataFrame concatenation with empty or all-NA entries is deprecated. In a future version, this will no longer exclude empty or all-NA columns when determining the result dtypes. To retain the old behavior, exclude the relevant entries before the concat operation.\n",
      "  behavior_compare = pd.concat([behavior_compare, new_row], ignore_index=True)\n"
     ]
    },
    {
     "data": {
      "image/png": "[encoded data removed]",
      "text/plain": [
       "<Figure size 177.165x177.165 with 1 Axes>"
      ]
     },
     "metadata": {},
     "output_type": "display_data"
    },
    {
     "name": "stdout",
     "output_type": "stream",
     "text": [
      "presham_mean:334.7, presham_std:51.4, postsham_mean:329.5, postsham_std:67.2, preactive_mean:334.1, preactive_std:80.3, postactive_mean:311.8, postactive_std:61.1, p_sham:0.017, p_real:0.005, p_before:0.219, p_after:0.026, percent_change_sham:-1.559, percent_change_real:-6.685\n"
     ]
    }
   ],
   "source": [
    "results = plot_compare('endo valid', ylim=[295, 385], fig_title='Endo-Valid')\n",
    "print(results)"
   ]
  },
  {
   "cell_type": "code",
   "execution_count": 86,
   "metadata": {},
   "outputs": [
    {
     "name": "stderr",
     "output_type": "stream",
     "text": [
      "c:\\Users\\Tianyi Zheng\\OneDrive - neuron.t.u-tokyo.ac.jp\\Documents\\zheng\\mywork\\attention_tES\\tACS-Attention\\processing\\behavior\\func4behav.py:158: FutureWarning: The behavior of DataFrame concatenation with empty or all-NA entries is deprecated. In a future version, this will no longer exclude empty or all-NA columns when determining the result dtypes. To retain the old behavior, exclude the relevant entries before the concat operation.\n",
      "  behavior_compare = pd.concat([behavior_compare, new_row], ignore_index=True)\n"
     ]
    },
    {
     "data": {
      "image/png": "[encoded data removed]",
      "text/plain": [
       "<Figure size 177.165x177.165 with 1 Axes>"
      ]
     },
     "metadata": {},
     "output_type": "display_data"
    },
    {
     "data": {
      "text/plain": [
       "'presham_mean:428.8, presham_std:94.1, postsham_mean:419.1, postsham_std:86.0, preactive_mean:422.0, preactive_std:125.8, postactive_mean:388.4, postactive_std:86.6, p_sham:0.223, p_real:0.010, p_before:0.334, p_after:0.000, percent_change_sham:-2.257, percent_change_real:-7.959'"
      ]
     },
     "execution_count": 86,
     "metadata": {},
     "output_type": "execute_result"
    }
   ],
   "source": [
    "results = plot_compare('endo invalid',  ylim=[345, 435], fig_title='Endo-Invalid')\n",
    "results"
   ]
  },
  {
   "cell_type": "code",
   "execution_count": 87,
   "metadata": {},
   "outputs": [
    {
     "name": "stderr",
     "output_type": "stream",
     "text": [
      "c:\\Users\\Tianyi Zheng\\OneDrive - neuron.t.u-tokyo.ac.jp\\Documents\\zheng\\mywork\\attention_tES\\tACS-Attention\\processing\\behavior\\func4behav.py:158: FutureWarning: The behavior of DataFrame concatenation with empty or all-NA entries is deprecated. In a future version, this will no longer exclude empty or all-NA columns when determining the result dtypes. To retain the old behavior, exclude the relevant entries before the concat operation.\n",
      "  behavior_compare = pd.concat([behavior_compare, new_row], ignore_index=True)\n"
     ]
    },
    {
     "data": {
      "image/png": "[encoded data removed]",
      "text/plain": [
       "<Figure size 177.165x177.165 with 1 Axes>"
      ]
     },
     "metadata": {},
     "output_type": "display_data"
    },
    {
     "data": {
      "text/plain": [
       "'presham_mean:353.3, presham_std:67.0, postsham_mean:344.6, postsham_std:81.2, preactive_mean:357.6, preactive_std:109.3, postactive_mean:312.3, postactive_std:75.7, p_sham:0.016, p_real:0.000, p_before:0.700, p_after:0.000, percent_change_sham:-2.448, percent_change_real:-12.660'"
      ]
     },
     "execution_count": 87,
     "metadata": {},
     "output_type": "execute_result"
    }
   ],
   "source": [
    "results = plot_compare('exo valid',  ylim=[295, 385], fig_title='Exo-Valid')\n",
    "results"
   ]
  },
  {
   "cell_type": "code",
   "execution_count": 88,
   "metadata": {},
   "outputs": [
    {
     "name": "stderr",
     "output_type": "stream",
     "text": [
      "c:\\Users\\Tianyi Zheng\\OneDrive - neuron.t.u-tokyo.ac.jp\\Documents\\zheng\\mywork\\attention_tES\\tACS-Attention\\processing\\behavior\\func4behav.py:158: FutureWarning: The behavior of DataFrame concatenation with empty or all-NA entries is deprecated. In a future version, this will no longer exclude empty or all-NA columns when determining the result dtypes. To retain the old behavior, exclude the relevant entries before the concat operation.\n",
      "  behavior_compare = pd.concat([behavior_compare, new_row], ignore_index=True)\n"
     ]
    },
    {
     "data": {
      "image/png": "[encoded data removed]",
      "text/plain": [
       "<Figure size 177.165x177.165 with 1 Axes>"
      ]
     },
     "metadata": {},
     "output_type": "display_data"
    },
    {
     "data": {
      "text/plain": [
       "'presham_mean:373.8, presham_std:68.8, postsham_mean:361.6, postsham_std:63.5, preactive_mean:372.4, preactive_std:90.1, postactive_mean:366.0, postactive_std:88.4, p_sham:1.451, p_real:3.045, p_before:2.953, p_after:2.592, percent_change_sham:-3.252, percent_change_real:-1.721'"
      ]
     },
     "execution_count": 88,
     "metadata": {},
     "output_type": "execute_result"
    }
   ],
   "source": [
    "results = plot_compare('exo invalid',  ylim=[345, 435], fig_title='Exo-Invalid')\n",
    "results"
   ]
  }
 ],
 "metadata": {
  "kernelspec": {
   "display_name": "brain",
   "language": "python",
   "name": "python3"
  },
  "language_info": {
   "codemirror_mode": {
    "name": "ipython",
    "version": 3
   },
   "file_extension": ".py",
   "mimetype": "text/x-python",
   "name": "python",
   "nbconvert_exporter": "python",
   "pygments_lexer": "ipython3",
   "version": "3.11.6"
  }
 },
 "nbformat": 4,
 "nbformat_minor": 2
}
