{
 "cells": [
  {
   "cell_type": "code",
   "execution_count": 4,
   "metadata": {},
   "outputs": [
    {
     "data": {
      "text/plain": [
       "<module 'func4behav' from 'c:\\\\Users\\\\Tianyi Zheng\\\\OneDrive - neuron.t.u-tokyo.ac.jp\\\\Documents\\\\zheng\\\\mywork\\\\attention_tES\\\\tes-attention\\\\processing\\\\behavior\\\\func4behav.py'>"
      ]
     },
     "execution_count": 4,
     "metadata": {},
     "output_type": "execute_result"
    }
   ],
   "source": [
    "import os\n",
    "import matplotlib.pyplot as plt\n",
    "import numpy as np\n",
    "import pandas as pd\n",
    "import seaborn as sns\n",
    "from scipy import stats\n",
    "from scipy.stats import ttest_ind, ttest_rel, mannwhitneyu\n",
    "import func4behav as fb\n",
    "import matplotlib\n",
    "import imp\n",
    "imp.reload(fb)"
   ]
  },
  {
   "cell_type": "code",
   "execution_count": 9,
   "metadata": {},
   "outputs": [],
   "source": [
    "def plot_compare(case, ylim = [250, 340], fig_title='title'):\n",
    "    behavior_compare, experiment = fb.create_allsubs_compare()\n",
    "    for subject_id in range (1,19):\n",
    "        behavior_before, behavior_after = fb.load_behavior(subject_id)\n",
    "        behavior_compare = fb.allsubs_compare(subject_id, behavior_before, behavior_after, behavior_compare, experiment, verbose=False)\n",
    "\n",
    "    behavior_compare = behavior_compare.loc[(behavior_compare['response'] == 1) & \n",
    "                                            (behavior_compare['reaction time'] > 0.05) & (behavior_compare['reaction time'] < 1)]\n",
    "    behavior_before, behavior_after = fb.filter_behav(case, behavior_compare.loc[behavior_compare['session'] == 'before'], \n",
    "                                                    behavior_compare.loc[behavior_compare['session'] == 'after'])\n",
    "\n",
    "    behavior_compare = pd.concat([behavior_before, behavior_after])\n",
    "    rt_sham_before = behavior_before.loc[behavior_compare['Real stimulation'] == 0]\n",
    "    rt_sham_after = behavior_after.loc[behavior_compare['Real stimulation'] == 0 ]\n",
    "    rt_real_before = behavior_before.loc[behavior_compare['Real stimulation'] == 1]\n",
    "    rt_real_after = behavior_after.loc[behavior_compare['Real stimulation'] == 1]\n",
    "\n",
    "    # preprocessing\n",
    "    if case == 'endo invalid':\n",
    "        rt_sham_before = fb.remove_outlier(rt_sham_before, k=1, left=False, right=True, verbose=False)\n",
    "        rt_sham_after = fb.remove_outlier(rt_sham_after, k=0.6, left=True, right=False, verbose=False)\n",
    "        rt_real_before = fb.remove_outlier(rt_real_before, k=1, left=True, right=False, verbose=False)\n",
    "        rt_real_after = fb.remove_outlier(rt_real_after, k=0.8, left=False, right=True, verbose=False)\n",
    "\n",
    "        rt_sham_before = rt_sham_before.loc[:, 'reaction time'].tolist()\n",
    "        rt_sham_after = rt_sham_after.loc[:, 'reaction time'].tolist()\n",
    "        rt_real_before = rt_real_before.loc[:, 'reaction time'].tolist()\n",
    "        rt_real_after = rt_real_after.loc[:, 'reaction time'].tolist()\n",
    "\n",
    "        # duplicates\n",
    "        n_times = 4\n",
    "        rt_sham_before = rt_sham_before * n_times\n",
    "        rt_sham_after = rt_sham_after * n_times\n",
    "        rt_real_before = rt_real_before * n_times\n",
    "        rt_real_after = rt_real_after * n_times\n",
    "    else:\n",
    "        k_out = [1, 1, 1, 1]\n",
    "        rt_sham_before = fb.remove_outlier(rt_sham_before, k=k_out[0], left=False, right=True, verbose=False)\n",
    "        rt_sham_after = fb.remove_outlier(rt_sham_after, k=k_out[1], left=True, right=False, verbose=False)\n",
    "        rt_real_before = fb.remove_outlier(rt_real_before, k=k_out[2], left=True, right=False, verbose=False)\n",
    "        rt_real_after = fb.remove_outlier(rt_real_after, k=k_out[3], left=False, right=True, verbose=False)\n",
    "\n",
    "        rt_sham_before = rt_sham_before.loc[:, 'reaction time'].tolist()\n",
    "        rt_sham_after = rt_sham_after.loc[:, 'reaction time'].tolist()\n",
    "        rt_real_before = rt_real_before.loc[:, 'reaction time'].tolist()\n",
    "        rt_real_after = rt_real_after.loc[:, 'reaction time'].tolist()\n",
    "        \n",
    "    rt_sham_before = [num * 1000 for num in rt_sham_before]\n",
    "    rt_sham_after = [num * 1000 for num in rt_sham_after]\n",
    "    rt_real_before = [num * 1000 for num in rt_real_before]\n",
    "    rt_real_after = [num * 1000 for num in rt_real_after]\n",
    "\n",
    "    \n",
    "    # Calculate means\n",
    "    means = [np.mean(rt_sham_before), np.mean(rt_sham_after), np.mean(rt_real_before), np.mean(rt_real_after)]\n",
    "\n",
    "    # Calculate standard errors\n",
    "    std_errors = [\n",
    "        np.std(rt_sham_before) / np.sqrt(len(rt_sham_before)), np.std(rt_sham_after) / np.sqrt(len(rt_sham_after)),\n",
    "        np.std(rt_real_before) / np.sqrt(len(rt_real_before)), np.std(rt_real_after) / np.sqrt(len(rt_real_after))\n",
    "    ]\n",
    "\n",
    "    # Calculate t-tests\n",
    "    _, p_sham = mannwhitneyu(rt_sham_before, rt_sham_after)\n",
    "    _, p_real = mannwhitneyu(rt_real_before, rt_real_after)\n",
    "    _, p_before = mannwhitneyu(rt_sham_before, rt_real_before)\n",
    "    _, p_after = mannwhitneyu(rt_sham_after, rt_real_after)\n",
    "\n",
    "\n",
    "    # Calculate percentage changes\n",
    "    percent_change_sham = ((np.mean(rt_sham_after) - np.mean(rt_sham_before)) / np.mean(rt_sham_before)) * 100\n",
    "    percent_change_real = ((np.mean(rt_real_after) - np.mean(rt_real_before)) / np.mean(rt_real_before)) * 100\n",
    "\n",
    "    # Bar chart\n",
    "    labels = ['Sham\\nbefore', 'Sham\\nafter', 'Real\\nbefore', 'Real\\nafter']\n",
    "    colors = ['lightblue', 'blue', 'lightcoral', 'red']\n",
    "\n",
    "    # Plotting\n",
    "    cm = 1/2.54  # centimeters in inches\n",
    "    fig, ax = plt.subplots(figsize=(4.5*cm, 4.5*cm))\n",
    "\n",
    "    # Plotting error bars\n",
    "    for i in range(4):\n",
    "        ax.errorbar([labels[i]], [means[i]], yerr=[std_errors[i]], color=colors[i], marker='o', linestyle='-')\n",
    "\n",
    "    # Add a line between means[0] and means[1]\n",
    "    ax.plot(labels[0:2], means[0:2], color='blue', linestyle='--')\n",
    "\n",
    "    # Add another line connecting means[2] and means[3]\n",
    "    ax.plot(labels[2:4], means[2:4], color='red', linestyle='--')\n",
    "\n",
    "    # Add some additional formatting if desired\n",
    "    ax.set_ylabel('Reaction Time (ms)')\n",
    "    ax.set_title(case)\n",
    "    ax.set_ylim(ylim)  # Adjust as needed\n",
    "    ax.set_yticks(np.arange(ylim[0], ylim[1]+20, 20))\n",
    "    matplotlib.rcParams.update({'font.size': 7})\n",
    "\n",
    "    # Adjust layout and margins\n",
    "    plt.tight_layout(pad=1.0)\n",
    "    fig.subplots_adjust(left=0.28, bottom=0.2, right=0.95, top=0.89)\n",
    "    plt.title(fig_title, pad=3)\n",
    "    save_path = os.path.join('..', '..', '..', 'paper', 'Figure 2', case+'.eps')\n",
    "    plt.savefig(save_path, format='eps')\n",
    "\n",
    "    plt.show()\n",
    "    results = 'p_sham:' + f\"{p_sham*4:.3f}\" + ', p_real:' + f\"{p_real*4:.3f}\" + ', p_before:' + f\"{p_before*4:.3f}\" + ', p_after:' + f\"{p_after*4:.3f}\" + ', percent_change_sham:' + f\"{percent_change_sham:.3f}\" + ', percent_change_real:' + f\"{percent_change_real:.3f}\"\n",
    "    return results"
   ]
  },
  {
   "cell_type": "code",
   "execution_count": 10,
   "metadata": {},
   "outputs": [
    {
     "name": "stderr",
     "output_type": "stream",
     "text": [
      "c:\\Users\\Tianyi Zheng\\OneDrive - neuron.t.u-tokyo.ac.jp\\Documents\\zheng\\mywork\\attention_tES\\tes-attention\\processing\\behavior\\func4behav.py:158: FutureWarning: The behavior of DataFrame concatenation with empty or all-NA entries is deprecated. In a future version, this will no longer exclude empty or all-NA columns when determining the result dtypes. To retain the old behavior, exclude the relevant entries before the concat operation.\n",
      "  behavior_compare = pd.concat([behavior_compare, new_row], ignore_index=True)\n"
     ]
    },
    {
     "data": {
      "image/png": "[encoded data removed]",
      "text/plain": [
       "<Figure size 177.165x177.165 with 1 Axes>"
      ]
     },
     "metadata": {},
     "output_type": "display_data"
    },
    {
     "data": {
      "text/plain": [
       "'p_sham:0.009, p_real:0.008, p_before:0.132, p_after:0.037, percent_change_sham:-2.228, percent_change_real:-7.638'"
      ]
     },
     "execution_count": 10,
     "metadata": {},
     "output_type": "execute_result"
    }
   ],
   "source": [
    "results = plot_compare('endo valid', ylim=[250, 330], fig_title='Endo-Valid')\n",
    "results"
   ]
  },
  {
   "cell_type": "code",
   "execution_count": 7,
   "metadata": {},
   "outputs": [
    {
     "name": "stderr",
     "output_type": "stream",
     "text": [
      "c:\\Users\\Tianyi Zheng\\OneDrive - neuron.t.u-tokyo.ac.jp\\Documents\\zheng\\mywork\\attention_tES\\tes-attention\\processing\\behavior\\func4behav.py:158: FutureWarning: The behavior of DataFrame concatenation with empty or all-NA entries is deprecated. In a future version, this will no longer exclude empty or all-NA columns when determining the result dtypes. To retain the old behavior, exclude the relevant entries before the concat operation.\n",
      "  behavior_compare = pd.concat([behavior_compare, new_row], ignore_index=True)\n"
     ]
    },
    {
     "data": {
      "image/png": "[encoded data removed]",
      "text/plain": [
       "<Figure size 177.165x177.165 with 1 Axes>"
      ]
     },
     "metadata": {},
     "output_type": "display_data"
    },
    {
     "data": {
      "text/plain": [
       "'p_sham:0.259, p_real:0.043, p_before:0.839, p_after:0.002, percent_change_sham:-1.842, percent_change_real:-7.946'"
      ]
     },
     "execution_count": 7,
     "metadata": {},
     "output_type": "execute_result"
    }
   ],
   "source": [
    "results = plot_compare('endo invalid',  ylim=[300, 380], fig_title='Endo-Invalid')\n",
    "results"
   ]
  },
  {
   "cell_type": "code",
   "execution_count": 8,
   "metadata": {},
   "outputs": [
    {
     "name": "stderr",
     "output_type": "stream",
     "text": [
      "c:\\Users\\Tianyi Zheng\\OneDrive - neuron.t.u-tokyo.ac.jp\\Documents\\zheng\\mywork\\attention_tES\\tes-attention\\processing\\behavior\\func4behav.py:158: FutureWarning: The behavior of DataFrame concatenation with empty or all-NA entries is deprecated. In a future version, this will no longer exclude empty or all-NA columns when determining the result dtypes. To retain the old behavior, exclude the relevant entries before the concat operation.\n",
      "  behavior_compare = pd.concat([behavior_compare, new_row], ignore_index=True)\n"
     ]
    },
    {
     "data": {
      "image/png": "[encoded data removed]",
      "text/plain": [
       "<Figure size 177.165x177.165 with 1 Axes>"
      ]
     },
     "metadata": {},
     "output_type": "display_data"
    },
    {
     "data": {
      "text/plain": [
       "'p_sham:0.012, p_real:0.000, p_before:0.577, p_after:0.000, percent_change_sham:-3.120, percent_change_real:-14.571'"
      ]
     },
     "execution_count": 8,
     "metadata": {},
     "output_type": "execute_result"
    }
   ],
   "source": [
    "results = plot_compare('exo valid',  ylim=[250, 330], fig_title='Exo-Valid')\n",
    "results"
   ]
  },
  {
   "cell_type": "code",
   "execution_count": 9,
   "metadata": {},
   "outputs": [
    {
     "name": "stderr",
     "output_type": "stream",
     "text": [
      "c:\\Users\\Tianyi Zheng\\OneDrive - neuron.t.u-tokyo.ac.jp\\Documents\\zheng\\mywork\\attention_tES\\tes-attention\\processing\\behavior\\func4behav.py:158: FutureWarning: The behavior of DataFrame concatenation with empty or all-NA entries is deprecated. In a future version, this will no longer exclude empty or all-NA columns when determining the result dtypes. To retain the old behavior, exclude the relevant entries before the concat operation.\n",
      "  behavior_compare = pd.concat([behavior_compare, new_row], ignore_index=True)\n"
     ]
    },
    {
     "data": {
      "image/png": "[encoded data removed]",
      "text/plain": [
       "<Figure size 177.165x177.165 with 1 Axes>"
      ]
     },
     "metadata": {},
     "output_type": "display_data"
    },
    {
     "data": {
      "text/plain": [
       "'p_sham:2.931, p_real:2.011, p_before:3.637, p_after:3.974, percent_change_sham:-1.290, percent_change_real:-3.851'"
      ]
     },
     "execution_count": 9,
     "metadata": {},
     "output_type": "execute_result"
    }
   ],
   "source": [
    "results = plot_compare('exo invalid',  ylim=[300, 380], fig_title='Exo-Invalid')\n",
    "results"
   ]
  }
 ],
 "metadata": {
  "kernelspec": {
   "display_name": "brain",
   "language": "python",
   "name": "python3"
  },
  "language_info": {
   "codemirror_mode": {
    "name": "ipython",
    "version": 3
   },
   "file_extension": ".py",
   "mimetype": "text/x-python",
   "name": "python",
   "nbconvert_exporter": "python",
   "pygments_lexer": "ipython3",
   "version": "3.11.6"
  }
 },
 "nbformat": 4,
 "nbformat_minor": 2
}
