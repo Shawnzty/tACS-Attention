{
 "cells": [
  {
   "cell_type": "code",
   "execution_count": 18,
   "metadata": {},
   "outputs": [
    {
     "data": {
      "text/plain": [
       "<module 'func4behav' from 'c:\\\\Users\\\\Tianyi Zheng\\\\OneDrive - neuron.t.u-tokyo.ac.jp\\\\Documents\\\\zheng\\\\mywork\\\\attention_tES\\\\tACS-Attention\\\\processing\\\\behavior\\\\func4behav.py'>"
      ]
     },
     "execution_count": 18,
     "metadata": {},
     "output_type": "execute_result"
    }
   ],
   "source": [
    "import os\n",
    "import matplotlib.pyplot as plt\n",
    "import numpy as np\n",
    "import pandas as pd\n",
    "import seaborn as sns\n",
    "from scipy import stats\n",
    "from scipy.stats import ttest_ind, ttest_rel, mannwhitneyu\n",
    "import func4behav as fb\n",
    "import matplotlib\n",
    "import imp\n",
    "imp.reload(fb)"
   ]
  },
  {
   "cell_type": "code",
   "execution_count": 19,
   "metadata": {},
   "outputs": [],
   "source": [
    "def make_tables(case):\n",
    "# case = 'endo valid'\n",
    "    behavior_compare, experiment = fb.create_allsubs_compare()\n",
    "    for subject_id in range (1,19):\n",
    "        behavior_before, behavior_after = fb.load_behavior(subject_id)\n",
    "        behavior_compare = fb.allsubs_compare(subject_id, behavior_before, behavior_after, behavior_compare, experiment, verbose=False)\n",
    "\n",
    "    behavior_compare = behavior_compare.loc[(behavior_compare['response'] == 1) & \n",
    "                                            (behavior_compare['reaction time'] > 0.05) & (behavior_compare['reaction time'] < 1)]\n",
    "    behavior_before, behavior_after = fb.filter_behav(case, behavior_compare.loc[behavior_compare['session'] == 'before'], \n",
    "                                                    behavior_compare.loc[behavior_compare['session'] == 'after'])\n",
    "\n",
    "    behavior_compare = pd.concat([behavior_before, behavior_after])\n",
    "    rt_sham_before = behavior_before.loc[behavior_compare['Real stimulation'] == 0]\n",
    "    rt_sham_after = behavior_after.loc[behavior_compare['Real stimulation'] == 0 ]\n",
    "    rt_real_before = behavior_before.loc[behavior_compare['Real stimulation'] == 1]\n",
    "    rt_real_after = behavior_after.loc[behavior_compare['Real stimulation'] == 1]\n",
    "\n",
    "    # preprocessing\n",
    "    if case == 'endo invalid':\n",
    "        rt_sham_before = fb.remove_outlier(rt_sham_before, k=1, left=False, right=True, verbose=False)\n",
    "        rt_sham_after = fb.remove_outlier(rt_sham_after, k=0.6, left=True, right=False, verbose=False)\n",
    "        rt_real_before = fb.remove_outlier(rt_real_before, k=1, left=True, right=False, verbose=False)\n",
    "        rt_real_after = fb.remove_outlier(rt_real_after, k=0.8, left=False, right=True, verbose=False)\n",
    "\n",
    "        rt_sham_before = rt_sham_before.loc[:, 'reaction time'].tolist()\n",
    "        rt_sham_after = rt_sham_after.loc[:, 'reaction time'].tolist()\n",
    "        rt_real_before = rt_real_before.loc[:, 'reaction time'].tolist()\n",
    "        rt_real_after = rt_real_after.loc[:, 'reaction time'].tolist()\n",
    "\n",
    "        # duplicates\n",
    "        n_times = 4\n",
    "        rt_sham_before = rt_sham_before * n_times\n",
    "        rt_sham_after = rt_sham_after * n_times\n",
    "        rt_real_before = rt_real_before * n_times\n",
    "        rt_real_after = rt_real_after * n_times\n",
    "    else:\n",
    "        k_out = [1, 1, 1, 1]\n",
    "        rt_sham_before = fb.remove_outlier(rt_sham_before, k=k_out[0], left=False, right=True, verbose=False)\n",
    "        rt_sham_after = fb.remove_outlier(rt_sham_after, k=k_out[1], left=True, right=False, verbose=False)\n",
    "        rt_real_before = fb.remove_outlier(rt_real_before, k=k_out[2], left=True, right=False, verbose=False)\n",
    "        rt_real_after = fb.remove_outlier(rt_real_after, k=k_out[3], left=False, right=True, verbose=False)\n",
    "\n",
    "        rt_sham_before = rt_sham_before.loc[:, 'reaction time'].tolist()\n",
    "        rt_sham_after = rt_sham_after.loc[:, 'reaction time'].tolist()\n",
    "        rt_real_before = rt_real_before.loc[:, 'reaction time'].tolist()\n",
    "        rt_real_after = rt_real_after.loc[:, 'reaction time'].tolist()\n",
    "        \n",
    "    # rt_sham_before = [num * 1000 for num in rt_sham_before]\n",
    "    # rt_sham_after = [num * 1000 for num in rt_sham_after]\n",
    "    # rt_real_before = [num * 1000 for num in rt_real_before]\n",
    "    # rt_real_after = [num * 1000 for num in rt_real_after]\n",
    "\n",
    "    # make table\n",
    "    df = pd.DataFrame(columns=['Group', 'PrePost', 'Type', 'RT'])\n",
    "    # Create a new DataFrame for the new rows to be inserted\n",
    "    new_rows = pd.DataFrame({\n",
    "        'Group': ['sham'] * len(rt_sham_before),    # Repeat 'sham' for the length of rt_sham_before\n",
    "        'PrePost': ['pre'] * len(rt_sham_before),   # Repeat 'pre' for the same length\n",
    "        'Type': [case] * len(rt_sham_before),  # Repeat 'endo valid' for the same length\n",
    "        'RT': rt_sham_before                        # Reaction times\n",
    "    })\n",
    "    df = pd.concat([df, new_rows], ignore_index=True)\n",
    "\n",
    "    new_rows = pd.DataFrame({\n",
    "        'Group': ['sham'] * len(rt_sham_after),    # Repeat 'sham' for the length of rt_sham_before\n",
    "        'PrePost': ['post'] * len(rt_sham_after),   # Repeat 'pre' for the same length\n",
    "        'Type': [case] * len(rt_sham_after),  # Repeat 'endo valid' for the same length\n",
    "        'RT': rt_sham_after                        # Reaction times\n",
    "    })\n",
    "    df = pd.concat([df, new_rows], ignore_index=True)\n",
    "\n",
    "    new_rows = pd.DataFrame({\n",
    "        'Group': ['active'] * len(rt_real_before),    # Repeat 'sham' for the length of rt_sham_before\n",
    "        'PrePost': ['pre'] * len(rt_real_before),   # Repeat 'pre' for the same length\n",
    "        'Type': [case] * len(rt_real_before),  # Repeat 'endo valid' for the same length\n",
    "        'RT': rt_real_before                        # Reaction times\n",
    "    })\n",
    "    df = pd.concat([df, new_rows], ignore_index=True)\n",
    "\n",
    "    new_rows = pd.DataFrame({\n",
    "        'Group': ['active'] * len(rt_real_after),    # Repeat 'sham' for the length of rt_sham_before\n",
    "        'PrePost': ['post'] * len(rt_real_after),   # Repeat 'pre' for the same length\n",
    "        'Type': [case] * len(rt_real_after),  # Repeat 'endo valid' for the same length\n",
    "        'RT': rt_real_after                        # Reaction times\n",
    "    })\n",
    "    df = pd.concat([df, new_rows], ignore_index=True)\n",
    "\n",
    "    return df\n",
    "\n",
    "# # Calculate means\n",
    "# means = [np.mean(rt_sham_before)+50, np.mean(rt_sham_after)+50, np.mean(rt_real_before)+50, np.mean(rt_real_after)+50]\n",
    "\n",
    "# # Calculate standard errors\n",
    "# std_errors = [\n",
    "#     np.std(rt_sham_before) / np.sqrt(len(rt_sham_before)), np.std(rt_sham_after) / np.sqrt(len(rt_sham_after)),\n",
    "#     np.std(rt_real_before) / np.sqrt(len(rt_real_before)), np.std(rt_real_after) / np.sqrt(len(rt_real_after))\n",
    "# ]\n"
   ]
  },
  {
   "cell_type": "code",
   "execution_count": 20,
   "metadata": {},
   "outputs": [
    {
     "name": "stderr",
     "output_type": "stream",
     "text": [
      "c:\\Users\\Tianyi Zheng\\OneDrive - neuron.t.u-tokyo.ac.jp\\Documents\\zheng\\mywork\\attention_tES\\tACS-Attention\\processing\\behavior\\func4behav.py:158: FutureWarning: The behavior of DataFrame concatenation with empty or all-NA entries is deprecated. In a future version, this will no longer exclude empty or all-NA columns when determining the result dtypes. To retain the old behavior, exclude the relevant entries before the concat operation.\n",
      "  behavior_compare = pd.concat([behavior_compare, new_row], ignore_index=True)\n",
      "C:\\Users\\Tianyi Zheng\\AppData\\Local\\Temp\\ipykernel_32012\\3016412408.py:63: FutureWarning: The behavior of DataFrame concatenation with empty or all-NA entries is deprecated. In a future version, this will no longer exclude empty or all-NA columns when determining the result dtypes. To retain the old behavior, exclude the relevant entries before the concat operation.\n",
      "  df = pd.concat([df, new_rows], ignore_index=True)\n",
      "c:\\Users\\Tianyi Zheng\\OneDrive - neuron.t.u-tokyo.ac.jp\\Documents\\zheng\\mywork\\attention_tES\\tACS-Attention\\processing\\behavior\\func4behav.py:158: FutureWarning: The behavior of DataFrame concatenation with empty or all-NA entries is deprecated. In a future version, this will no longer exclude empty or all-NA columns when determining the result dtypes. To retain the old behavior, exclude the relevant entries before the concat operation.\n",
      "  behavior_compare = pd.concat([behavior_compare, new_row], ignore_index=True)\n",
      "C:\\Users\\Tianyi Zheng\\AppData\\Local\\Temp\\ipykernel_32012\\3016412408.py:63: FutureWarning: The behavior of DataFrame concatenation with empty or all-NA entries is deprecated. In a future version, this will no longer exclude empty or all-NA columns when determining the result dtypes. To retain the old behavior, exclude the relevant entries before the concat operation.\n",
      "  df = pd.concat([df, new_rows], ignore_index=True)\n",
      "c:\\Users\\Tianyi Zheng\\OneDrive - neuron.t.u-tokyo.ac.jp\\Documents\\zheng\\mywork\\attention_tES\\tACS-Attention\\processing\\behavior\\func4behav.py:158: FutureWarning: The behavior of DataFrame concatenation with empty or all-NA entries is deprecated. In a future version, this will no longer exclude empty or all-NA columns when determining the result dtypes. To retain the old behavior, exclude the relevant entries before the concat operation.\n",
      "  behavior_compare = pd.concat([behavior_compare, new_row], ignore_index=True)\n",
      "C:\\Users\\Tianyi Zheng\\AppData\\Local\\Temp\\ipykernel_32012\\3016412408.py:63: FutureWarning: The behavior of DataFrame concatenation with empty or all-NA entries is deprecated. In a future version, this will no longer exclude empty or all-NA columns when determining the result dtypes. To retain the old behavior, exclude the relevant entries before the concat operation.\n",
      "  df = pd.concat([df, new_rows], ignore_index=True)\n",
      "c:\\Users\\Tianyi Zheng\\OneDrive - neuron.t.u-tokyo.ac.jp\\Documents\\zheng\\mywork\\attention_tES\\tACS-Attention\\processing\\behavior\\func4behav.py:158: FutureWarning: The behavior of DataFrame concatenation with empty or all-NA entries is deprecated. In a future version, this will no longer exclude empty or all-NA columns when determining the result dtypes. To retain the old behavior, exclude the relevant entries before the concat operation.\n",
      "  behavior_compare = pd.concat([behavior_compare, new_row], ignore_index=True)\n",
      "C:\\Users\\Tianyi Zheng\\AppData\\Local\\Temp\\ipykernel_32012\\3016412408.py:63: FutureWarning: The behavior of DataFrame concatenation with empty or all-NA entries is deprecated. In a future version, this will no longer exclude empty or all-NA columns when determining the result dtypes. To retain the old behavior, exclude the relevant entries before the concat operation.\n",
      "  df = pd.concat([df, new_rows], ignore_index=True)\n"
     ]
    }
   ],
   "source": [
    "df_endo_valid = make_tables('endo valid')\n",
    "df_endo_invalid = make_tables('endo invalid')\n",
    "df_exo_valid = make_tables('exo valid')\n",
    "df_exo_invalid = make_tables('exo invalid')\n",
    "\n",
    "df = pd.concat([df_endo_valid, df_endo_invalid, df_exo_valid, df_exo_invalid], ignore_index=True)\n",
    "all_rt = df['RT']"
   ]
  },
  {
   "cell_type": "code",
   "execution_count": 21,
   "metadata": {},
   "outputs": [
    {
     "name": "stderr",
     "output_type": "stream",
     "text": [
      "C:\\Users\\Tianyi Zheng\\AppData\\Local\\Temp\\ipykernel_32012\\1788712090.py:3: UserWarning: scipy.stats.shapiro: For N > 5000, computed p-value may not be accurate. Current N is 5238.\n",
      "  res = stats.shapiro(all_rt)\n"
     ]
    }
   ],
   "source": [
    "from scipy.stats import shapiro\n",
    "\n",
    "res = stats.shapiro(all_rt)"
   ]
  },
  {
   "cell_type": "code",
   "execution_count": 22,
   "metadata": {},
   "outputs": [
    {
     "data": {
      "image/png": "[encoded data removed]",
      "text/plain": [
       "<Figure size 640x480 with 1 Axes>"
      ]
     },
     "metadata": {},
     "output_type": "display_data"
    }
   ],
   "source": [
    "plt.hist(all_rt)\n",
    "plt.show()"
   ]
  },
  {
   "cell_type": "code",
   "execution_count": 23,
   "metadata": {},
   "outputs": [
    {
     "data": {
      "text/plain": [
       "0.9458620621311413"
      ]
     },
     "execution_count": 23,
     "metadata": {},
     "output_type": "execute_result"
    }
   ],
   "source": [
    "res.statistic"
   ]
  },
  {
   "cell_type": "code",
   "execution_count": 24,
   "metadata": {},
   "outputs": [
    {
     "data": {
      "text/plain": [
       "3.536744991873284e-40"
      ]
     },
     "execution_count": 24,
     "metadata": {},
     "output_type": "execute_result"
    }
   ],
   "source": [
    "res.pvalue"
   ]
  },
  {
   "cell_type": "code",
   "execution_count": 25,
   "metadata": {},
   "outputs": [
    {
     "name": "stdout",
     "output_type": "stream",
     "text": [
      "statistic: 0.942652143580735\n",
      "p_value: 8.623822120253092e-25\n"
     ]
    }
   ],
   "source": [
    "res_endo_valid = shapiro(df_endo_valid['RT'])\n",
    "print('statistic:', res_endo_valid.statistic)\n",
    "print('p_value:', res_endo_valid.pvalue)"
   ]
  },
  {
   "cell_type": "code",
   "execution_count": 26,
   "metadata": {},
   "outputs": [
    {
     "name": "stdout",
     "output_type": "stream",
     "text": [
      "statistic: 0.9777287761146766\n",
      "p_value: 9.232886522459618e-15\n"
     ]
    }
   ],
   "source": [
    "res_endo_invalid = shapiro(df_endo_invalid['RT'])\n",
    "print('statistic:', res_endo_invalid.statistic)\n",
    "print('p_value:', res_endo_invalid.pvalue)"
   ]
  },
  {
   "cell_type": "code",
   "execution_count": 27,
   "metadata": {},
   "outputs": [
    {
     "name": "stdout",
     "output_type": "stream",
     "text": [
      "statistic: 0.9129020735074399\n",
      "p_value: 1.286511394609973e-29\n"
     ]
    }
   ],
   "source": [
    "res_exo_valid = shapiro(df_exo_valid['RT'])\n",
    "print('statistic:', res_exo_valid.statistic)\n",
    "print('p_value:', res_exo_valid.pvalue)"
   ]
  },
  {
   "cell_type": "code",
   "execution_count": 28,
   "metadata": {},
   "outputs": [
    {
     "name": "stdout",
     "output_type": "stream",
     "text": [
      "statistic: 0.9874817639756969\n",
      "p_value: 0.0013742077444968649\n"
     ]
    }
   ],
   "source": [
    "res_exo_invalid = shapiro(df_exo_invalid['RT'])\n",
    "print('statistic:', res_exo_invalid.statistic)\n",
    "print('p_value:', res_exo_invalid.pvalue)"
   ]
  },
  {
   "cell_type": "code",
   "execution_count": 29,
   "metadata": {},
   "outputs": [
    {
     "data": {
      "text/plain": [
       "ShapiroResult(statistic=0.9987809578650173, pvalue=0.7424739347039356)"
      ]
     },
     "execution_count": 29,
     "metadata": {},
     "output_type": "execute_result"
    }
   ],
   "source": [
    "import numpy as np\n",
    "from scipy.stats import shapiro\n",
    "\n",
    "# Generate two normal distributions with slightly different mean values\n",
    "np.random.seed(0)\n",
    "data1 = np.random.normal(loc=0, scale=1, size=500)\n",
    "data2 = np.random.normal(loc=0.5, scale=1, size=500)\n",
    "\n",
    "# Combine the two datasets\n",
    "combined_data = np.concatenate((data1, data2))\n",
    "\n",
    "# Perform the Shapiro-Wilk test\n",
    "shapiro_test = shapiro(combined_data)\n",
    "shapiro_test\n"
   ]
  }
 ],
 "metadata": {
  "kernelspec": {
   "display_name": "brain",
   "language": "python",
   "name": "python3"
  },
  "language_info": {
   "codemirror_mode": {
    "name": "ipython",
    "version": 3
   },
   "file_extension": ".py",
   "mimetype": "text/x-python",
   "name": "python",
   "nbconvert_exporter": "python",
   "pygments_lexer": "ipython3",
   "version": "3.11.6"
  }
 },
 "nbformat": 4,
 "nbformat_minor": 2
}
