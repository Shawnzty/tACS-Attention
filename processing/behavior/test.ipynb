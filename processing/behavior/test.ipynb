{
 "cells": [
  {
   "cell_type": "code",
   "execution_count": 13,
   "metadata": {},
   "outputs": [
    {
     "data": {
      "text/plain": [
       "<module 'func4behav' from 'c:\\\\Users\\\\Tianyi Zheng\\\\OneDrive - neuron.t.u-tokyo.ac.jp\\\\Documents\\\\zheng\\\\mywork\\\\attention_tES\\\\tes-attention\\\\processing\\\\behavior\\\\func4behav.py'>"
      ]
     },
     "execution_count": 13,
     "metadata": {},
     "output_type": "execute_result"
    }
   ],
   "source": [
    "import os\n",
    "import time\n",
    "import multiprocessing as mp\n",
    "import matplotlib.pyplot as plt\n",
    "import numpy as np\n",
    "import pandas as pd\n",
    "import seaborn as sns\n",
    "from scipy import stats\n",
    "import func4behav as fb\n",
    "import itertools\n",
    "import imp\n",
    "imp.reload(fb)"
   ]
  },
  {
   "cell_type": "code",
   "execution_count": 14,
   "metadata": {},
   "outputs": [],
   "source": [
    "record = pd.DataFrame(columns=['try id', 'Real picks', 'Sham picks', 'p value', 'Judge'])\n",
    "all_real = [1, 3, 4, 5, 9, 12, 13, 17, 18]\n",
    "all_sham = [2, 6, 7, 8, 10, 11, 14, 15, 16]\n",
    "size = 4\n",
    "real_comb = [list(comb) for comb in itertools.combinations(all_real, size)]\n",
    "sham_comb = [list(comb) for comb in itertools.combinations(all_sham, size)]"
   ]
  },
  {
   "cell_type": "code",
   "execution_count": 15,
   "metadata": {},
   "outputs": [
    {
     "data": {
      "text/plain": [
       "(9, 9)"
      ]
     },
     "execution_count": 15,
     "metadata": {},
     "output_type": "execute_result"
    }
   ],
   "source": [
    "len(real_comb), len(sham_comb)"
   ]
  },
  {
   "cell_type": "code",
   "execution_count": 16,
   "metadata": {},
   "outputs": [
    {
     "name": "stdout",
     "output_type": "stream",
     "text": [
      "The program took 28.591588735580444 seconds to run.\n"
     ]
    }
   ],
   "source": [
    "start_time = time.time()\n",
    "try_id = 0\n",
    "\n",
    "for real_to_pick in real_comb:\n",
    "    for sham_to_pick in sham_comb:\n",
    "\n",
    "        watch_cases = ['endo', 'exo', 'endo valid', 'exo valid']\n",
    "        watch_idxs = [\"RT mean shorten %\", \"RT std decrease\"]\n",
    "        p = fb.do_compare(real_to_pick, sham_to_pick, watch_cases, watch_idxs)\n",
    "\n",
    "\n",
    "        record.at[try_id, 'try id'] = try_id\n",
    "        record.at[try_id, 'Real picks'] = real_to_pick\n",
    "        record.at[try_id, 'Sham picks'] = sham_to_pick\n",
    "        record.at[try_id, 'p value'] = p\n",
    "        record.at[try_id, 'Judge'] = [1 if all(i <= 0.05 for i in sublist if i is not None) else 0 for sublist in p]\n",
    "\n",
    "        try_id += 1\n",
    "\n",
    "end_time = time.time()\n",
    "elapsed_time = end_time - start_time  # Calculate the difference\n",
    "print(f\"The program took {elapsed_time} seconds to run.\")\n",
    "record.to_csv('../../../docs/report/record_'+str(size)+'.csv', index=False)"
   ]
  },
  {
   "cell_type": "code",
   "execution_count": 18,
   "metadata": {},
   "outputs": [
    {
     "data": {
      "text/html": [
       "<div>\n",
       "<style scoped>\n",
       "    .dataframe tbody tr th:only-of-type {\n",
       "        vertical-align: middle;\n",
       "    }\n",
       "\n",
       "    .dataframe tbody tr th {\n",
       "        vertical-align: top;\n",
       "    }\n",
       "\n",
       "    .dataframe thead th {\n",
       "        text-align: right;\n",
       "    }\n",
       "</style>\n",
       "<table border=\"1\" class=\"dataframe\">\n",
       "  <thead>\n",
       "    <tr style=\"text-align: right;\">\n",
       "      <th></th>\n",
       "      <th>try id</th>\n",
       "      <th>Real picks</th>\n",
       "      <th>Sham picks</th>\n",
       "      <th>p value</th>\n",
       "      <th>Judge</th>\n",
       "    </tr>\n",
       "  </thead>\n",
       "  <tbody>\n",
       "    <tr>\n",
       "      <th>0</th>\n",
       "      <td>0</td>\n",
       "      <td>[1]</td>\n",
       "      <td>[2]</td>\n",
       "      <td>[[1.0, 1.0, 1.0, 1.0], [1.0, 1.0, 1.0, 1.0]]</td>\n",
       "      <td>[0, 0]</td>\n",
       "    </tr>\n",
       "    <tr>\n",
       "      <th>1</th>\n",
       "      <td>1</td>\n",
       "      <td>[1]</td>\n",
       "      <td>[6]</td>\n",
       "      <td>[[1.0, 1.0, 1.0, 1.0], [1.0, 1.0, 1.0, 1.0]]</td>\n",
       "      <td>[0, 0]</td>\n",
       "    </tr>\n",
       "    <tr>\n",
       "      <th>2</th>\n",
       "      <td>2</td>\n",
       "      <td>[1]</td>\n",
       "      <td>[7]</td>\n",
       "      <td>[[1.0, 1.0, 1.0, 1.0], [1.0, 1.0, 1.0, 1.0]]</td>\n",
       "      <td>[0, 0]</td>\n",
       "    </tr>\n",
       "    <tr>\n",
       "      <th>3</th>\n",
       "      <td>3</td>\n",
       "      <td>[1]</td>\n",
       "      <td>[8]</td>\n",
       "      <td>[[1.0, 1.0, 1.0, 1.0], [1.0, 1.0, 1.0, 1.0]]</td>\n",
       "      <td>[0, 0]</td>\n",
       "    </tr>\n",
       "    <tr>\n",
       "      <th>4</th>\n",
       "      <td>4</td>\n",
       "      <td>[1]</td>\n",
       "      <td>[10]</td>\n",
       "      <td>[[1.0, 1.0, 1.0, 1.0], [1.0, 1.0, 1.0, 1.0]]</td>\n",
       "      <td>[0, 0]</td>\n",
       "    </tr>\n",
       "    <tr>\n",
       "      <th>...</th>\n",
       "      <td>...</td>\n",
       "      <td>...</td>\n",
       "      <td>...</td>\n",
       "      <td>...</td>\n",
       "      <td>...</td>\n",
       "    </tr>\n",
       "    <tr>\n",
       "      <th>76</th>\n",
       "      <td>76</td>\n",
       "      <td>[18]</td>\n",
       "      <td>[10]</td>\n",
       "      <td>[[1.0, 1.0, 1.0, 1.0], [1.0, 1.0, 1.0, 1.0]]</td>\n",
       "      <td>[0, 0]</td>\n",
       "    </tr>\n",
       "    <tr>\n",
       "      <th>77</th>\n",
       "      <td>77</td>\n",
       "      <td>[18]</td>\n",
       "      <td>[11]</td>\n",
       "      <td>[[1.0, 1.0, 1.0, 1.0], [1.0, 1.0, 1.0, 1.0]]</td>\n",
       "      <td>[0, 0]</td>\n",
       "    </tr>\n",
       "    <tr>\n",
       "      <th>78</th>\n",
       "      <td>78</td>\n",
       "      <td>[18]</td>\n",
       "      <td>[14]</td>\n",
       "      <td>[[1.0, 1.0, 1.0, 1.0], [1.0, 1.0, 1.0, 1.0]]</td>\n",
       "      <td>[0, 0]</td>\n",
       "    </tr>\n",
       "    <tr>\n",
       "      <th>79</th>\n",
       "      <td>79</td>\n",
       "      <td>[18]</td>\n",
       "      <td>[15]</td>\n",
       "      <td>[[1.0, 1.0, 1.0, 1.0], [1.0, 1.0, 1.0, 1.0]]</td>\n",
       "      <td>[0, 0]</td>\n",
       "    </tr>\n",
       "    <tr>\n",
       "      <th>80</th>\n",
       "      <td>80</td>\n",
       "      <td>[18]</td>\n",
       "      <td>[16]</td>\n",
       "      <td>[[1.0, 1.0, 1.0, 1.0], [1.0, 1.0, 1.0, 1.0]]</td>\n",
       "      <td>[0, 0]</td>\n",
       "    </tr>\n",
       "  </tbody>\n",
       "</table>\n",
       "<p>81 rows × 5 columns</p>\n",
       "</div>"
      ],
      "text/plain": [
       "   try id Real picks Sham picks                                       p value  \\\n",
       "0       0        [1]        [2]  [[1.0, 1.0, 1.0, 1.0], [1.0, 1.0, 1.0, 1.0]]   \n",
       "1       1        [1]        [6]  [[1.0, 1.0, 1.0, 1.0], [1.0, 1.0, 1.0, 1.0]]   \n",
       "2       2        [1]        [7]  [[1.0, 1.0, 1.0, 1.0], [1.0, 1.0, 1.0, 1.0]]   \n",
       "3       3        [1]        [8]  [[1.0, 1.0, 1.0, 1.0], [1.0, 1.0, 1.0, 1.0]]   \n",
       "4       4        [1]       [10]  [[1.0, 1.0, 1.0, 1.0], [1.0, 1.0, 1.0, 1.0]]   \n",
       "..    ...        ...        ...                                           ...   \n",
       "76     76       [18]       [10]  [[1.0, 1.0, 1.0, 1.0], [1.0, 1.0, 1.0, 1.0]]   \n",
       "77     77       [18]       [11]  [[1.0, 1.0, 1.0, 1.0], [1.0, 1.0, 1.0, 1.0]]   \n",
       "78     78       [18]       [14]  [[1.0, 1.0, 1.0, 1.0], [1.0, 1.0, 1.0, 1.0]]   \n",
       "79     79       [18]       [15]  [[1.0, 1.0, 1.0, 1.0], [1.0, 1.0, 1.0, 1.0]]   \n",
       "80     80       [18]       [16]  [[1.0, 1.0, 1.0, 1.0], [1.0, 1.0, 1.0, 1.0]]   \n",
       "\n",
       "     Judge  \n",
       "0   [0, 0]  \n",
       "1   [0, 0]  \n",
       "2   [0, 0]  \n",
       "3   [0, 0]  \n",
       "4   [0, 0]  \n",
       "..     ...  \n",
       "76  [0, 0]  \n",
       "77  [0, 0]  \n",
       "78  [0, 0]  \n",
       "79  [0, 0]  \n",
       "80  [0, 0]  \n",
       "\n",
       "[81 rows x 5 columns]"
      ]
     },
     "metadata": {},
     "output_type": "display_data"
    }
   ],
   "source": []
  }
 ],
 "metadata": {
  "kernelspec": {
   "display_name": "mne",
   "language": "python",
   "name": "python3"
  },
  "language_info": {
   "codemirror_mode": {
    "name": "ipython",
    "version": 3
   },
   "file_extension": ".py",
   "mimetype": "text/x-python",
   "name": "python",
   "nbconvert_exporter": "python",
   "pygments_lexer": "ipython3",
   "version": "3.9.17"
  },
  "orig_nbformat": 4
 },
 "nbformat": 4,
 "nbformat_minor": 2
}
