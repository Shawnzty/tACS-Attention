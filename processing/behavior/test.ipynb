{
 "cells": [
  {
   "cell_type": "code",
   "execution_count": 42,
   "metadata": {},
   "outputs": [
    {
     "data": {
      "text/plain": [
       "<module 'func4behav' from 'c:\\\\Users\\\\Tianyi Zheng\\\\OneDrive - neuron.t.u-tokyo.ac.jp\\\\Documents\\\\zheng\\\\mywork\\\\attention_tES\\\\tes-attention\\\\processing\\\\behavior\\\\func4behav.py'>"
      ]
     },
     "execution_count": 42,
     "metadata": {},
     "output_type": "execute_result"
    }
   ],
   "source": [
    "import os\n",
    "import time\n",
    "import matplotlib.pyplot as plt\n",
    "import numpy as np\n",
    "import pandas as pd\n",
    "import seaborn as sns\n",
    "from scipy import stats\n",
    "import func4behav as fb\n",
    "import itertools\n",
    "import imp\n",
    "imp.reload(fb)"
   ]
  },
  {
   "cell_type": "code",
   "execution_count": 43,
   "metadata": {},
   "outputs": [],
   "source": [
    "record = pd.DataFrame(columns=['try id', 'Real picks', 'Sham picks', 'p value', 'Judge'])\n",
    "all_real = [1, 3, 4, 5, 9, 12, 13, 17, 18]\n",
    "all_sham = [2, 6, 7, 8, 10, 11, 14, 15, 16]\n",
    "size = 4\n",
    "real_comb = [list(comb) for comb in itertools.combinations(all_real, size)]\n",
    "sham_comb = [list(comb) for comb in itertools.combinations(all_sham, size)]"
   ]
  },
  {
   "cell_type": "code",
   "execution_count": 44,
   "metadata": {},
   "outputs": [],
   "source": [
    "start_time = time.time()\n",
    "try_id = 0\n",
    "\n",
    "for real_to_pick in real_comb:\n",
    "    for sham_to_pick in sham_comb:\n",
    "\n",
    "        watch_cases = ['endo', 'exo', 'endo valid', 'exo valid']\n",
    "        watch_idx = \"RT mean shorten %\"\n",
    "        p = fb.do_compare(real_to_pick, sham_to_pick, watch_cases, watch_idx)\n",
    "\n",
    "        record.at[try_id, 'try id'] = try_id\n",
    "        record.at[try_id, 'Real picks'] = real_to_pick\n",
    "        record.at[try_id, 'Sham picks'] = sham_to_pick\n",
    "        record.at[try_id, 'p value'] = p\n",
    "        record.at[try_id, 'Judge'] = 1 if all(i <= 0.05 for i in p if i is not None) else 0\n",
    "\n",
    "        try_id += 1\n",
    "\n",
    "end_time = time.time()\n",
    "elapsed_time = end_time - start_time  # Calculate the difference\n",
    "print(f\"The program took {elapsed_time} seconds to run.\")"
   ]
  }
 ],
 "metadata": {
  "kernelspec": {
   "display_name": "mne",
   "language": "python",
   "name": "python3"
  },
  "language_info": {
   "codemirror_mode": {
    "name": "ipython",
    "version": 3
   },
   "file_extension": ".py",
   "mimetype": "text/x-python",
   "name": "python",
   "nbconvert_exporter": "python",
   "pygments_lexer": "ipython3",
   "version": "3.9.17"
  },
  "orig_nbformat": 4
 },
 "nbformat": 4,
 "nbformat_minor": 2
}
