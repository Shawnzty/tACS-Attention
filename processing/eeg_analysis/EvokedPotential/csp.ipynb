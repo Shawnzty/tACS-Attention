{
 "cells": [
  {
   "cell_type": "code",
   "execution_count": 259,
   "metadata": {},
   "outputs": [],
   "source": [
    "import sys\n",
    "import os\n",
    "sys.path.insert(0, os.path.abspath('../..'))\n",
    "from scipy.io import loadmat\n",
    "from pathlib import Path\n",
    "import matplotlib.patches as patches\n",
    "import matplotlib.lines as mlines\n",
    "import matplotlib.pyplot as plt\n",
    "from matplotlib import rc\n",
    "import numpy as np\n",
    "import pandas as pd\n",
    "# the following import is required for matplotlib < 3.2:\n",
    "from mpl_toolkits.mplot3d import Axes3D \n",
    "from scipy import stats\n",
    "import mne\n",
    "import eeg_analysis.funcs4eeg as fe\n",
    "import re\n",
    "import imp\n",
    "import ast\n",
    "import behavior.func4behav as fb\n",
    "imp.reload(fe)\n",
    "imp.reload(fb)\n",
    "\n",
    "import numpy as np\n",
    "import matplotlib.pyplot as plt\n",
    "from sklearn.model_selection import ShuffleSplit, cross_val_score\n",
    "from sklearn.pipeline import Pipeline\n",
    "from sklearn.discriminant_analysis import LinearDiscriminantAnalysis\n",
    "from sklearn.pipeline import make_pipeline\n",
    "from sklearn.preprocessing import StandardScaler\n",
    "from sklearn.linear_model import LogisticRegression\n",
    "\n",
    "import mne\n",
    "from mne.datasets import sample\n",
    "from mne.decoding import (\n",
    "    SlidingEstimator,\n",
    "    GeneralizingEstimator,\n",
    "    Scaler,\n",
    "    cross_val_multiscore,\n",
    "    LinearModel,\n",
    "    get_coef,\n",
    "    Vectorizer,\n",
    "    CSP,\n",
    ")"
   ]
  },
  {
   "cell_type": "code",
   "execution_count": 260,
   "metadata": {},
   "outputs": [
    {
     "name": "stdout",
     "output_type": "stream",
     "text": [
      "Filtering raw data in 1 contiguous segment\n",
      "Setting up high-pass filter at 0.3 Hz\n",
      "\n",
      "FIR filter parameters\n",
      "---------------------\n",
      "Designing a one-pass, zero-phase, non-causal highpass filter:\n",
      "- Windowed time-domain design (firwin) method\n",
      "- Hamming window with 0.0194 passband ripple and 53 dB stopband attenuation\n",
      "- Lower passband edge: 0.30\n",
      "- Lower transition bandwidth: 0.30 Hz (-6 dB cutoff frequency: 0.15 Hz)\n",
      "- Filter length: 13201 samples (11.001 sec)\n",
      "\n"
     ]
    },
    {
     "name": "stderr",
     "output_type": "stream",
     "text": [
      "c:\\ProgramData\\anaconda3\\envs\\mne\\lib\\site-packages\\mne\\filter.py:312: DeprecationWarning: Keyword argument 'nyq' is deprecated in favour of 'fs' and will be removed in SciPy 1.12.0.\n",
      "  this_h = firwin(this_N, (prev_freq + this_freq) / 2.,\n"
     ]
    },
    {
     "name": "stdout",
     "output_type": "stream",
     "text": [
      "Filtering raw data in 1 contiguous segment\n",
      "Setting up low-pass filter at 50 Hz\n",
      "\n",
      "FIR filter parameters\n",
      "---------------------\n",
      "Designing a one-pass, zero-phase, non-causal lowpass filter:\n",
      "- Windowed time-domain design (firwin) method\n",
      "- Hamming window with 0.0194 passband ripple and 53 dB stopband attenuation\n",
      "- Upper passband edge: 50.00 Hz\n",
      "- Upper transition bandwidth: 12.50 Hz (-6 dB cutoff frequency: 56.25 Hz)\n",
      "- Filter length: 317 samples (0.264 sec)\n",
      "\n"
     ]
    },
    {
     "name": "stderr",
     "output_type": "stream",
     "text": [
      "c:\\ProgramData\\anaconda3\\envs\\mne\\lib\\site-packages\\mne\\filter.py:312: DeprecationWarning: Keyword argument 'nyq' is deprecated in favour of 'fs' and will be removed in SciPy 1.12.0.\n",
      "  this_h = firwin(this_N, (prev_freq + this_freq) / 2.,\n"
     ]
    },
    {
     "name": "stdout",
     "output_type": "stream",
     "text": [
      "Filtering raw data in 1 contiguous segment\n",
      "Setting up high-pass filter at 0.3 Hz\n",
      "\n",
      "FIR filter parameters\n",
      "---------------------\n",
      "Designing a one-pass, zero-phase, non-causal highpass filter:\n",
      "- Windowed time-domain design (firwin) method\n",
      "- Hamming window with 0.0194 passband ripple and 53 dB stopband attenuation\n",
      "- Lower passband edge: 0.30\n",
      "- Lower transition bandwidth: 0.30 Hz (-6 dB cutoff frequency: 0.15 Hz)\n",
      "- Filter length: 13201 samples (11.001 sec)\n",
      "\n"
     ]
    },
    {
     "name": "stderr",
     "output_type": "stream",
     "text": [
      "c:\\ProgramData\\anaconda3\\envs\\mne\\lib\\site-packages\\mne\\filter.py:312: DeprecationWarning: Keyword argument 'nyq' is deprecated in favour of 'fs' and will be removed in SciPy 1.12.0.\n",
      "  this_h = firwin(this_N, (prev_freq + this_freq) / 2.,\n"
     ]
    },
    {
     "name": "stdout",
     "output_type": "stream",
     "text": [
      "Filtering raw data in 1 contiguous segment\n",
      "Setting up low-pass filter at 50 Hz\n",
      "\n",
      "FIR filter parameters\n",
      "---------------------\n",
      "Designing a one-pass, zero-phase, non-causal lowpass filter:\n",
      "- Windowed time-domain design (firwin) method\n",
      "- Hamming window with 0.0194 passband ripple and 53 dB stopband attenuation\n",
      "- Upper passband edge: 50.00 Hz\n",
      "- Upper transition bandwidth: 12.50 Hz (-6 dB cutoff frequency: 56.25 Hz)\n",
      "- Filter length: 317 samples (0.264 sec)\n",
      "\n"
     ]
    },
    {
     "name": "stderr",
     "output_type": "stream",
     "text": [
      "c:\\ProgramData\\anaconda3\\envs\\mne\\lib\\site-packages\\mne\\filter.py:312: DeprecationWarning: Keyword argument 'nyq' is deprecated in favour of 'fs' and will be removed in SciPy 1.12.0.\n",
      "  this_h = firwin(this_N, (prev_freq + this_freq) / 2.,\n"
     ]
    },
    {
     "name": "stdout",
     "output_type": "stream",
     "text": [
      "Filtering raw data in 1 contiguous segment\n",
      "Setting up high-pass filter at 0.3 Hz\n",
      "\n",
      "FIR filter parameters\n",
      "---------------------\n",
      "Designing a one-pass, zero-phase, non-causal highpass filter:\n",
      "- Windowed time-domain design (firwin) method\n",
      "- Hamming window with 0.0194 passband ripple and 53 dB stopband attenuation\n",
      "- Lower passband edge: 0.30\n",
      "- Lower transition bandwidth: 0.30 Hz (-6 dB cutoff frequency: 0.15 Hz)\n",
      "- Filter length: 13201 samples (11.001 sec)\n",
      "\n"
     ]
    },
    {
     "name": "stderr",
     "output_type": "stream",
     "text": [
      "c:\\ProgramData\\anaconda3\\envs\\mne\\lib\\site-packages\\mne\\filter.py:312: DeprecationWarning: Keyword argument 'nyq' is deprecated in favour of 'fs' and will be removed in SciPy 1.12.0.\n",
      "  this_h = firwin(this_N, (prev_freq + this_freq) / 2.,\n"
     ]
    },
    {
     "name": "stdout",
     "output_type": "stream",
     "text": [
      "Filtering raw data in 1 contiguous segment\n",
      "Setting up low-pass filter at 50 Hz\n",
      "\n",
      "FIR filter parameters\n",
      "---------------------\n",
      "Designing a one-pass, zero-phase, non-causal lowpass filter:\n",
      "- Windowed time-domain design (firwin) method\n",
      "- Hamming window with 0.0194 passband ripple and 53 dB stopband attenuation\n",
      "- Upper passband edge: 50.00 Hz\n",
      "- Upper transition bandwidth: 12.50 Hz (-6 dB cutoff frequency: 56.25 Hz)\n",
      "- Filter length: 317 samples (0.264 sec)\n",
      "\n"
     ]
    },
    {
     "name": "stderr",
     "output_type": "stream",
     "text": [
      "c:\\ProgramData\\anaconda3\\envs\\mne\\lib\\site-packages\\mne\\filter.py:312: DeprecationWarning: Keyword argument 'nyq' is deprecated in favour of 'fs' and will be removed in SciPy 1.12.0.\n",
      "  this_h = firwin(this_N, (prev_freq + this_freq) / 2.,\n"
     ]
    },
    {
     "name": "stdout",
     "output_type": "stream",
     "text": [
      "Filtering raw data in 1 contiguous segment\n",
      "Setting up high-pass filter at 0.3 Hz\n",
      "\n",
      "FIR filter parameters\n",
      "---------------------\n",
      "Designing a one-pass, zero-phase, non-causal highpass filter:\n",
      "- Windowed time-domain design (firwin) method\n",
      "- Hamming window with 0.0194 passband ripple and 53 dB stopband attenuation\n",
      "- Lower passband edge: 0.30\n",
      "- Lower transition bandwidth: 0.30 Hz (-6 dB cutoff frequency: 0.15 Hz)\n",
      "- Filter length: 13201 samples (11.001 sec)\n",
      "\n"
     ]
    },
    {
     "name": "stderr",
     "output_type": "stream",
     "text": [
      "c:\\ProgramData\\anaconda3\\envs\\mne\\lib\\site-packages\\mne\\filter.py:312: DeprecationWarning: Keyword argument 'nyq' is deprecated in favour of 'fs' and will be removed in SciPy 1.12.0.\n",
      "  this_h = firwin(this_N, (prev_freq + this_freq) / 2.,\n"
     ]
    },
    {
     "name": "stdout",
     "output_type": "stream",
     "text": [
      "Filtering raw data in 1 contiguous segment\n",
      "Setting up low-pass filter at 50 Hz\n",
      "\n",
      "FIR filter parameters\n",
      "---------------------\n",
      "Designing a one-pass, zero-phase, non-causal lowpass filter:\n",
      "- Windowed time-domain design (firwin) method\n",
      "- Hamming window with 0.0194 passband ripple and 53 dB stopband attenuation\n",
      "- Upper passband edge: 50.00 Hz\n",
      "- Upper transition bandwidth: 12.50 Hz (-6 dB cutoff frequency: 56.25 Hz)\n",
      "- Filter length: 317 samples (0.264 sec)\n",
      "\n"
     ]
    },
    {
     "name": "stderr",
     "output_type": "stream",
     "text": [
      "c:\\ProgramData\\anaconda3\\envs\\mne\\lib\\site-packages\\mne\\filter.py:312: DeprecationWarning: Keyword argument 'nyq' is deprecated in favour of 'fs' and will be removed in SciPy 1.12.0.\n",
      "  this_h = firwin(this_N, (prev_freq + this_freq) / 2.,\n"
     ]
    },
    {
     "name": "stdout",
     "output_type": "stream",
     "text": [
      "Filtering raw data in 1 contiguous segment\n",
      "Setting up high-pass filter at 0.3 Hz\n",
      "\n",
      "FIR filter parameters\n",
      "---------------------\n",
      "Designing a one-pass, zero-phase, non-causal highpass filter:\n",
      "- Windowed time-domain design (firwin) method\n",
      "- Hamming window with 0.0194 passband ripple and 53 dB stopband attenuation\n",
      "- Lower passband edge: 0.30\n",
      "- Lower transition bandwidth: 0.30 Hz (-6 dB cutoff frequency: 0.15 Hz)\n",
      "- Filter length: 13201 samples (11.001 sec)\n",
      "\n"
     ]
    },
    {
     "name": "stderr",
     "output_type": "stream",
     "text": [
      "c:\\ProgramData\\anaconda3\\envs\\mne\\lib\\site-packages\\mne\\filter.py:312: DeprecationWarning: Keyword argument 'nyq' is deprecated in favour of 'fs' and will be removed in SciPy 1.12.0.\n",
      "  this_h = firwin(this_N, (prev_freq + this_freq) / 2.,\n"
     ]
    },
    {
     "name": "stdout",
     "output_type": "stream",
     "text": [
      "Filtering raw data in 1 contiguous segment\n",
      "Setting up low-pass filter at 50 Hz\n",
      "\n",
      "FIR filter parameters\n",
      "---------------------\n",
      "Designing a one-pass, zero-phase, non-causal lowpass filter:\n",
      "- Windowed time-domain design (firwin) method\n",
      "- Hamming window with 0.0194 passband ripple and 53 dB stopband attenuation\n",
      "- Upper passband edge: 50.00 Hz\n",
      "- Upper transition bandwidth: 12.50 Hz (-6 dB cutoff frequency: 56.25 Hz)\n",
      "- Filter length: 317 samples (0.264 sec)\n",
      "\n"
     ]
    },
    {
     "name": "stderr",
     "output_type": "stream",
     "text": [
      "c:\\ProgramData\\anaconda3\\envs\\mne\\lib\\site-packages\\mne\\filter.py:312: DeprecationWarning: Keyword argument 'nyq' is deprecated in favour of 'fs' and will be removed in SciPy 1.12.0.\n",
      "  this_h = firwin(this_N, (prev_freq + this_freq) / 2.,\n"
     ]
    },
    {
     "name": "stdout",
     "output_type": "stream",
     "text": [
      "Filtering raw data in 1 contiguous segment\n",
      "Setting up high-pass filter at 0.3 Hz\n",
      "\n",
      "FIR filter parameters\n",
      "---------------------\n",
      "Designing a one-pass, zero-phase, non-causal highpass filter:\n",
      "- Windowed time-domain design (firwin) method\n",
      "- Hamming window with 0.0194 passband ripple and 53 dB stopband attenuation\n",
      "- Lower passband edge: 0.30\n",
      "- Lower transition bandwidth: 0.30 Hz (-6 dB cutoff frequency: 0.15 Hz)\n",
      "- Filter length: 13201 samples (11.001 sec)\n",
      "\n"
     ]
    },
    {
     "name": "stderr",
     "output_type": "stream",
     "text": [
      "c:\\ProgramData\\anaconda3\\envs\\mne\\lib\\site-packages\\mne\\filter.py:312: DeprecationWarning: Keyword argument 'nyq' is deprecated in favour of 'fs' and will be removed in SciPy 1.12.0.\n",
      "  this_h = firwin(this_N, (prev_freq + this_freq) / 2.,\n"
     ]
    },
    {
     "name": "stdout",
     "output_type": "stream",
     "text": [
      "Filtering raw data in 1 contiguous segment\n",
      "Setting up low-pass filter at 50 Hz\n",
      "\n",
      "FIR filter parameters\n",
      "---------------------\n",
      "Designing a one-pass, zero-phase, non-causal lowpass filter:\n",
      "- Windowed time-domain design (firwin) method\n",
      "- Hamming window with 0.0194 passband ripple and 53 dB stopband attenuation\n",
      "- Upper passband edge: 50.00 Hz\n",
      "- Upper transition bandwidth: 12.50 Hz (-6 dB cutoff frequency: 56.25 Hz)\n",
      "- Filter length: 317 samples (0.264 sec)\n",
      "\n"
     ]
    },
    {
     "name": "stderr",
     "output_type": "stream",
     "text": [
      "c:\\ProgramData\\anaconda3\\envs\\mne\\lib\\site-packages\\mne\\filter.py:312: DeprecationWarning: Keyword argument 'nyq' is deprecated in favour of 'fs' and will be removed in SciPy 1.12.0.\n",
      "  this_h = firwin(this_N, (prev_freq + this_freq) / 2.,\n"
     ]
    },
    {
     "name": "stdout",
     "output_type": "stream",
     "text": [
      "Filtering raw data in 1 contiguous segment\n",
      "Setting up high-pass filter at 0.3 Hz\n",
      "\n",
      "FIR filter parameters\n",
      "---------------------\n",
      "Designing a one-pass, zero-phase, non-causal highpass filter:\n",
      "- Windowed time-domain design (firwin) method\n",
      "- Hamming window with 0.0194 passband ripple and 53 dB stopband attenuation\n",
      "- Lower passband edge: 0.30\n",
      "- Lower transition bandwidth: 0.30 Hz (-6 dB cutoff frequency: 0.15 Hz)\n",
      "- Filter length: 13201 samples (11.001 sec)\n",
      "\n"
     ]
    },
    {
     "name": "stderr",
     "output_type": "stream",
     "text": [
      "c:\\ProgramData\\anaconda3\\envs\\mne\\lib\\site-packages\\mne\\filter.py:312: DeprecationWarning: Keyword argument 'nyq' is deprecated in favour of 'fs' and will be removed in SciPy 1.12.0.\n",
      "  this_h = firwin(this_N, (prev_freq + this_freq) / 2.,\n"
     ]
    },
    {
     "name": "stdout",
     "output_type": "stream",
     "text": [
      "Filtering raw data in 1 contiguous segment\n",
      "Setting up low-pass filter at 50 Hz\n",
      "\n",
      "FIR filter parameters\n",
      "---------------------\n",
      "Designing a one-pass, zero-phase, non-causal lowpass filter:\n",
      "- Windowed time-domain design (firwin) method\n",
      "- Hamming window with 0.0194 passband ripple and 53 dB stopband attenuation\n",
      "- Upper passband edge: 50.00 Hz\n",
      "- Upper transition bandwidth: 12.50 Hz (-6 dB cutoff frequency: 56.25 Hz)\n",
      "- Filter length: 317 samples (0.264 sec)\n",
      "\n"
     ]
    },
    {
     "name": "stderr",
     "output_type": "stream",
     "text": [
      "c:\\ProgramData\\anaconda3\\envs\\mne\\lib\\site-packages\\mne\\filter.py:312: DeprecationWarning: Keyword argument 'nyq' is deprecated in favour of 'fs' and will be removed in SciPy 1.12.0.\n",
      "  this_h = firwin(this_N, (prev_freq + this_freq) / 2.,\n"
     ]
    },
    {
     "name": "stdout",
     "output_type": "stream",
     "text": [
      "Filtering raw data in 1 contiguous segment\n",
      "Setting up high-pass filter at 0.3 Hz\n",
      "\n",
      "FIR filter parameters\n",
      "---------------------\n",
      "Designing a one-pass, zero-phase, non-causal highpass filter:\n",
      "- Windowed time-domain design (firwin) method\n",
      "- Hamming window with 0.0194 passband ripple and 53 dB stopband attenuation\n",
      "- Lower passband edge: 0.30\n",
      "- Lower transition bandwidth: 0.30 Hz (-6 dB cutoff frequency: 0.15 Hz)\n",
      "- Filter length: 13201 samples (11.001 sec)\n",
      "\n"
     ]
    },
    {
     "name": "stderr",
     "output_type": "stream",
     "text": [
      "c:\\ProgramData\\anaconda3\\envs\\mne\\lib\\site-packages\\mne\\filter.py:312: DeprecationWarning: Keyword argument 'nyq' is deprecated in favour of 'fs' and will be removed in SciPy 1.12.0.\n",
      "  this_h = firwin(this_N, (prev_freq + this_freq) / 2.,\n"
     ]
    },
    {
     "name": "stdout",
     "output_type": "stream",
     "text": [
      "Filtering raw data in 1 contiguous segment\n",
      "Setting up low-pass filter at 50 Hz\n",
      "\n",
      "FIR filter parameters\n",
      "---------------------\n",
      "Designing a one-pass, zero-phase, non-causal lowpass filter:\n",
      "- Windowed time-domain design (firwin) method\n",
      "- Hamming window with 0.0194 passband ripple and 53 dB stopband attenuation\n",
      "- Upper passband edge: 50.00 Hz\n",
      "- Upper transition bandwidth: 12.50 Hz (-6 dB cutoff frequency: 56.25 Hz)\n",
      "- Filter length: 317 samples (0.264 sec)\n",
      "\n"
     ]
    },
    {
     "name": "stderr",
     "output_type": "stream",
     "text": [
      "c:\\ProgramData\\anaconda3\\envs\\mne\\lib\\site-packages\\mne\\filter.py:312: DeprecationWarning: Keyword argument 'nyq' is deprecated in favour of 'fs' and will be removed in SciPy 1.12.0.\n",
      "  this_h = firwin(this_N, (prev_freq + this_freq) / 2.,\n"
     ]
    },
    {
     "name": "stdout",
     "output_type": "stream",
     "text": [
      "Filtering raw data in 1 contiguous segment\n",
      "Setting up high-pass filter at 0.3 Hz\n",
      "\n",
      "FIR filter parameters\n",
      "---------------------\n",
      "Designing a one-pass, zero-phase, non-causal highpass filter:\n",
      "- Windowed time-domain design (firwin) method\n",
      "- Hamming window with 0.0194 passband ripple and 53 dB stopband attenuation\n",
      "- Lower passband edge: 0.30\n",
      "- Lower transition bandwidth: 0.30 Hz (-6 dB cutoff frequency: 0.15 Hz)\n",
      "- Filter length: 13201 samples (11.001 sec)\n",
      "\n"
     ]
    },
    {
     "name": "stderr",
     "output_type": "stream",
     "text": [
      "c:\\ProgramData\\anaconda3\\envs\\mne\\lib\\site-packages\\mne\\filter.py:312: DeprecationWarning: Keyword argument 'nyq' is deprecated in favour of 'fs' and will be removed in SciPy 1.12.0.\n",
      "  this_h = firwin(this_N, (prev_freq + this_freq) / 2.,\n"
     ]
    },
    {
     "name": "stdout",
     "output_type": "stream",
     "text": [
      "Filtering raw data in 1 contiguous segment\n",
      "Setting up low-pass filter at 50 Hz\n",
      "\n",
      "FIR filter parameters\n",
      "---------------------\n",
      "Designing a one-pass, zero-phase, non-causal lowpass filter:\n",
      "- Windowed time-domain design (firwin) method\n",
      "- Hamming window with 0.0194 passband ripple and 53 dB stopband attenuation\n",
      "- Upper passband edge: 50.00 Hz\n",
      "- Upper transition bandwidth: 12.50 Hz (-6 dB cutoff frequency: 56.25 Hz)\n",
      "- Filter length: 317 samples (0.264 sec)\n",
      "\n"
     ]
    },
    {
     "name": "stderr",
     "output_type": "stream",
     "text": [
      "c:\\ProgramData\\anaconda3\\envs\\mne\\lib\\site-packages\\mne\\filter.py:312: DeprecationWarning: Keyword argument 'nyq' is deprecated in favour of 'fs' and will be removed in SciPy 1.12.0.\n",
      "  this_h = firwin(this_N, (prev_freq + this_freq) / 2.,\n"
     ]
    },
    {
     "name": "stdout",
     "output_type": "stream",
     "text": [
      "Filtering raw data in 1 contiguous segment\n",
      "Setting up high-pass filter at 0.3 Hz\n",
      "\n",
      "FIR filter parameters\n",
      "---------------------\n",
      "Designing a one-pass, zero-phase, non-causal highpass filter:\n",
      "- Windowed time-domain design (firwin) method\n",
      "- Hamming window with 0.0194 passband ripple and 53 dB stopband attenuation\n",
      "- Lower passband edge: 0.30\n",
      "- Lower transition bandwidth: 0.30 Hz (-6 dB cutoff frequency: 0.15 Hz)\n",
      "- Filter length: 13201 samples (11.001 sec)\n",
      "\n"
     ]
    },
    {
     "name": "stderr",
     "output_type": "stream",
     "text": [
      "c:\\ProgramData\\anaconda3\\envs\\mne\\lib\\site-packages\\mne\\filter.py:312: DeprecationWarning: Keyword argument 'nyq' is deprecated in favour of 'fs' and will be removed in SciPy 1.12.0.\n",
      "  this_h = firwin(this_N, (prev_freq + this_freq) / 2.,\n"
     ]
    },
    {
     "name": "stdout",
     "output_type": "stream",
     "text": [
      "Filtering raw data in 1 contiguous segment\n",
      "Setting up low-pass filter at 50 Hz\n",
      "\n",
      "FIR filter parameters\n",
      "---------------------\n",
      "Designing a one-pass, zero-phase, non-causal lowpass filter:\n",
      "- Windowed time-domain design (firwin) method\n",
      "- Hamming window with 0.0194 passband ripple and 53 dB stopband attenuation\n",
      "- Upper passband edge: 50.00 Hz\n",
      "- Upper transition bandwidth: 12.50 Hz (-6 dB cutoff frequency: 56.25 Hz)\n",
      "- Filter length: 317 samples (0.264 sec)\n",
      "\n"
     ]
    },
    {
     "name": "stderr",
     "output_type": "stream",
     "text": [
      "c:\\ProgramData\\anaconda3\\envs\\mne\\lib\\site-packages\\mne\\filter.py:312: DeprecationWarning: Keyword argument 'nyq' is deprecated in favour of 'fs' and will be removed in SciPy 1.12.0.\n",
      "  this_h = firwin(this_N, (prev_freq + this_freq) / 2.,\n"
     ]
    },
    {
     "name": "stdout",
     "output_type": "stream",
     "text": [
      "Filtering raw data in 1 contiguous segment\n",
      "Setting up high-pass filter at 0.3 Hz\n",
      "\n",
      "FIR filter parameters\n",
      "---------------------\n",
      "Designing a one-pass, zero-phase, non-causal highpass filter:\n",
      "- Windowed time-domain design (firwin) method\n",
      "- Hamming window with 0.0194 passband ripple and 53 dB stopband attenuation\n",
      "- Lower passband edge: 0.30\n",
      "- Lower transition bandwidth: 0.30 Hz (-6 dB cutoff frequency: 0.15 Hz)\n",
      "- Filter length: 13201 samples (11.001 sec)\n",
      "\n"
     ]
    },
    {
     "name": "stderr",
     "output_type": "stream",
     "text": [
      "c:\\ProgramData\\anaconda3\\envs\\mne\\lib\\site-packages\\mne\\filter.py:312: DeprecationWarning: Keyword argument 'nyq' is deprecated in favour of 'fs' and will be removed in SciPy 1.12.0.\n",
      "  this_h = firwin(this_N, (prev_freq + this_freq) / 2.,\n"
     ]
    },
    {
     "name": "stdout",
     "output_type": "stream",
     "text": [
      "Filtering raw data in 1 contiguous segment\n",
      "Setting up low-pass filter at 50 Hz\n",
      "\n",
      "FIR filter parameters\n",
      "---------------------\n",
      "Designing a one-pass, zero-phase, non-causal lowpass filter:\n",
      "- Windowed time-domain design (firwin) method\n",
      "- Hamming window with 0.0194 passband ripple and 53 dB stopband attenuation\n",
      "- Upper passband edge: 50.00 Hz\n",
      "- Upper transition bandwidth: 12.50 Hz (-6 dB cutoff frequency: 56.25 Hz)\n",
      "- Filter length: 317 samples (0.264 sec)\n",
      "\n"
     ]
    },
    {
     "name": "stderr",
     "output_type": "stream",
     "text": [
      "c:\\ProgramData\\anaconda3\\envs\\mne\\lib\\site-packages\\mne\\filter.py:312: DeprecationWarning: Keyword argument 'nyq' is deprecated in favour of 'fs' and will be removed in SciPy 1.12.0.\n",
      "  this_h = firwin(this_N, (prev_freq + this_freq) / 2.,\n"
     ]
    },
    {
     "name": "stdout",
     "output_type": "stream",
     "text": [
      "Filtering raw data in 1 contiguous segment\n",
      "Setting up high-pass filter at 0.3 Hz\n",
      "\n",
      "FIR filter parameters\n",
      "---------------------\n",
      "Designing a one-pass, zero-phase, non-causal highpass filter:\n",
      "- Windowed time-domain design (firwin) method\n",
      "- Hamming window with 0.0194 passband ripple and 53 dB stopband attenuation\n",
      "- Lower passband edge: 0.30\n",
      "- Lower transition bandwidth: 0.30 Hz (-6 dB cutoff frequency: 0.15 Hz)\n",
      "- Filter length: 13201 samples (11.001 sec)\n",
      "\n"
     ]
    },
    {
     "name": "stderr",
     "output_type": "stream",
     "text": [
      "c:\\ProgramData\\anaconda3\\envs\\mne\\lib\\site-packages\\mne\\filter.py:312: DeprecationWarning: Keyword argument 'nyq' is deprecated in favour of 'fs' and will be removed in SciPy 1.12.0.\n",
      "  this_h = firwin(this_N, (prev_freq + this_freq) / 2.,\n"
     ]
    },
    {
     "name": "stdout",
     "output_type": "stream",
     "text": [
      "Filtering raw data in 1 contiguous segment\n",
      "Setting up low-pass filter at 50 Hz\n",
      "\n",
      "FIR filter parameters\n",
      "---------------------\n",
      "Designing a one-pass, zero-phase, non-causal lowpass filter:\n",
      "- Windowed time-domain design (firwin) method\n",
      "- Hamming window with 0.0194 passband ripple and 53 dB stopband attenuation\n",
      "- Upper passband edge: 50.00 Hz\n",
      "- Upper transition bandwidth: 12.50 Hz (-6 dB cutoff frequency: 56.25 Hz)\n",
      "- Filter length: 317 samples (0.264 sec)\n",
      "\n"
     ]
    },
    {
     "name": "stderr",
     "output_type": "stream",
     "text": [
      "c:\\ProgramData\\anaconda3\\envs\\mne\\lib\\site-packages\\mne\\filter.py:312: DeprecationWarning: Keyword argument 'nyq' is deprecated in favour of 'fs' and will be removed in SciPy 1.12.0.\n",
      "  this_h = firwin(this_N, (prev_freq + this_freq) / 2.,\n"
     ]
    },
    {
     "name": "stdout",
     "output_type": "stream",
     "text": [
      "Filtering raw data in 1 contiguous segment\n",
      "Setting up high-pass filter at 0.3 Hz\n",
      "\n",
      "FIR filter parameters\n",
      "---------------------\n",
      "Designing a one-pass, zero-phase, non-causal highpass filter:\n",
      "- Windowed time-domain design (firwin) method\n",
      "- Hamming window with 0.0194 passband ripple and 53 dB stopband attenuation\n",
      "- Lower passband edge: 0.30\n",
      "- Lower transition bandwidth: 0.30 Hz (-6 dB cutoff frequency: 0.15 Hz)\n",
      "- Filter length: 13201 samples (11.001 sec)\n",
      "\n"
     ]
    },
    {
     "name": "stderr",
     "output_type": "stream",
     "text": [
      "c:\\ProgramData\\anaconda3\\envs\\mne\\lib\\site-packages\\mne\\filter.py:312: DeprecationWarning: Keyword argument 'nyq' is deprecated in favour of 'fs' and will be removed in SciPy 1.12.0.\n",
      "  this_h = firwin(this_N, (prev_freq + this_freq) / 2.,\n"
     ]
    },
    {
     "name": "stdout",
     "output_type": "stream",
     "text": [
      "Filtering raw data in 1 contiguous segment\n",
      "Setting up low-pass filter at 50 Hz\n",
      "\n",
      "FIR filter parameters\n",
      "---------------------\n",
      "Designing a one-pass, zero-phase, non-causal lowpass filter:\n",
      "- Windowed time-domain design (firwin) method\n",
      "- Hamming window with 0.0194 passband ripple and 53 dB stopband attenuation\n",
      "- Upper passband edge: 50.00 Hz\n",
      "- Upper transition bandwidth: 12.50 Hz (-6 dB cutoff frequency: 56.25 Hz)\n",
      "- Filter length: 317 samples (0.264 sec)\n",
      "\n"
     ]
    },
    {
     "name": "stderr",
     "output_type": "stream",
     "text": [
      "c:\\ProgramData\\anaconda3\\envs\\mne\\lib\\site-packages\\mne\\filter.py:312: DeprecationWarning: Keyword argument 'nyq' is deprecated in favour of 'fs' and will be removed in SciPy 1.12.0.\n",
      "  this_h = firwin(this_N, (prev_freq + this_freq) / 2.,\n"
     ]
    },
    {
     "name": "stdout",
     "output_type": "stream",
     "text": [
      "Filtering raw data in 1 contiguous segment\n",
      "Setting up high-pass filter at 0.3 Hz\n",
      "\n",
      "FIR filter parameters\n",
      "---------------------\n",
      "Designing a one-pass, zero-phase, non-causal highpass filter:\n",
      "- Windowed time-domain design (firwin) method\n",
      "- Hamming window with 0.0194 passband ripple and 53 dB stopband attenuation\n",
      "- Lower passband edge: 0.30\n",
      "- Lower transition bandwidth: 0.30 Hz (-6 dB cutoff frequency: 0.15 Hz)\n",
      "- Filter length: 13201 samples (11.001 sec)\n",
      "\n"
     ]
    },
    {
     "name": "stderr",
     "output_type": "stream",
     "text": [
      "c:\\ProgramData\\anaconda3\\envs\\mne\\lib\\site-packages\\mne\\filter.py:312: DeprecationWarning: Keyword argument 'nyq' is deprecated in favour of 'fs' and will be removed in SciPy 1.12.0.\n",
      "  this_h = firwin(this_N, (prev_freq + this_freq) / 2.,\n"
     ]
    },
    {
     "name": "stdout",
     "output_type": "stream",
     "text": [
      "Filtering raw data in 1 contiguous segment\n",
      "Setting up low-pass filter at 50 Hz\n",
      "\n",
      "FIR filter parameters\n",
      "---------------------\n",
      "Designing a one-pass, zero-phase, non-causal lowpass filter:\n",
      "- Windowed time-domain design (firwin) method\n",
      "- Hamming window with 0.0194 passband ripple and 53 dB stopband attenuation\n",
      "- Upper passband edge: 50.00 Hz\n",
      "- Upper transition bandwidth: 12.50 Hz (-6 dB cutoff frequency: 56.25 Hz)\n",
      "- Filter length: 317 samples (0.264 sec)\n",
      "\n"
     ]
    },
    {
     "name": "stderr",
     "output_type": "stream",
     "text": [
      "c:\\ProgramData\\anaconda3\\envs\\mne\\lib\\site-packages\\mne\\filter.py:312: DeprecationWarning: Keyword argument 'nyq' is deprecated in favour of 'fs' and will be removed in SciPy 1.12.0.\n",
      "  this_h = firwin(this_N, (prev_freq + this_freq) / 2.,\n"
     ]
    },
    {
     "name": "stdout",
     "output_type": "stream",
     "text": [
      "Filtering raw data in 1 contiguous segment\n",
      "Setting up high-pass filter at 0.3 Hz\n",
      "\n",
      "FIR filter parameters\n",
      "---------------------\n",
      "Designing a one-pass, zero-phase, non-causal highpass filter:\n",
      "- Windowed time-domain design (firwin) method\n",
      "- Hamming window with 0.0194 passband ripple and 53 dB stopband attenuation\n",
      "- Lower passband edge: 0.30\n",
      "- Lower transition bandwidth: 0.30 Hz (-6 dB cutoff frequency: 0.15 Hz)\n",
      "- Filter length: 13201 samples (11.001 sec)\n",
      "\n"
     ]
    },
    {
     "name": "stderr",
     "output_type": "stream",
     "text": [
      "c:\\ProgramData\\anaconda3\\envs\\mne\\lib\\site-packages\\mne\\filter.py:312: DeprecationWarning: Keyword argument 'nyq' is deprecated in favour of 'fs' and will be removed in SciPy 1.12.0.\n",
      "  this_h = firwin(this_N, (prev_freq + this_freq) / 2.,\n"
     ]
    },
    {
     "name": "stdout",
     "output_type": "stream",
     "text": [
      "Filtering raw data in 1 contiguous segment\n",
      "Setting up low-pass filter at 50 Hz\n",
      "\n",
      "FIR filter parameters\n",
      "---------------------\n",
      "Designing a one-pass, zero-phase, non-causal lowpass filter:\n",
      "- Windowed time-domain design (firwin) method\n",
      "- Hamming window with 0.0194 passband ripple and 53 dB stopband attenuation\n",
      "- Upper passband edge: 50.00 Hz\n",
      "- Upper transition bandwidth: 12.50 Hz (-6 dB cutoff frequency: 56.25 Hz)\n",
      "- Filter length: 317 samples (0.264 sec)\n",
      "\n"
     ]
    },
    {
     "name": "stderr",
     "output_type": "stream",
     "text": [
      "c:\\ProgramData\\anaconda3\\envs\\mne\\lib\\site-packages\\mne\\filter.py:312: DeprecationWarning: Keyword argument 'nyq' is deprecated in favour of 'fs' and will be removed in SciPy 1.12.0.\n",
      "  this_h = firwin(this_N, (prev_freq + this_freq) / 2.,\n"
     ]
    },
    {
     "name": "stdout",
     "output_type": "stream",
     "text": [
      "Filtering raw data in 1 contiguous segment\n",
      "Setting up high-pass filter at 0.3 Hz\n",
      "\n",
      "FIR filter parameters\n",
      "---------------------\n",
      "Designing a one-pass, zero-phase, non-causal highpass filter:\n",
      "- Windowed time-domain design (firwin) method\n",
      "- Hamming window with 0.0194 passband ripple and 53 dB stopband attenuation\n",
      "- Lower passband edge: 0.30\n",
      "- Lower transition bandwidth: 0.30 Hz (-6 dB cutoff frequency: 0.15 Hz)\n",
      "- Filter length: 13201 samples (11.001 sec)\n",
      "\n"
     ]
    },
    {
     "name": "stderr",
     "output_type": "stream",
     "text": [
      "c:\\ProgramData\\anaconda3\\envs\\mne\\lib\\site-packages\\mne\\filter.py:312: DeprecationWarning: Keyword argument 'nyq' is deprecated in favour of 'fs' and will be removed in SciPy 1.12.0.\n",
      "  this_h = firwin(this_N, (prev_freq + this_freq) / 2.,\n"
     ]
    },
    {
     "name": "stdout",
     "output_type": "stream",
     "text": [
      "Filtering raw data in 1 contiguous segment\n",
      "Setting up low-pass filter at 50 Hz\n",
      "\n",
      "FIR filter parameters\n",
      "---------------------\n",
      "Designing a one-pass, zero-phase, non-causal lowpass filter:\n",
      "- Windowed time-domain design (firwin) method\n",
      "- Hamming window with 0.0194 passband ripple and 53 dB stopband attenuation\n",
      "- Upper passband edge: 50.00 Hz\n",
      "- Upper transition bandwidth: 12.50 Hz (-6 dB cutoff frequency: 56.25 Hz)\n",
      "- Filter length: 317 samples (0.264 sec)\n",
      "\n"
     ]
    },
    {
     "name": "stderr",
     "output_type": "stream",
     "text": [
      "c:\\ProgramData\\anaconda3\\envs\\mne\\lib\\site-packages\\mne\\filter.py:312: DeprecationWarning: Keyword argument 'nyq' is deprecated in favour of 'fs' and will be removed in SciPy 1.12.0.\n",
      "  this_h = firwin(this_N, (prev_freq + this_freq) / 2.,\n"
     ]
    },
    {
     "name": "stdout",
     "output_type": "stream",
     "text": [
      "Filtering raw data in 1 contiguous segment\n",
      "Setting up high-pass filter at 0.3 Hz\n",
      "\n",
      "FIR filter parameters\n",
      "---------------------\n",
      "Designing a one-pass, zero-phase, non-causal highpass filter:\n",
      "- Windowed time-domain design (firwin) method\n",
      "- Hamming window with 0.0194 passband ripple and 53 dB stopband attenuation\n",
      "- Lower passband edge: 0.30\n",
      "- Lower transition bandwidth: 0.30 Hz (-6 dB cutoff frequency: 0.15 Hz)\n",
      "- Filter length: 13201 samples (11.001 sec)\n",
      "\n"
     ]
    },
    {
     "name": "stderr",
     "output_type": "stream",
     "text": [
      "c:\\ProgramData\\anaconda3\\envs\\mne\\lib\\site-packages\\mne\\filter.py:312: DeprecationWarning: Keyword argument 'nyq' is deprecated in favour of 'fs' and will be removed in SciPy 1.12.0.\n",
      "  this_h = firwin(this_N, (prev_freq + this_freq) / 2.,\n"
     ]
    },
    {
     "name": "stdout",
     "output_type": "stream",
     "text": [
      "Filtering raw data in 1 contiguous segment\n",
      "Setting up low-pass filter at 50 Hz\n",
      "\n",
      "FIR filter parameters\n",
      "---------------------\n",
      "Designing a one-pass, zero-phase, non-causal lowpass filter:\n",
      "- Windowed time-domain design (firwin) method\n",
      "- Hamming window with 0.0194 passband ripple and 53 dB stopband attenuation\n",
      "- Upper passband edge: 50.00 Hz\n",
      "- Upper transition bandwidth: 12.50 Hz (-6 dB cutoff frequency: 56.25 Hz)\n",
      "- Filter length: 317 samples (0.264 sec)\n",
      "\n"
     ]
    },
    {
     "name": "stderr",
     "output_type": "stream",
     "text": [
      "c:\\ProgramData\\anaconda3\\envs\\mne\\lib\\site-packages\\mne\\filter.py:312: DeprecationWarning: Keyword argument 'nyq' is deprecated in favour of 'fs' and will be removed in SciPy 1.12.0.\n",
      "  this_h = firwin(this_N, (prev_freq + this_freq) / 2.,\n"
     ]
    },
    {
     "name": "stdout",
     "output_type": "stream",
     "text": [
      "Filtering raw data in 1 contiguous segment\n",
      "Setting up high-pass filter at 0.3 Hz\n",
      "\n",
      "FIR filter parameters\n",
      "---------------------\n",
      "Designing a one-pass, zero-phase, non-causal highpass filter:\n",
      "- Windowed time-domain design (firwin) method\n",
      "- Hamming window with 0.0194 passband ripple and 53 dB stopband attenuation\n",
      "- Lower passband edge: 0.30\n",
      "- Lower transition bandwidth: 0.30 Hz (-6 dB cutoff frequency: 0.15 Hz)\n",
      "- Filter length: 13201 samples (11.001 sec)\n",
      "\n"
     ]
    },
    {
     "name": "stderr",
     "output_type": "stream",
     "text": [
      "c:\\ProgramData\\anaconda3\\envs\\mne\\lib\\site-packages\\mne\\filter.py:312: DeprecationWarning: Keyword argument 'nyq' is deprecated in favour of 'fs' and will be removed in SciPy 1.12.0.\n",
      "  this_h = firwin(this_N, (prev_freq + this_freq) / 2.,\n"
     ]
    },
    {
     "name": "stdout",
     "output_type": "stream",
     "text": [
      "Filtering raw data in 1 contiguous segment\n",
      "Setting up low-pass filter at 50 Hz\n",
      "\n",
      "FIR filter parameters\n",
      "---------------------\n",
      "Designing a one-pass, zero-phase, non-causal lowpass filter:\n",
      "- Windowed time-domain design (firwin) method\n",
      "- Hamming window with 0.0194 passband ripple and 53 dB stopband attenuation\n",
      "- Upper passband edge: 50.00 Hz\n",
      "- Upper transition bandwidth: 12.50 Hz (-6 dB cutoff frequency: 56.25 Hz)\n",
      "- Filter length: 317 samples (0.264 sec)\n",
      "\n"
     ]
    },
    {
     "name": "stderr",
     "output_type": "stream",
     "text": [
      "c:\\ProgramData\\anaconda3\\envs\\mne\\lib\\site-packages\\mne\\filter.py:312: DeprecationWarning: Keyword argument 'nyq' is deprecated in favour of 'fs' and will be removed in SciPy 1.12.0.\n",
      "  this_h = firwin(this_N, (prev_freq + this_freq) / 2.,\n"
     ]
    }
   ],
   "source": [
    "case = 'exo invalid'\n",
    "watch = '11 stim'\n",
    "tmin = -0.05\n",
    "tmax = 0.2\n",
    "real_ids = [1, 3, 4, 5, 9, 12, 13, 17, 18]\n",
    "sham_ids = [2, 6, 7, 8, 10, 11, 14, 15, 16]\n",
    "\n",
    "highpass = 0.3\n",
    "lowpass = 50\n",
    "\n",
    "EP_lists = fe.pipeline_csp_onecond(case, watch, tmin, tmax, hipass=highpass, lopass=lowpass, mean_baseline=True)"
   ]
  },
  {
   "cell_type": "code",
   "execution_count": 261,
   "metadata": {},
   "outputs": [],
   "source": [
    "a = EP_lists[0]"
   ]
  },
  {
   "cell_type": "code",
   "execution_count": 262,
   "metadata": {},
   "outputs": [
    {
     "name": "stdout",
     "output_type": "stream",
     "text": [
      "Creating RawArray with float64 data, n_channels=32, n_times=2\n",
      "    Range : 0 ... 1 =      0.000 ...     0.001 secs\n",
      "Ready.\n"
     ]
    },
    {
     "data": {
      "text/html": [
       "<table class=\"table table-hover table-striped table-sm table-responsive small\">\n",
       "    <tr>\n",
       "        <th>Measurement date</th>\n",
       "        \n",
       "        <td>Unknown</td>\n",
       "        \n",
       "    </tr>\n",
       "    <tr>\n",
       "        <th>Experimenter</th>\n",
       "        \n",
       "        <td>Unknown</td>\n",
       "        \n",
       "    </tr>\n",
       "        <th>Participant</th>\n",
       "        \n",
       "        <td>Unknown</td>\n",
       "        \n",
       "    </tr>\n",
       "    <tr>\n",
       "        <th>Digitized points</th>\n",
       "        \n",
       "        <td>0 points</td>\n",
       "        \n",
       "    </tr>\n",
       "    <tr>\n",
       "        <th>Good channels</th>\n",
       "        <td>32 EEG</td>\n",
       "    </tr>\n",
       "    <tr>\n",
       "        <th>Bad channels</th>\n",
       "        <td>None</td>\n",
       "    </tr>\n",
       "    <tr>\n",
       "        <th>EOG channels</th>\n",
       "        <td>Not available</td>\n",
       "    </tr>\n",
       "    <tr>\n",
       "        <th>ECG channels</th>\n",
       "        <td>Not available</td>\n",
       "    \n",
       "    <tr>\n",
       "        <th>Sampling frequency</th>\n",
       "        <td>1200.00 Hz</td>\n",
       "    </tr>\n",
       "    \n",
       "    \n",
       "    <tr>\n",
       "        <th>Highpass</th>\n",
       "        <td>0.00 Hz</td>\n",
       "    </tr>\n",
       "    \n",
       "    \n",
       "    <tr>\n",
       "        <th>Lowpass</th>\n",
       "        <td>600.00 Hz</td>\n",
       "    </tr>\n",
       "    \n",
       "    \n",
       "    \n",
       "    <tr>\n",
       "        <th>Duration</th>\n",
       "        <td>00:00:00 (HH:MM:SS)</td>\n",
       "    </tr>\n",
       "</table>"
      ],
      "text/plain": [
       "<RawArray | 32 x 2 (0.0 s), ~48 kB, data loaded>"
      ]
     },
     "execution_count": 262,
     "metadata": {},
     "output_type": "execute_result"
    }
   ],
   "source": [
    "label_dict = {\"Sham before\":0, \"Sham after\":1, \"Real before\":2, \"Real after\":3}\n",
    "label1, label2 = \"Sham after\", \"Real after\"\n",
    "data1, data2 = EP_lists[label_dict[label1]], EP_lists[label_dict[label2]]\n",
    "data = np.concatenate((data1, data2), axis=0)\n",
    "labels = np.zeros(data1.shape[0] + data2.shape[0])\n",
    "labels[:data1.shape[0]] = 0\n",
    "labels[data1.shape[0]:] = 1\n",
    "\n",
    "# get placement data of standard 10-20 system\n",
    "montage_1020 = mne.channels.make_standard_montage('standard_1020')\n",
    "positions_1020 = montage_1020._get_ch_pos()\n",
    "elec_coords_1020 = {ch_name: coord for ch_name, coord in positions_1020.items() if ch_name in montage_1020.ch_names}\n",
    "\n",
    "# Define channel names and types\n",
    "ch_names = ['Fp1', 'Fp2', \n",
    "                    'AF3', 'AF4', \n",
    "                    'F7', 'F3', 'Fz', 'F4', 'F8',\n",
    "                    'FC1', 'FC2',\n",
    "                    'T7', 'C3', 'Cz', 'C4', 'T8',\n",
    "                    'CP5', 'CP1', 'CP2', 'CP6',\n",
    "                    'P7', 'P5', 'P3', 'Pz', 'P4', 'P6', 'P8',\n",
    "                    'PO3', 'PO4',\n",
    "                    'O1', 'Oz', 'O2']\n",
    "ch_types = ['eeg'] * 32\n",
    "\n",
    "# Create the info object\n",
    "info = mne.create_info(ch_names, sfreq=1200, ch_types=ch_types)\n",
    "# Create raw object\n",
    "raw = mne.io.RawArray(np.empty([32,2]), info)\n",
    "\n",
    "# manually add the placement of electrodes\n",
    "elec_coords = {\n",
    "    'Fp1': elec_coords_1020['Fp1'],\n",
    "    'Fp2': elec_coords_1020['Fp2'],\n",
    "    'AF3': elec_coords_1020['AF3'],\n",
    "    'AF4': elec_coords_1020['AF4'],\n",
    "    'F7': elec_coords_1020['F7'],\n",
    "    'F3': elec_coords_1020['F3'],\n",
    "    'Fz': elec_coords_1020['Fz'],\n",
    "    'F4': elec_coords_1020['F4'],\n",
    "    'F8': elec_coords_1020['F8'],\n",
    "    'FC1': elec_coords_1020['FC1'],\n",
    "    'FC2': elec_coords_1020['FC2'],\n",
    "    'T7': elec_coords_1020['T7'],\n",
    "    'C3': elec_coords_1020['C3'],\n",
    "    'Cz': elec_coords_1020['Cz'],\n",
    "    'C4': elec_coords_1020['C4'],\n",
    "    'T8': elec_coords_1020['T8'],\n",
    "    'CP5': elec_coords_1020['CP5'],\n",
    "    'CP1': elec_coords_1020['CP1'],\n",
    "    'CP2': elec_coords_1020['CP2'],\n",
    "    'CP6': elec_coords_1020['CP6'],\n",
    "    'P7': elec_coords_1020['P7'],\n",
    "    'P5': elec_coords_1020['P5'],\n",
    "    'P3': elec_coords_1020['P3'],\n",
    "    'Pz': elec_coords_1020['Pz'],\n",
    "    'P4': elec_coords_1020['P4'],\n",
    "    'P6': elec_coords_1020['P6'],\n",
    "    'P8': elec_coords_1020['P8'],\n",
    "    'PO3': elec_coords_1020['PO3'],\n",
    "    'PO4': elec_coords_1020['PO4'],\n",
    "    'O1': elec_coords_1020['O1'],\n",
    "    'Oz': elec_coords_1020['Oz'],\n",
    "    'O2': elec_coords_1020['O2'],\n",
    "}\n",
    "\n",
    "# Create the montage object\n",
    "montage = mne.channels.make_dig_montage(elec_coords, coord_frame='head')\n",
    "\n",
    "# add info and montage to raw object\n",
    "raw.set_montage(montage)"
   ]
  },
  {
   "cell_type": "code",
   "execution_count": 263,
   "metadata": {},
   "outputs": [
    {
     "name": "stdout",
     "output_type": "stream",
     "text": [
      "Computing rank from data with rank=None\n",
      "    Using tolerance 4.7e-05 (2.2e-16 eps * 32 dim * 6.6e+09  max singular value)\n",
      "    Estimated rank (mag): 32\n",
      "    MAG: rank 32 computed from 32 data channels with 0 projectors\n",
      "Reducing data rank from 32 -> 32\n",
      "Estimating covariance using EMPIRICAL\n",
      "Done.\n",
      "Computing rank from data with rank=None\n",
      "    Using tolerance 3.6e-05 (2.2e-16 eps * 32 dim * 5.1e+09  max singular value)\n",
      "    Estimated rank (mag): 32\n",
      "    MAG: rank 32 computed from 32 data channels with 0 projectors\n",
      "Reducing data rank from 32 -> 32\n",
      "Estimating covariance using EMPIRICAL\n",
      "Done.\n",
      "Computing rank from data with rank=None\n",
      "    Using tolerance 4.6e-05 (2.2e-16 eps * 32 dim * 6.4e+09  max singular value)\n",
      "    Estimated rank (mag): 32\n",
      "    MAG: rank 32 computed from 32 data channels with 0 projectors\n",
      "Reducing data rank from 32 -> 32\n",
      "Estimating covariance using EMPIRICAL\n",
      "Done.\n",
      "Computing rank from data with rank=None\n",
      "    Using tolerance 3.7e-05 (2.2e-16 eps * 32 dim * 5.2e+09  max singular value)\n",
      "    Estimated rank (mag): 32\n",
      "    MAG: rank 32 computed from 32 data channels with 0 projectors\n",
      "Reducing data rank from 32 -> 32\n",
      "Estimating covariance using EMPIRICAL\n",
      "Done.\n",
      "Computing rank from data with rank=None\n",
      "    Using tolerance 5e-05 (2.2e-16 eps * 32 dim * 7e+09  max singular value)\n",
      "    Estimated rank (mag): 32\n",
      "    MAG: rank 32 computed from 32 data channels with 0 projectors\n",
      "Reducing data rank from 32 -> 32\n",
      "Estimating covariance using EMPIRICAL\n",
      "Done.\n",
      "Computing rank from data with rank=None\n",
      "    Using tolerance 3.6e-05 (2.2e-16 eps * 32 dim * 5e+09  max singular value)\n",
      "    Estimated rank (mag): 32\n",
      "    MAG: rank 32 computed from 32 data channels with 0 projectors\n",
      "Reducing data rank from 32 -> 32\n",
      "Estimating covariance using EMPIRICAL\n",
      "Done.\n",
      "Computing rank from data with rank=None\n",
      "    Using tolerance 4.3e-05 (2.2e-16 eps * 32 dim * 6e+09  max singular value)\n",
      "    Estimated rank (mag): 32\n",
      "    MAG: rank 32 computed from 32 data channels with 0 projectors\n",
      "Reducing data rank from 32 -> 32\n",
      "Estimating covariance using EMPIRICAL\n",
      "Done.\n",
      "Computing rank from data with rank=None\n",
      "    Using tolerance 3.5e-05 (2.2e-16 eps * 32 dim * 5e+09  max singular value)\n",
      "    Estimated rank (mag): 32\n",
      "    MAG: rank 32 computed from 32 data channels with 0 projectors\n",
      "Reducing data rank from 32 -> 32\n",
      "Estimating covariance using EMPIRICAL\n",
      "Done.\n",
      "Computing rank from data with rank=None\n",
      "    Using tolerance 4.9e-05 (2.2e-16 eps * 32 dim * 6.9e+09  max singular value)\n",
      "    Estimated rank (mag): 32\n",
      "    MAG: rank 32 computed from 32 data channels with 0 projectors\n",
      "Reducing data rank from 32 -> 32\n",
      "Estimating covariance using EMPIRICAL\n",
      "Done.\n",
      "Computing rank from data with rank=None\n",
      "    Using tolerance 3.5e-05 (2.2e-16 eps * 32 dim * 4.9e+09  max singular value)\n",
      "    Estimated rank (mag): 32\n",
      "    MAG: rank 32 computed from 32 data channels with 0 projectors\n",
      "Reducing data rank from 32 -> 32\n",
      "Estimating covariance using EMPIRICAL\n",
      "Done.\n",
      "Computing rank from data with rank=None\n",
      "    Using tolerance 5.3e-05 (2.2e-16 eps * 32 dim * 7.5e+09  max singular value)\n",
      "    Estimated rank (mag): 32\n",
      "    MAG: rank 32 computed from 32 data channels with 0 projectors\n",
      "Reducing data rank from 32 -> 32\n",
      "Estimating covariance using EMPIRICAL\n",
      "Done.\n",
      "Computing rank from data with rank=None\n",
      "    Using tolerance 3.4e-05 (2.2e-16 eps * 32 dim * 4.8e+09  max singular value)\n",
      "    Estimated rank (mag): 32\n",
      "    MAG: rank 32 computed from 32 data channels with 0 projectors\n",
      "Reducing data rank from 32 -> 32\n",
      "Estimating covariance using EMPIRICAL\n",
      "Done.\n",
      "Computing rank from data with rank=None\n",
      "    Using tolerance 4.2e-05 (2.2e-16 eps * 32 dim * 6e+09  max singular value)\n",
      "    Estimated rank (mag): 32\n",
      "    MAG: rank 32 computed from 32 data channels with 0 projectors\n",
      "Reducing data rank from 32 -> 32\n",
      "Estimating covariance using EMPIRICAL\n",
      "Done.\n",
      "Computing rank from data with rank=None\n",
      "    Using tolerance 3.7e-05 (2.2e-16 eps * 32 dim * 5.3e+09  max singular value)\n",
      "    Estimated rank (mag): 32\n",
      "    MAG: rank 32 computed from 32 data channels with 0 projectors\n",
      "Reducing data rank from 32 -> 32\n",
      "Estimating covariance using EMPIRICAL\n",
      "Done.\n",
      "Computing rank from data with rank=None\n",
      "    Using tolerance 4.5e-05 (2.2e-16 eps * 32 dim * 6.3e+09  max singular value)\n",
      "    Estimated rank (mag): 32\n",
      "    MAG: rank 32 computed from 32 data channels with 0 projectors\n",
      "Reducing data rank from 32 -> 32\n",
      "Estimating covariance using EMPIRICAL\n",
      "Done.\n",
      "Computing rank from data with rank=None\n",
      "    Using tolerance 3.7e-05 (2.2e-16 eps * 32 dim * 5.2e+09  max singular value)\n",
      "    Estimated rank (mag): 32\n",
      "    MAG: rank 32 computed from 32 data channels with 0 projectors\n",
      "Reducing data rank from 32 -> 32\n",
      "Estimating covariance using EMPIRICAL\n",
      "Done.\n",
      "Computing rank from data with rank=None\n",
      "    Using tolerance 4.9e-05 (2.2e-16 eps * 32 dim * 6.8e+09  max singular value)\n",
      "    Estimated rank (mag): 32\n",
      "    MAG: rank 32 computed from 32 data channels with 0 projectors\n",
      "Reducing data rank from 32 -> 32\n",
      "Estimating covariance using EMPIRICAL\n",
      "Done.\n",
      "Computing rank from data with rank=None\n",
      "    Using tolerance 3.6e-05 (2.2e-16 eps * 32 dim * 5.1e+09  max singular value)\n",
      "    Estimated rank (mag): 32\n",
      "    MAG: rank 32 computed from 32 data channels with 0 projectors\n",
      "Reducing data rank from 32 -> 32\n",
      "Estimating covariance using EMPIRICAL\n",
      "Done.\n",
      "Computing rank from data with rank=None\n",
      "    Using tolerance 5.1e-05 (2.2e-16 eps * 32 dim * 7.2e+09  max singular value)\n",
      "    Estimated rank (mag): 32\n",
      "    MAG: rank 32 computed from 32 data channels with 0 projectors\n",
      "Reducing data rank from 32 -> 32\n",
      "Estimating covariance using EMPIRICAL\n",
      "Done.\n",
      "Computing rank from data with rank=None\n",
      "    Using tolerance 3.5e-05 (2.2e-16 eps * 32 dim * 4.9e+09  max singular value)\n",
      "    Estimated rank (mag): 32\n",
      "    MAG: rank 32 computed from 32 data channels with 0 projectors\n",
      "Reducing data rank from 32 -> 32\n",
      "Estimating covariance using EMPIRICAL\n",
      "Done.\n",
      "Classification accuracy: 0.787179 / Chance level: 0.546875\n",
      "Computing rank from data with rank=None\n",
      "    Using tolerance 5.4e-05 (2.2e-16 eps * 32 dim * 7.7e+09  max singular value)\n",
      "    Estimated rank (mag): 32\n",
      "    MAG: rank 32 computed from 32 data channels with 0 projectors\n",
      "Reducing data rank from 32 -> 32\n",
      "Estimating covariance using EMPIRICAL\n",
      "Done.\n",
      "Computing rank from data with rank=None\n",
      "    Using tolerance 3.9e-05 (2.2e-16 eps * 32 dim * 5.5e+09  max singular value)\n",
      "    Estimated rank (mag): 32\n",
      "    MAG: rank 32 computed from 32 data channels with 0 projectors\n",
      "Reducing data rank from 32 -> 32\n",
      "Estimating covariance using EMPIRICAL\n",
      "Done.\n"
     ]
    }
   ],
   "source": [
    "# Define a monte-carlo cross-validation generator (reduce variance):\n",
    "scores = []\n",
    "data_train = data# [:,:,61:180] # ????\n",
    "cv = ShuffleSplit(10, test_size=0.2, random_state=42)\n",
    "cv_split = cv.split(data_train)\n",
    "\n",
    "# Assemble a classifier\n",
    "lda = LinearDiscriminantAnalysis()\n",
    "csp = CSP(n_components=4, reg=None, log=True, norm_trace=False)\n",
    "\n",
    "# Use scikit-learn Pipeline with cross_val_score function\n",
    "clf = Pipeline([(\"CSP\", csp), (\"LDA\", lda)])\n",
    "scores = cross_val_score(clf, data_train, labels, cv=cv, n_jobs=None)\n",
    "\n",
    "# Printing the results\n",
    "class_balance = np.mean(labels == labels[0])\n",
    "class_balance = max(class_balance, 1.0 - class_balance)\n",
    "print(\n",
    "    \"Classification accuracy: %f / Chance level: %f\" % (np.mean(scores), class_balance)\n",
    ")\n",
    "\n",
    "# plot CSP patterns estimated on full data for visualization\n",
    "csp.fit_transform(data, labels)\n",
    "patterns = csp.patterns_\n",
    "# csp.plot_patterns(raw.info, ch_type=\"eeg\", units=\"Patterns (AU)\", size=2, contours=10)\n",
    "\n",
    "\n",
    "# Get the top 2 and bottom 2 patterns\n",
    "top_patterns = csp.patterns_[0, :]\n",
    "bottom_patterns = csp.patterns_[-1, :]\n",
    "\n",
    "def special_normalize(data):\n",
    "    positive_values = data[data > 0]\n",
    "    negative_values = data[data < 0]\n",
    "\n",
    "    # Set defaults for max_positive and min_negative\n",
    "    max_positive = 0\n",
    "    min_negative = 0\n",
    "    \n",
    "    # Update the values if positive or negative arrays are not empty\n",
    "    if positive_values.size > 0:\n",
    "        max_positive = np.max(positive_values)\n",
    "    if negative_values.size > 0:\n",
    "        min_negative = np.min(negative_values)\n",
    "    \n",
    "    # Determine the larger absolute value between max_positive and min_negative\n",
    "    max_abs_value = max(abs(max_positive), abs(min_negative))\n",
    "    \n",
    "    # Normalize data with respect to the max_abs_value\n",
    "    normalized_data = data / max_abs_value\n",
    "    return normalized_data\n",
    "\n",
    "top_patterns = special_normalize(top_patterns)\n",
    "bottom_patterns = special_normalize(bottom_patterns)\n"
   ]
  },
  {
   "cell_type": "code",
   "execution_count": 264,
   "metadata": {},
   "outputs": [
    {
     "data": {
      "image/png": "[encoded data removed]",
      "text/plain": [
       "<Figure size 700x300 with 3 Axes>"
      ]
     },
     "metadata": {},
     "output_type": "display_data"
    }
   ],
   "source": [
    "all_patterns = np.vstack([top_patterns, bottom_patterns])\n",
    "\n",
    "# Plotting (you might need to adjust this according to your setup)\n",
    "# This will give you 4 patterns: 2 for class 1 and 2 for class 2\\\n",
    "fig, axs = plt.subplots(1, 2, figsize=(7, 3))\n",
    "for i, ax in enumerate(axs.ravel()):\n",
    "    image,cn = mne.viz.plot_topomap(all_patterns[i, :], raw.info, axes=ax, show=False, contours=6, vmin=-1, vmax=1)\n",
    "    # plt.colorbar(image, ax=ax, ticks=[-1, 0, 1])\n",
    "    \n",
    "fig.suptitle('CSP: %s' % case)\n",
    "fig.colorbar(image, ax=axs.ravel().tolist(), ticks=[-1, 0, 1])\n",
    "# plt.tight_layout()\n",
    "plt.show()"
   ]
  },
  {
   "cell_type": "code",
   "execution_count": 265,
   "metadata": {},
   "outputs": [
    {
     "name": "stdout",
     "output_type": "stream",
     "text": [
      "Computing rank from data with rank=None\n",
      "    Using tolerance 4.7e-05 (2.2e-16 eps * 32 dim * 6.6e+09  max singular value)\n",
      "    Estimated rank (mag): 32\n",
      "    MAG: rank 32 computed from 32 data channels with 0 projectors\n",
      "Reducing data rank from 32 -> 32\n",
      "Estimating covariance using EMPIRICAL\n",
      "Done.\n",
      "Computing rank from data with rank=None\n",
      "    Using tolerance 3.6e-05 (2.2e-16 eps * 32 dim * 5.1e+09  max singular value)\n",
      "    Estimated rank (mag): 32\n",
      "    MAG: rank 32 computed from 32 data channels with 0 projectors\n",
      "Reducing data rank from 32 -> 32\n",
      "Estimating covariance using EMPIRICAL\n",
      "Done.\n",
      "Computing rank from data with rank=None\n",
      "    Using tolerance 4.6e-05 (2.2e-16 eps * 32 dim * 6.4e+09  max singular value)\n",
      "    Estimated rank (mag): 32\n",
      "    MAG: rank 32 computed from 32 data channels with 0 projectors\n",
      "Reducing data rank from 32 -> 32\n",
      "Estimating covariance using EMPIRICAL\n",
      "Done.\n",
      "Computing rank from data with rank=None\n",
      "    Using tolerance 3.7e-05 (2.2e-16 eps * 32 dim * 5.2e+09  max singular value)\n",
      "    Estimated rank (mag): 32\n",
      "    MAG: rank 32 computed from 32 data channels with 0 projectors\n",
      "Reducing data rank from 32 -> 32\n",
      "Estimating covariance using EMPIRICAL\n",
      "Done.\n",
      "Computing rank from data with rank=None\n",
      "    Using tolerance 5e-05 (2.2e-16 eps * 32 dim * 7e+09  max singular value)\n",
      "    Estimated rank (mag): 32\n",
      "    MAG: rank 32 computed from 32 data channels with 0 projectors\n",
      "Reducing data rank from 32 -> 32\n",
      "Estimating covariance using EMPIRICAL\n",
      "Done.\n",
      "Computing rank from data with rank=None\n",
      "    Using tolerance 3.6e-05 (2.2e-16 eps * 32 dim * 5e+09  max singular value)\n",
      "    Estimated rank (mag): 32\n",
      "    MAG: rank 32 computed from 32 data channels with 0 projectors\n",
      "Reducing data rank from 32 -> 32\n",
      "Estimating covariance using EMPIRICAL\n",
      "Done.\n",
      "Computing rank from data with rank=None\n",
      "    Using tolerance 4.3e-05 (2.2e-16 eps * 32 dim * 6e+09  max singular value)\n",
      "    Estimated rank (mag): 32\n",
      "    MAG: rank 32 computed from 32 data channels with 0 projectors\n",
      "Reducing data rank from 32 -> 32\n",
      "Estimating covariance using EMPIRICAL\n",
      "Done.\n",
      "Computing rank from data with rank=None\n",
      "    Using tolerance 3.5e-05 (2.2e-16 eps * 32 dim * 5e+09  max singular value)\n",
      "    Estimated rank (mag): 32\n",
      "    MAG: rank 32 computed from 32 data channels with 0 projectors\n",
      "Reducing data rank from 32 -> 32\n",
      "Estimating covariance using EMPIRICAL\n",
      "Done.\n",
      "Computing rank from data with rank=None\n",
      "    Using tolerance 4.9e-05 (2.2e-16 eps * 32 dim * 6.9e+09  max singular value)\n",
      "    Estimated rank (mag): 32\n",
      "    MAG: rank 32 computed from 32 data channels with 0 projectors\n",
      "Reducing data rank from 32 -> 32\n",
      "Estimating covariance using EMPIRICAL\n",
      "Done.\n",
      "Computing rank from data with rank=None\n",
      "    Using tolerance 3.5e-05 (2.2e-16 eps * 32 dim * 4.9e+09  max singular value)\n",
      "    Estimated rank (mag): 32\n",
      "    MAG: rank 32 computed from 32 data channels with 0 projectors\n",
      "Reducing data rank from 32 -> 32\n",
      "Estimating covariance using EMPIRICAL\n",
      "Done.\n",
      "Computing rank from data with rank=None\n",
      "    Using tolerance 5.3e-05 (2.2e-16 eps * 32 dim * 7.5e+09  max singular value)\n",
      "    Estimated rank (mag): 32\n",
      "    MAG: rank 32 computed from 32 data channels with 0 projectors\n",
      "Reducing data rank from 32 -> 32\n",
      "Estimating covariance using EMPIRICAL\n",
      "Done.\n",
      "Computing rank from data with rank=None\n",
      "    Using tolerance 3.4e-05 (2.2e-16 eps * 32 dim * 4.8e+09  max singular value)\n",
      "    Estimated rank (mag): 32\n",
      "    MAG: rank 32 computed from 32 data channels with 0 projectors\n",
      "Reducing data rank from 32 -> 32\n",
      "Estimating covariance using EMPIRICAL\n",
      "Done.\n",
      "Computing rank from data with rank=None\n",
      "    Using tolerance 4.2e-05 (2.2e-16 eps * 32 dim * 6e+09  max singular value)\n",
      "    Estimated rank (mag): 32\n",
      "    MAG: rank 32 computed from 32 data channels with 0 projectors\n",
      "Reducing data rank from 32 -> 32\n",
      "Estimating covariance using EMPIRICAL\n",
      "Done.\n",
      "Computing rank from data with rank=None\n",
      "    Using tolerance 3.7e-05 (2.2e-16 eps * 32 dim * 5.3e+09  max singular value)\n",
      "    Estimated rank (mag): 32\n",
      "    MAG: rank 32 computed from 32 data channels with 0 projectors\n",
      "Reducing data rank from 32 -> 32\n",
      "Estimating covariance using EMPIRICAL\n",
      "Done.\n",
      "Computing rank from data with rank=None\n",
      "    Using tolerance 4.5e-05 (2.2e-16 eps * 32 dim * 6.3e+09  max singular value)\n",
      "    Estimated rank (mag): 32\n",
      "    MAG: rank 32 computed from 32 data channels with 0 projectors\n",
      "Reducing data rank from 32 -> 32\n",
      "Estimating covariance using EMPIRICAL\n",
      "Done.\n",
      "Computing rank from data with rank=None\n",
      "    Using tolerance 3.7e-05 (2.2e-16 eps * 32 dim * 5.2e+09  max singular value)\n",
      "    Estimated rank (mag): 32\n",
      "    MAG: rank 32 computed from 32 data channels with 0 projectors\n",
      "Reducing data rank from 32 -> 32\n",
      "Estimating covariance using EMPIRICAL\n",
      "Done.\n",
      "Computing rank from data with rank=None\n",
      "    Using tolerance 4.9e-05 (2.2e-16 eps * 32 dim * 6.8e+09  max singular value)\n",
      "    Estimated rank (mag): 32\n",
      "    MAG: rank 32 computed from 32 data channels with 0 projectors\n",
      "Reducing data rank from 32 -> 32\n",
      "Estimating covariance using EMPIRICAL\n",
      "Done.\n",
      "Computing rank from data with rank=None\n",
      "    Using tolerance 3.6e-05 (2.2e-16 eps * 32 dim * 5.1e+09  max singular value)\n",
      "    Estimated rank (mag): 32\n",
      "    MAG: rank 32 computed from 32 data channels with 0 projectors\n",
      "Reducing data rank from 32 -> 32\n",
      "Estimating covariance using EMPIRICAL\n",
      "Done.\n",
      "Computing rank from data with rank=None\n",
      "    Using tolerance 5.1e-05 (2.2e-16 eps * 32 dim * 7.2e+09  max singular value)\n",
      "    Estimated rank (mag): 32\n",
      "    MAG: rank 32 computed from 32 data channels with 0 projectors\n",
      "Reducing data rank from 32 -> 32\n",
      "Estimating covariance using EMPIRICAL\n",
      "Done.\n",
      "Computing rank from data with rank=None\n",
      "    Using tolerance 3.5e-05 (2.2e-16 eps * 32 dim * 4.9e+09  max singular value)\n",
      "    Estimated rank (mag): 32\n",
      "    MAG: rank 32 computed from 32 data channels with 0 projectors\n",
      "Reducing data rank from 32 -> 32\n",
      "Estimating covariance using EMPIRICAL\n",
      "Done.\n"
     ]
    },
    {
     "data": {
      "image/png": "[encoded data removed]",
      "text/plain": [
       "<Figure size 640x480 with 1 Axes>"
      ]
     },
     "metadata": {},
     "output_type": "display_data"
    }
   ],
   "source": [
    "sfreq = raw.info[\"sfreq\"]\n",
    "w_length = int(sfreq * 0.025)  # running classifier: window length\n",
    "w_step = int(sfreq * 0.01)  # running classifier: window step size\n",
    "w_start = np.arange(0, data.shape[2] - w_length, w_step)\n",
    "\n",
    "scores_windows = []\n",
    "\n",
    "for train_idx, test_idx in cv_split:\n",
    "    y_train, y_test = labels[train_idx], labels[test_idx]\n",
    "\n",
    "    X_train = csp.fit_transform(data_train[train_idx], y_train)\n",
    "    X_test = csp.transform(data_train[test_idx])\n",
    "\n",
    "    # fit classifier\n",
    "    lda.fit(X_train, y_train)\n",
    "\n",
    "    # running classifier: test classifier on sliding window\n",
    "    score_this_window = []\n",
    "    for n in w_start:\n",
    "        X_test = csp.transform(data[test_idx][:, :, n : (n + w_length)])\n",
    "        lda_score = lda.score(X_test, y_test)\n",
    "        score_this_window.append(lda_score)\n",
    "    scores_windows.append(score_this_window)\n",
    "\n",
    "# Plot scores over time\n",
    "w_times = (w_start + w_length / 2.0) / sfreq + tmin\n",
    "chance_level = max(data1.shape[0], data2.shape[0]) / data.shape[0]\n",
    "\n",
    "plt.figure()\n",
    "plt.plot(w_times, np.mean(scores_windows, 0), label=\"Score\")\n",
    "plt.axvline(0, linestyle=\"--\", color=\"k\", label=\"Onset\")\n",
    "plt.axhline(chance_level, linestyle=\"-\", color=\"k\", label=\"Chance\")\n",
    "plt.xlabel(\"time (s)\")\n",
    "plt.ylabel(\"classification accuracy\")\n",
    "plt.title(\"Classification score over time\")\n",
    "plt.legend(loc=\"lower right\")\n",
    "plt.xlim([tmin, tmax])\n",
    "plt.show()"
   ]
  },
  {
   "cell_type": "code",
   "execution_count": 266,
   "metadata": {},
   "outputs": [
    {
     "name": "stdout",
     "output_type": "stream",
     "text": [
      "Computing rank from data with rank=None\n",
      "    Using tolerance 5.2e-05 (2.2e-16 eps * 32 dim * 7.4e+09  max singular value)\n",
      "    Estimated rank (mag): 32\n",
      "    MAG: rank 32 computed from 32 data channels with 0 projectors\n",
      "Reducing data rank from 32 -> 32\n",
      "Estimating covariance using EMPIRICAL\n",
      "Done.\n",
      "Computing rank from data with rank=None\n",
      "    Using tolerance 3.6e-05 (2.2e-16 eps * 32 dim * 5.1e+09  max singular value)\n",
      "    Estimated rank (mag): 32\n",
      "    MAG: rank 32 computed from 32 data channels with 0 projectors\n",
      "Reducing data rank from 32 -> 32\n",
      "Estimating covariance using EMPIRICAL\n",
      "Done.\n",
      "Computing rank from data with rank=None\n",
      "    Using tolerance 5.3e-05 (2.2e-16 eps * 32 dim * 7.5e+09  max singular value)\n",
      "    Estimated rank (mag): 32\n",
      "    MAG: rank 32 computed from 32 data channels with 0 projectors\n",
      "Reducing data rank from 32 -> 32\n",
      "Estimating covariance using EMPIRICAL\n",
      "Done.\n",
      "Computing rank from data with rank=None\n",
      "    Using tolerance 3.6e-05 (2.2e-16 eps * 32 dim * 5.1e+09  max singular value)\n",
      "    Estimated rank (mag): 32\n",
      "    MAG: rank 32 computed from 32 data channels with 0 projectors\n",
      "Reducing data rank from 32 -> 32\n",
      "Estimating covariance using EMPIRICAL\n",
      "Done.\n",
      "Computing rank from data with rank=None\n",
      "    Using tolerance 5.2e-05 (2.2e-16 eps * 32 dim * 7.4e+09  max singular value)\n",
      "    Estimated rank (mag): 32\n",
      "    MAG: rank 32 computed from 32 data channels with 0 projectors\n",
      "Reducing data rank from 32 -> 32\n",
      "Estimating covariance using EMPIRICAL\n",
      "Done.\n",
      "Computing rank from data with rank=None\n",
      "    Using tolerance 3.4e-05 (2.2e-16 eps * 32 dim * 4.8e+09  max singular value)\n",
      "    Estimated rank (mag): 32\n",
      "    MAG: rank 32 computed from 32 data channels with 0 projectors\n",
      "Reducing data rank from 32 -> 32\n",
      "Estimating covariance using EMPIRICAL\n",
      "Done.\n",
      "Computing rank from data with rank=None\n",
      "    Using tolerance 3.4e-05 (2.2e-16 eps * 32 dim * 4.7e+09  max singular value)\n",
      "    Estimated rank (mag): 32\n",
      "    MAG: rank 32 computed from 32 data channels with 0 projectors\n",
      "Reducing data rank from 32 -> 32\n",
      "Estimating covariance using EMPIRICAL\n",
      "Done.\n",
      "Computing rank from data with rank=None\n",
      "    Using tolerance 3.2e-05 (2.2e-16 eps * 32 dim * 4.5e+09  max singular value)\n",
      "    Estimated rank (mag): 32\n",
      "    MAG: rank 32 computed from 32 data channels with 0 projectors\n",
      "Reducing data rank from 32 -> 32\n",
      "Estimating covariance using EMPIRICAL\n",
      "Done.\n",
      "Computing rank from data with rank=None\n",
      "    Using tolerance 5.1e-05 (2.2e-16 eps * 32 dim * 7.2e+09  max singular value)\n",
      "    Estimated rank (mag): 32\n",
      "    MAG: rank 32 computed from 32 data channels with 0 projectors\n",
      "Reducing data rank from 32 -> 32\n",
      "Estimating covariance using EMPIRICAL\n",
      "Done.\n",
      "Computing rank from data with rank=None\n",
      "    Using tolerance 3.6e-05 (2.2e-16 eps * 32 dim * 5.1e+09  max singular value)\n",
      "    Estimated rank (mag): 32\n",
      "    MAG: rank 32 computed from 32 data channels with 0 projectors\n",
      "Reducing data rank from 32 -> 32\n",
      "Estimating covariance using EMPIRICAL\n",
      "Done.\n",
      "CSP: 62.6%\n"
     ]
    }
   ],
   "source": [
    "csp = CSP(n_components=3, norm_trace=False)\n",
    "clf_csp = make_pipeline(csp, LinearModel(LogisticRegression(solver=\"liblinear\")))\n",
    "scores = cross_val_multiscore(clf_csp, data, labels, cv=5)\n",
    "print(\"CSP: %0.1f%%\" % (100 * scores.mean(),))"
   ]
  }
 ],
 "metadata": {
  "kernelspec": {
   "display_name": "mne",
   "language": "python",
   "name": "python3"
  },
  "language_info": {
   "codemirror_mode": {
    "name": "ipython",
    "version": 3
   },
   "file_extension": ".py",
   "mimetype": "text/x-python",
   "name": "python",
   "nbconvert_exporter": "python",
   "pygments_lexer": "ipython3",
   "version": "3.9.17"
  }
 },
 "nbformat": 4,
 "nbformat_minor": 2
}
