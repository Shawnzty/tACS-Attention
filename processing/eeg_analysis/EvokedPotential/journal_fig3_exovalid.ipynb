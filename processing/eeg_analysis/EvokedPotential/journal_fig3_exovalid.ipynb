{
 "cells": [
  {
   "cell_type": "code",
   "execution_count": 1,
   "metadata": {},
   "outputs": [
    {
     "data": {
      "text/plain": [
       "<module 'behavior.func4behav' from 'c:\\\\Users\\\\Tianyi Zheng\\\\OneDrive - neuron.t.u-tokyo.ac.jp\\\\Documents\\\\zheng\\\\mywork\\\\attention_tES\\\\tACS-Attention\\\\processing\\\\behavior\\\\func4behav.py'>"
      ]
     },
     "execution_count": 1,
     "metadata": {},
     "output_type": "execute_result"
    }
   ],
   "source": [
    "import sys\n",
    "import os\n",
    "sys.path.insert(0, os.path.abspath('../..'))\n",
    "from scipy.io import loadmat\n",
    "from pathlib import Path\n",
    "import matplotlib.patches as patches\n",
    "import matplotlib.lines as mlines\n",
    "import matplotlib.pyplot as plt\n",
    "from matplotlib import rc\n",
    "import matplotlib.image as mpimg\n",
    "import matplotlib\n",
    "import numpy as np\n",
    "import pandas as pd\n",
    "# the following import is required for matplotlib < 3.2:\n",
    "from mpl_toolkits.mplot3d import Axes3D  # noqa\n",
    "from scipy import stats\n",
    "from scipy.stats import mannwhitneyu, ttest_rel\n",
    "from scipy.signal import butter, filtfilt\n",
    "import mne\n",
    "import eeg_analysis.funcs4eeg as fe\n",
    "import re\n",
    "import imp\n",
    "import ast\n",
    "import behavior.func4behav as fb\n",
    "imp.reload(fe)\n",
    "imp.reload(fb)"
   ]
  },
  {
   "cell_type": "code",
   "execution_count": 2,
   "metadata": {},
   "outputs": [
    {
     "name": "stderr",
     "output_type": "stream",
     "text": [
      "c:\\Users\\Tianyi Zheng\\OneDrive - neuron.t.u-tokyo.ac.jp\\Documents\\zheng\\mywork\\attention_tES\\tACS-Attention\\processing\\behavior\\func4behav.py:158: FutureWarning: The behavior of DataFrame concatenation with empty or all-NA entries is deprecated. In a future version, this will no longer exclude empty or all-NA columns when determining the result dtypes. To retain the old behavior, exclude the relevant entries before the concat operation.\n",
      "  behavior_compare = pd.concat([behavior_compare, new_row], ignore_index=True)\n",
      "c:\\Users\\Tianyi Zheng\\OneDrive - neuron.t.u-tokyo.ac.jp\\Documents\\zheng\\mywork\\attention_tES\\tACS-Attention\\processing\\behavior\\func4behav.py:158: FutureWarning: The behavior of DataFrame concatenation with empty or all-NA entries is deprecated. In a future version, this will no longer exclude empty or all-NA columns when determining the result dtypes. To retain the old behavior, exclude the relevant entries before the concat operation.\n",
      "  behavior_compare = pd.concat([behavior_compare, new_row], ignore_index=True)\n"
     ]
    },
    {
     "name": "stdout",
     "output_type": "stream",
     "text": [
      "Filtering raw data in 1 contiguous segment\n",
      "Setting up low-pass filter at 30 Hz\n",
      "\n",
      "FIR filter parameters\n",
      "---------------------\n",
      "Designing a one-pass, zero-phase, non-causal lowpass filter:\n",
      "- Windowed time-domain design (firwin) method\n",
      "- Hamming window with 0.0194 passband ripple and 53 dB stopband attenuation\n",
      "- Upper passband edge: 30.00 Hz\n",
      "- Upper transition bandwidth: 7.50 Hz (-6 dB cutoff frequency: 33.75 Hz)\n",
      "- Filter length: 529 samples (0.441 s)\n",
      "\n"
     ]
    },
    {
     "name": "stderr",
     "output_type": "stream",
     "text": [
      "[Parallel(n_jobs=1)]: Done  17 tasks      | elapsed:    0.1s\n"
     ]
    },
    {
     "name": "stdout",
     "output_type": "stream",
     "text": [
      "Filtering raw data in 1 contiguous segment\n",
      "Setting up low-pass filter at 30 Hz\n",
      "\n",
      "FIR filter parameters\n",
      "---------------------\n",
      "Designing a one-pass, zero-phase, non-causal lowpass filter:\n",
      "- Windowed time-domain design (firwin) method\n",
      "- Hamming window with 0.0194 passband ripple and 53 dB stopband attenuation\n",
      "- Upper passband edge: 30.00 Hz\n",
      "- Upper transition bandwidth: 7.50 Hz (-6 dB cutoff frequency: 33.75 Hz)\n",
      "- Filter length: 529 samples (0.441 s)\n",
      "\n"
     ]
    },
    {
     "name": "stderr",
     "output_type": "stream",
     "text": [
      "[Parallel(n_jobs=1)]: Done  17 tasks      | elapsed:    0.1s\n"
     ]
    },
    {
     "name": "stdout",
     "output_type": "stream",
     "text": [
      "Filtering raw data in 1 contiguous segment\n",
      "Setting up low-pass filter at 30 Hz\n",
      "\n",
      "FIR filter parameters\n",
      "---------------------\n",
      "Designing a one-pass, zero-phase, non-causal lowpass filter:\n",
      "- Windowed time-domain design (firwin) method\n",
      "- Hamming window with 0.0194 passband ripple and 53 dB stopband attenuation\n",
      "- Upper passband edge: 30.00 Hz\n",
      "- Upper transition bandwidth: 7.50 Hz (-6 dB cutoff frequency: 33.75 Hz)\n",
      "- Filter length: 529 samples (0.441 s)\n",
      "\n"
     ]
    },
    {
     "name": "stderr",
     "output_type": "stream",
     "text": [
      "[Parallel(n_jobs=1)]: Done  17 tasks      | elapsed:    0.1s\n"
     ]
    },
    {
     "name": "stdout",
     "output_type": "stream",
     "text": [
      "Filtering raw data in 1 contiguous segment\n",
      "Setting up low-pass filter at 30 Hz\n",
      "\n",
      "FIR filter parameters\n",
      "---------------------\n",
      "Designing a one-pass, zero-phase, non-causal lowpass filter:\n",
      "- Windowed time-domain design (firwin) method\n",
      "- Hamming window with 0.0194 passband ripple and 53 dB stopband attenuation\n",
      "- Upper passband edge: 30.00 Hz\n",
      "- Upper transition bandwidth: 7.50 Hz (-6 dB cutoff frequency: 33.75 Hz)\n",
      "- Filter length: 529 samples (0.441 s)\n",
      "\n"
     ]
    },
    {
     "name": "stderr",
     "output_type": "stream",
     "text": [
      "[Parallel(n_jobs=1)]: Done  17 tasks      | elapsed:    0.1s\n"
     ]
    },
    {
     "name": "stdout",
     "output_type": "stream",
     "text": [
      "Filtering raw data in 1 contiguous segment\n",
      "Setting up low-pass filter at 30 Hz\n",
      "\n",
      "FIR filter parameters\n",
      "---------------------\n",
      "Designing a one-pass, zero-phase, non-causal lowpass filter:\n",
      "- Windowed time-domain design (firwin) method\n",
      "- Hamming window with 0.0194 passband ripple and 53 dB stopband attenuation\n",
      "- Upper passband edge: 30.00 Hz\n",
      "- Upper transition bandwidth: 7.50 Hz (-6 dB cutoff frequency: 33.75 Hz)\n",
      "- Filter length: 529 samples (0.441 s)\n",
      "\n"
     ]
    },
    {
     "name": "stderr",
     "output_type": "stream",
     "text": [
      "[Parallel(n_jobs=1)]: Done  17 tasks      | elapsed:    0.1s\n"
     ]
    },
    {
     "name": "stdout",
     "output_type": "stream",
     "text": [
      "Filtering raw data in 1 contiguous segment\n",
      "Setting up low-pass filter at 30 Hz\n",
      "\n",
      "FIR filter parameters\n",
      "---------------------\n",
      "Designing a one-pass, zero-phase, non-causal lowpass filter:\n",
      "- Windowed time-domain design (firwin) method\n",
      "- Hamming window with 0.0194 passband ripple and 53 dB stopband attenuation\n",
      "- Upper passband edge: 30.00 Hz\n",
      "- Upper transition bandwidth: 7.50 Hz (-6 dB cutoff frequency: 33.75 Hz)\n",
      "- Filter length: 529 samples (0.441 s)\n",
      "\n"
     ]
    },
    {
     "name": "stderr",
     "output_type": "stream",
     "text": [
      "[Parallel(n_jobs=1)]: Done  17 tasks      | elapsed:    0.1s\n"
     ]
    },
    {
     "name": "stdout",
     "output_type": "stream",
     "text": [
      "Filtering raw data in 1 contiguous segment\n",
      "Setting up low-pass filter at 30 Hz\n",
      "\n",
      "FIR filter parameters\n",
      "---------------------\n",
      "Designing a one-pass, zero-phase, non-causal lowpass filter:\n",
      "- Windowed time-domain design (firwin) method\n",
      "- Hamming window with 0.0194 passband ripple and 53 dB stopband attenuation\n",
      "- Upper passband edge: 30.00 Hz\n",
      "- Upper transition bandwidth: 7.50 Hz (-6 dB cutoff frequency: 33.75 Hz)\n",
      "- Filter length: 529 samples (0.441 s)\n",
      "\n"
     ]
    },
    {
     "name": "stderr",
     "output_type": "stream",
     "text": [
      "[Parallel(n_jobs=1)]: Done  17 tasks      | elapsed:    0.1s\n"
     ]
    },
    {
     "name": "stdout",
     "output_type": "stream",
     "text": [
      "Filtering raw data in 1 contiguous segment\n",
      "Setting up low-pass filter at 30 Hz\n",
      "\n",
      "FIR filter parameters\n",
      "---------------------\n",
      "Designing a one-pass, zero-phase, non-causal lowpass filter:\n",
      "- Windowed time-domain design (firwin) method\n",
      "- Hamming window with 0.0194 passband ripple and 53 dB stopband attenuation\n",
      "- Upper passband edge: 30.00 Hz\n",
      "- Upper transition bandwidth: 7.50 Hz (-6 dB cutoff frequency: 33.75 Hz)\n",
      "- Filter length: 529 samples (0.441 s)\n",
      "\n"
     ]
    },
    {
     "name": "stderr",
     "output_type": "stream",
     "text": [
      "[Parallel(n_jobs=1)]: Done  17 tasks      | elapsed:    0.1s\n"
     ]
    },
    {
     "name": "stdout",
     "output_type": "stream",
     "text": [
      "Filtering raw data in 1 contiguous segment\n",
      "Setting up low-pass filter at 30 Hz\n",
      "\n",
      "FIR filter parameters\n",
      "---------------------\n",
      "Designing a one-pass, zero-phase, non-causal lowpass filter:\n",
      "- Windowed time-domain design (firwin) method\n",
      "- Hamming window with 0.0194 passband ripple and 53 dB stopband attenuation\n",
      "- Upper passband edge: 30.00 Hz\n",
      "- Upper transition bandwidth: 7.50 Hz (-6 dB cutoff frequency: 33.75 Hz)\n",
      "- Filter length: 529 samples (0.441 s)\n",
      "\n"
     ]
    },
    {
     "name": "stderr",
     "output_type": "stream",
     "text": [
      "[Parallel(n_jobs=1)]: Done  17 tasks      | elapsed:    0.1s\n"
     ]
    },
    {
     "name": "stdout",
     "output_type": "stream",
     "text": [
      "Filtering raw data in 1 contiguous segment\n",
      "Setting up low-pass filter at 30 Hz\n",
      "\n",
      "FIR filter parameters\n",
      "---------------------\n",
      "Designing a one-pass, zero-phase, non-causal lowpass filter:\n",
      "- Windowed time-domain design (firwin) method\n",
      "- Hamming window with 0.0194 passband ripple and 53 dB stopband attenuation\n",
      "- Upper passband edge: 30.00 Hz\n",
      "- Upper transition bandwidth: 7.50 Hz (-6 dB cutoff frequency: 33.75 Hz)\n",
      "- Filter length: 529 samples (0.441 s)\n",
      "\n"
     ]
    },
    {
     "name": "stderr",
     "output_type": "stream",
     "text": [
      "[Parallel(n_jobs=1)]: Done  17 tasks      | elapsed:    0.1s\n"
     ]
    },
    {
     "name": "stdout",
     "output_type": "stream",
     "text": [
      "Filtering raw data in 1 contiguous segment\n",
      "Setting up low-pass filter at 30 Hz\n",
      "\n",
      "FIR filter parameters\n",
      "---------------------\n",
      "Designing a one-pass, zero-phase, non-causal lowpass filter:\n",
      "- Windowed time-domain design (firwin) method\n",
      "- Hamming window with 0.0194 passband ripple and 53 dB stopband attenuation\n",
      "- Upper passband edge: 30.00 Hz\n",
      "- Upper transition bandwidth: 7.50 Hz (-6 dB cutoff frequency: 33.75 Hz)\n",
      "- Filter length: 529 samples (0.441 s)\n",
      "\n"
     ]
    },
    {
     "name": "stderr",
     "output_type": "stream",
     "text": [
      "[Parallel(n_jobs=1)]: Done  17 tasks      | elapsed:    0.1s\n"
     ]
    },
    {
     "name": "stdout",
     "output_type": "stream",
     "text": [
      "Filtering raw data in 1 contiguous segment\n",
      "Setting up low-pass filter at 30 Hz\n",
      "\n",
      "FIR filter parameters\n",
      "---------------------\n",
      "Designing a one-pass, zero-phase, non-causal lowpass filter:\n",
      "- Windowed time-domain design (firwin) method\n",
      "- Hamming window with 0.0194 passband ripple and 53 dB stopband attenuation\n",
      "- Upper passband edge: 30.00 Hz\n",
      "- Upper transition bandwidth: 7.50 Hz (-6 dB cutoff frequency: 33.75 Hz)\n",
      "- Filter length: 529 samples (0.441 s)\n",
      "\n"
     ]
    },
    {
     "name": "stderr",
     "output_type": "stream",
     "text": [
      "[Parallel(n_jobs=1)]: Done  17 tasks      | elapsed:    0.1s\n"
     ]
    },
    {
     "name": "stdout",
     "output_type": "stream",
     "text": [
      "Filtering raw data in 1 contiguous segment\n",
      "Setting up low-pass filter at 30 Hz\n",
      "\n",
      "FIR filter parameters\n",
      "---------------------\n",
      "Designing a one-pass, zero-phase, non-causal lowpass filter:\n",
      "- Windowed time-domain design (firwin) method\n",
      "- Hamming window with 0.0194 passband ripple and 53 dB stopband attenuation\n",
      "- Upper passband edge: 30.00 Hz\n",
      "- Upper transition bandwidth: 7.50 Hz (-6 dB cutoff frequency: 33.75 Hz)\n",
      "- Filter length: 529 samples (0.441 s)\n",
      "\n"
     ]
    },
    {
     "name": "stderr",
     "output_type": "stream",
     "text": [
      "[Parallel(n_jobs=1)]: Done  17 tasks      | elapsed:    0.1s\n"
     ]
    },
    {
     "name": "stdout",
     "output_type": "stream",
     "text": [
      "Filtering raw data in 1 contiguous segment\n",
      "Setting up low-pass filter at 30 Hz\n",
      "\n",
      "FIR filter parameters\n",
      "---------------------\n",
      "Designing a one-pass, zero-phase, non-causal lowpass filter:\n",
      "- Windowed time-domain design (firwin) method\n",
      "- Hamming window with 0.0194 passband ripple and 53 dB stopband attenuation\n",
      "- Upper passband edge: 30.00 Hz\n",
      "- Upper transition bandwidth: 7.50 Hz (-6 dB cutoff frequency: 33.75 Hz)\n",
      "- Filter length: 529 samples (0.441 s)\n",
      "\n"
     ]
    },
    {
     "name": "stderr",
     "output_type": "stream",
     "text": [
      "[Parallel(n_jobs=1)]: Done  17 tasks      | elapsed:    0.1s\n"
     ]
    },
    {
     "name": "stdout",
     "output_type": "stream",
     "text": [
      "Filtering raw data in 1 contiguous segment\n",
      "Setting up low-pass filter at 30 Hz\n",
      "\n",
      "FIR filter parameters\n",
      "---------------------\n",
      "Designing a one-pass, zero-phase, non-causal lowpass filter:\n",
      "- Windowed time-domain design (firwin) method\n",
      "- Hamming window with 0.0194 passband ripple and 53 dB stopband attenuation\n",
      "- Upper passband edge: 30.00 Hz\n",
      "- Upper transition bandwidth: 7.50 Hz (-6 dB cutoff frequency: 33.75 Hz)\n",
      "- Filter length: 529 samples (0.441 s)\n",
      "\n"
     ]
    },
    {
     "name": "stderr",
     "output_type": "stream",
     "text": [
      "[Parallel(n_jobs=1)]: Done  17 tasks      | elapsed:    0.1s\n"
     ]
    },
    {
     "name": "stdout",
     "output_type": "stream",
     "text": [
      "Filtering raw data in 1 contiguous segment\n",
      "Setting up low-pass filter at 30 Hz\n",
      "\n",
      "FIR filter parameters\n",
      "---------------------\n",
      "Designing a one-pass, zero-phase, non-causal lowpass filter:\n",
      "- Windowed time-domain design (firwin) method\n",
      "- Hamming window with 0.0194 passband ripple and 53 dB stopband attenuation\n",
      "- Upper passband edge: 30.00 Hz\n",
      "- Upper transition bandwidth: 7.50 Hz (-6 dB cutoff frequency: 33.75 Hz)\n",
      "- Filter length: 529 samples (0.441 s)\n",
      "\n"
     ]
    },
    {
     "name": "stderr",
     "output_type": "stream",
     "text": [
      "[Parallel(n_jobs=1)]: Done  17 tasks      | elapsed:    0.1s\n"
     ]
    },
    {
     "name": "stdout",
     "output_type": "stream",
     "text": [
      "Filtering raw data in 1 contiguous segment\n",
      "Setting up low-pass filter at 30 Hz\n",
      "\n",
      "FIR filter parameters\n",
      "---------------------\n",
      "Designing a one-pass, zero-phase, non-causal lowpass filter:\n",
      "- Windowed time-domain design (firwin) method\n",
      "- Hamming window with 0.0194 passband ripple and 53 dB stopband attenuation\n",
      "- Upper passband edge: 30.00 Hz\n",
      "- Upper transition bandwidth: 7.50 Hz (-6 dB cutoff frequency: 33.75 Hz)\n",
      "- Filter length: 529 samples (0.441 s)\n",
      "\n"
     ]
    },
    {
     "name": "stderr",
     "output_type": "stream",
     "text": [
      "[Parallel(n_jobs=1)]: Done  17 tasks      | elapsed:    0.1s\n"
     ]
    },
    {
     "name": "stdout",
     "output_type": "stream",
     "text": [
      "Filtering raw data in 1 contiguous segment\n",
      "Setting up low-pass filter at 30 Hz\n",
      "\n",
      "FIR filter parameters\n",
      "---------------------\n",
      "Designing a one-pass, zero-phase, non-causal lowpass filter:\n",
      "- Windowed time-domain design (firwin) method\n",
      "- Hamming window with 0.0194 passband ripple and 53 dB stopband attenuation\n",
      "- Upper passband edge: 30.00 Hz\n",
      "- Upper transition bandwidth: 7.50 Hz (-6 dB cutoff frequency: 33.75 Hz)\n",
      "- Filter length: 529 samples (0.441 s)\n",
      "\n"
     ]
    },
    {
     "name": "stderr",
     "output_type": "stream",
     "text": [
      "[Parallel(n_jobs=1)]: Done  17 tasks      | elapsed:    0.1s\n",
      "c:\\Users\\Tianyi Zheng\\OneDrive - neuron.t.u-tokyo.ac.jp\\Documents\\zheng\\mywork\\attention_tES\\tACS-Attention\\processing\\behavior\\func4behav.py:158: FutureWarning: The behavior of DataFrame concatenation with empty or all-NA entries is deprecated. In a future version, this will no longer exclude empty or all-NA columns when determining the result dtypes. To retain the old behavior, exclude the relevant entries before the concat operation.\n",
      "  behavior_compare = pd.concat([behavior_compare, new_row], ignore_index=True)\n"
     ]
    },
    {
     "name": "stdout",
     "output_type": "stream",
     "text": [
      "Filtering raw data in 1 contiguous segment\n",
      "Setting up low-pass filter at 30 Hz\n",
      "\n",
      "FIR filter parameters\n",
      "---------------------\n",
      "Designing a one-pass, zero-phase, non-causal lowpass filter:\n",
      "- Windowed time-domain design (firwin) method\n",
      "- Hamming window with 0.0194 passband ripple and 53 dB stopband attenuation\n",
      "- Upper passband edge: 30.00 Hz\n",
      "- Upper transition bandwidth: 7.50 Hz (-6 dB cutoff frequency: 33.75 Hz)\n",
      "- Filter length: 529 samples (0.441 s)\n",
      "\n"
     ]
    },
    {
     "name": "stderr",
     "output_type": "stream",
     "text": [
      "[Parallel(n_jobs=1)]: Done  17 tasks      | elapsed:    0.1s\n"
     ]
    },
    {
     "name": "stdout",
     "output_type": "stream",
     "text": [
      "Filtering raw data in 1 contiguous segment\n",
      "Setting up low-pass filter at 30 Hz\n",
      "\n",
      "FIR filter parameters\n",
      "---------------------\n",
      "Designing a one-pass, zero-phase, non-causal lowpass filter:\n",
      "- Windowed time-domain design (firwin) method\n",
      "- Hamming window with 0.0194 passband ripple and 53 dB stopband attenuation\n",
      "- Upper passband edge: 30.00 Hz\n",
      "- Upper transition bandwidth: 7.50 Hz (-6 dB cutoff frequency: 33.75 Hz)\n",
      "- Filter length: 529 samples (0.441 s)\n",
      "\n"
     ]
    },
    {
     "name": "stderr",
     "output_type": "stream",
     "text": [
      "[Parallel(n_jobs=1)]: Done  17 tasks      | elapsed:    0.1s\n"
     ]
    },
    {
     "name": "stdout",
     "output_type": "stream",
     "text": [
      "Filtering raw data in 1 contiguous segment\n",
      "Setting up low-pass filter at 30 Hz\n",
      "\n",
      "FIR filter parameters\n",
      "---------------------\n",
      "Designing a one-pass, zero-phase, non-causal lowpass filter:\n",
      "- Windowed time-domain design (firwin) method\n",
      "- Hamming window with 0.0194 passband ripple and 53 dB stopband attenuation\n",
      "- Upper passband edge: 30.00 Hz\n",
      "- Upper transition bandwidth: 7.50 Hz (-6 dB cutoff frequency: 33.75 Hz)\n",
      "- Filter length: 529 samples (0.441 s)\n",
      "\n"
     ]
    },
    {
     "name": "stderr",
     "output_type": "stream",
     "text": [
      "[Parallel(n_jobs=1)]: Done  17 tasks      | elapsed:    0.1s\n"
     ]
    },
    {
     "name": "stdout",
     "output_type": "stream",
     "text": [
      "Filtering raw data in 1 contiguous segment\n",
      "Setting up low-pass filter at 30 Hz\n",
      "\n",
      "FIR filter parameters\n",
      "---------------------\n",
      "Designing a one-pass, zero-phase, non-causal lowpass filter:\n",
      "- Windowed time-domain design (firwin) method\n",
      "- Hamming window with 0.0194 passband ripple and 53 dB stopband attenuation\n",
      "- Upper passband edge: 30.00 Hz\n",
      "- Upper transition bandwidth: 7.50 Hz (-6 dB cutoff frequency: 33.75 Hz)\n",
      "- Filter length: 529 samples (0.441 s)\n",
      "\n"
     ]
    },
    {
     "name": "stderr",
     "output_type": "stream",
     "text": [
      "[Parallel(n_jobs=1)]: Done  17 tasks      | elapsed:    0.1s\n"
     ]
    },
    {
     "name": "stdout",
     "output_type": "stream",
     "text": [
      "Filtering raw data in 1 contiguous segment\n",
      "Setting up low-pass filter at 30 Hz\n",
      "\n",
      "FIR filter parameters\n",
      "---------------------\n",
      "Designing a one-pass, zero-phase, non-causal lowpass filter:\n",
      "- Windowed time-domain design (firwin) method\n",
      "- Hamming window with 0.0194 passband ripple and 53 dB stopband attenuation\n",
      "- Upper passband edge: 30.00 Hz\n",
      "- Upper transition bandwidth: 7.50 Hz (-6 dB cutoff frequency: 33.75 Hz)\n",
      "- Filter length: 529 samples (0.441 s)\n",
      "\n"
     ]
    },
    {
     "name": "stderr",
     "output_type": "stream",
     "text": [
      "[Parallel(n_jobs=1)]: Done  17 tasks      | elapsed:    0.1s\n"
     ]
    },
    {
     "name": "stdout",
     "output_type": "stream",
     "text": [
      "Filtering raw data in 1 contiguous segment\n",
      "Setting up low-pass filter at 30 Hz\n",
      "\n",
      "FIR filter parameters\n",
      "---------------------\n",
      "Designing a one-pass, zero-phase, non-causal lowpass filter:\n",
      "- Windowed time-domain design (firwin) method\n",
      "- Hamming window with 0.0194 passband ripple and 53 dB stopband attenuation\n",
      "- Upper passband edge: 30.00 Hz\n",
      "- Upper transition bandwidth: 7.50 Hz (-6 dB cutoff frequency: 33.75 Hz)\n",
      "- Filter length: 529 samples (0.441 s)\n",
      "\n"
     ]
    },
    {
     "name": "stderr",
     "output_type": "stream",
     "text": [
      "[Parallel(n_jobs=1)]: Done  17 tasks      | elapsed:    0.1s\n"
     ]
    },
    {
     "name": "stdout",
     "output_type": "stream",
     "text": [
      "Filtering raw data in 1 contiguous segment\n",
      "Setting up low-pass filter at 30 Hz\n",
      "\n",
      "FIR filter parameters\n",
      "---------------------\n",
      "Designing a one-pass, zero-phase, non-causal lowpass filter:\n",
      "- Windowed time-domain design (firwin) method\n",
      "- Hamming window with 0.0194 passband ripple and 53 dB stopband attenuation\n",
      "- Upper passband edge: 30.00 Hz\n",
      "- Upper transition bandwidth: 7.50 Hz (-6 dB cutoff frequency: 33.75 Hz)\n",
      "- Filter length: 529 samples (0.441 s)\n",
      "\n"
     ]
    },
    {
     "name": "stderr",
     "output_type": "stream",
     "text": [
      "[Parallel(n_jobs=1)]: Done  17 tasks      | elapsed:    0.1s\n"
     ]
    },
    {
     "name": "stdout",
     "output_type": "stream",
     "text": [
      "Filtering raw data in 1 contiguous segment\n",
      "Setting up low-pass filter at 30 Hz\n",
      "\n",
      "FIR filter parameters\n",
      "---------------------\n",
      "Designing a one-pass, zero-phase, non-causal lowpass filter:\n",
      "- Windowed time-domain design (firwin) method\n",
      "- Hamming window with 0.0194 passband ripple and 53 dB stopband attenuation\n",
      "- Upper passband edge: 30.00 Hz\n",
      "- Upper transition bandwidth: 7.50 Hz (-6 dB cutoff frequency: 33.75 Hz)\n",
      "- Filter length: 529 samples (0.441 s)\n",
      "\n"
     ]
    },
    {
     "name": "stderr",
     "output_type": "stream",
     "text": [
      "[Parallel(n_jobs=1)]: Done  17 tasks      | elapsed:    0.1s\n"
     ]
    },
    {
     "name": "stdout",
     "output_type": "stream",
     "text": [
      "Filtering raw data in 1 contiguous segment\n",
      "Setting up low-pass filter at 30 Hz\n",
      "\n",
      "FIR filter parameters\n",
      "---------------------\n",
      "Designing a one-pass, zero-phase, non-causal lowpass filter:\n",
      "- Windowed time-domain design (firwin) method\n",
      "- Hamming window with 0.0194 passband ripple and 53 dB stopband attenuation\n",
      "- Upper passband edge: 30.00 Hz\n",
      "- Upper transition bandwidth: 7.50 Hz (-6 dB cutoff frequency: 33.75 Hz)\n",
      "- Filter length: 529 samples (0.441 s)\n",
      "\n"
     ]
    },
    {
     "name": "stderr",
     "output_type": "stream",
     "text": [
      "[Parallel(n_jobs=1)]: Done  17 tasks      | elapsed:    0.1s\n"
     ]
    },
    {
     "name": "stdout",
     "output_type": "stream",
     "text": [
      "Filtering raw data in 1 contiguous segment\n",
      "Setting up low-pass filter at 30 Hz\n",
      "\n",
      "FIR filter parameters\n",
      "---------------------\n",
      "Designing a one-pass, zero-phase, non-causal lowpass filter:\n",
      "- Windowed time-domain design (firwin) method\n",
      "- Hamming window with 0.0194 passband ripple and 53 dB stopband attenuation\n",
      "- Upper passband edge: 30.00 Hz\n",
      "- Upper transition bandwidth: 7.50 Hz (-6 dB cutoff frequency: 33.75 Hz)\n",
      "- Filter length: 529 samples (0.441 s)\n",
      "\n"
     ]
    },
    {
     "name": "stderr",
     "output_type": "stream",
     "text": [
      "[Parallel(n_jobs=1)]: Done  17 tasks      | elapsed:    0.1s\n"
     ]
    },
    {
     "name": "stdout",
     "output_type": "stream",
     "text": [
      "Filtering raw data in 1 contiguous segment\n",
      "Setting up low-pass filter at 30 Hz\n",
      "\n",
      "FIR filter parameters\n",
      "---------------------\n",
      "Designing a one-pass, zero-phase, non-causal lowpass filter:\n",
      "- Windowed time-domain design (firwin) method\n",
      "- Hamming window with 0.0194 passband ripple and 53 dB stopband attenuation\n",
      "- Upper passband edge: 30.00 Hz\n",
      "- Upper transition bandwidth: 7.50 Hz (-6 dB cutoff frequency: 33.75 Hz)\n",
      "- Filter length: 529 samples (0.441 s)\n",
      "\n"
     ]
    },
    {
     "name": "stderr",
     "output_type": "stream",
     "text": [
      "[Parallel(n_jobs=1)]: Done  17 tasks      | elapsed:    0.1s\n"
     ]
    },
    {
     "name": "stdout",
     "output_type": "stream",
     "text": [
      "Filtering raw data in 1 contiguous segment\n",
      "Setting up low-pass filter at 30 Hz\n",
      "\n",
      "FIR filter parameters\n",
      "---------------------\n",
      "Designing a one-pass, zero-phase, non-causal lowpass filter:\n",
      "- Windowed time-domain design (firwin) method\n",
      "- Hamming window with 0.0194 passband ripple and 53 dB stopband attenuation\n",
      "- Upper passband edge: 30.00 Hz\n",
      "- Upper transition bandwidth: 7.50 Hz (-6 dB cutoff frequency: 33.75 Hz)\n",
      "- Filter length: 529 samples (0.441 s)\n",
      "\n"
     ]
    },
    {
     "name": "stderr",
     "output_type": "stream",
     "text": [
      "[Parallel(n_jobs=1)]: Done  17 tasks      | elapsed:    0.1s\n"
     ]
    },
    {
     "name": "stdout",
     "output_type": "stream",
     "text": [
      "Filtering raw data in 1 contiguous segment\n",
      "Setting up low-pass filter at 30 Hz\n",
      "\n",
      "FIR filter parameters\n",
      "---------------------\n",
      "Designing a one-pass, zero-phase, non-causal lowpass filter:\n",
      "- Windowed time-domain design (firwin) method\n",
      "- Hamming window with 0.0194 passband ripple and 53 dB stopband attenuation\n",
      "- Upper passband edge: 30.00 Hz\n",
      "- Upper transition bandwidth: 7.50 Hz (-6 dB cutoff frequency: 33.75 Hz)\n",
      "- Filter length: 529 samples (0.441 s)\n",
      "\n"
     ]
    },
    {
     "name": "stderr",
     "output_type": "stream",
     "text": [
      "[Parallel(n_jobs=1)]: Done  17 tasks      | elapsed:    0.1s\n"
     ]
    },
    {
     "name": "stdout",
     "output_type": "stream",
     "text": [
      "Filtering raw data in 1 contiguous segment\n",
      "Setting up low-pass filter at 30 Hz\n",
      "\n",
      "FIR filter parameters\n",
      "---------------------\n",
      "Designing a one-pass, zero-phase, non-causal lowpass filter:\n",
      "- Windowed time-domain design (firwin) method\n",
      "- Hamming window with 0.0194 passband ripple and 53 dB stopband attenuation\n",
      "- Upper passband edge: 30.00 Hz\n",
      "- Upper transition bandwidth: 7.50 Hz (-6 dB cutoff frequency: 33.75 Hz)\n",
      "- Filter length: 529 samples (0.441 s)\n",
      "\n"
     ]
    },
    {
     "name": "stderr",
     "output_type": "stream",
     "text": [
      "[Parallel(n_jobs=1)]: Done  17 tasks      | elapsed:    0.1s\n"
     ]
    },
    {
     "name": "stdout",
     "output_type": "stream",
     "text": [
      "Filtering raw data in 1 contiguous segment\n",
      "Setting up low-pass filter at 30 Hz\n",
      "\n",
      "FIR filter parameters\n",
      "---------------------\n",
      "Designing a one-pass, zero-phase, non-causal lowpass filter:\n",
      "- Windowed time-domain design (firwin) method\n",
      "- Hamming window with 0.0194 passband ripple and 53 dB stopband attenuation\n",
      "- Upper passband edge: 30.00 Hz\n",
      "- Upper transition bandwidth: 7.50 Hz (-6 dB cutoff frequency: 33.75 Hz)\n",
      "- Filter length: 529 samples (0.441 s)\n",
      "\n"
     ]
    },
    {
     "name": "stderr",
     "output_type": "stream",
     "text": [
      "[Parallel(n_jobs=1)]: Done  17 tasks      | elapsed:    0.1s\n"
     ]
    },
    {
     "name": "stdout",
     "output_type": "stream",
     "text": [
      "Filtering raw data in 1 contiguous segment\n",
      "Setting up low-pass filter at 30 Hz\n",
      "\n",
      "FIR filter parameters\n",
      "---------------------\n",
      "Designing a one-pass, zero-phase, non-causal lowpass filter:\n",
      "- Windowed time-domain design (firwin) method\n",
      "- Hamming window with 0.0194 passband ripple and 53 dB stopband attenuation\n",
      "- Upper passband edge: 30.00 Hz\n",
      "- Upper transition bandwidth: 7.50 Hz (-6 dB cutoff frequency: 33.75 Hz)\n",
      "- Filter length: 529 samples (0.441 s)\n",
      "\n"
     ]
    },
    {
     "name": "stderr",
     "output_type": "stream",
     "text": [
      "[Parallel(n_jobs=1)]: Done  17 tasks      | elapsed:    0.1s\n"
     ]
    },
    {
     "name": "stdout",
     "output_type": "stream",
     "text": [
      "Filtering raw data in 1 contiguous segment\n",
      "Setting up low-pass filter at 30 Hz\n",
      "\n",
      "FIR filter parameters\n",
      "---------------------\n",
      "Designing a one-pass, zero-phase, non-causal lowpass filter:\n",
      "- Windowed time-domain design (firwin) method\n",
      "- Hamming window with 0.0194 passband ripple and 53 dB stopband attenuation\n",
      "- Upper passband edge: 30.00 Hz\n",
      "- Upper transition bandwidth: 7.50 Hz (-6 dB cutoff frequency: 33.75 Hz)\n",
      "- Filter length: 529 samples (0.441 s)\n",
      "\n"
     ]
    },
    {
     "name": "stderr",
     "output_type": "stream",
     "text": [
      "[Parallel(n_jobs=1)]: Done  17 tasks      | elapsed:    0.1s\n"
     ]
    },
    {
     "name": "stdout",
     "output_type": "stream",
     "text": [
      "Filtering raw data in 1 contiguous segment\n",
      "Setting up low-pass filter at 30 Hz\n",
      "\n",
      "FIR filter parameters\n",
      "---------------------\n",
      "Designing a one-pass, zero-phase, non-causal lowpass filter:\n",
      "- Windowed time-domain design (firwin) method\n",
      "- Hamming window with 0.0194 passband ripple and 53 dB stopband attenuation\n",
      "- Upper passband edge: 30.00 Hz\n",
      "- Upper transition bandwidth: 7.50 Hz (-6 dB cutoff frequency: 33.75 Hz)\n",
      "- Filter length: 529 samples (0.441 s)\n",
      "\n"
     ]
    },
    {
     "name": "stderr",
     "output_type": "stream",
     "text": [
      "[Parallel(n_jobs=1)]: Done  17 tasks      | elapsed:    0.1s\n"
     ]
    }
   ],
   "source": [
    "case = 'exo valid'\n",
    "watch = '11 stim'\n",
    "tmin = -0.1\n",
    "tmax = 0.5\n",
    "\n",
    "baseline_watch = '11 stim'\n",
    "baseline_tmin = -0.1\n",
    "baseline_tmax = 0\n",
    "# baseline_watch = '1 fixation'\n",
    "# baseline_tmin = 1\n",
    "# baseline_tmax = 1.5\n",
    "real_ids = [1, 3, 4, 5, 9, 12, 13, 17, 18]\n",
    "sham_ids = [2, 6, 7, 8, 10, 11, 14, 15, 16]\n",
    "\n",
    "highpass = None\n",
    "lowpass = 30\n",
    "\n",
    "behav_sham_before, behav_sham_after, behav_real_before, behav_real_after, _, _ = fe.reaction_time_table(case)\n",
    "sham_evoked_before, sham_evoked_after, real_evoked_before, real_evoked_after, _, _ = fe.pipeline_EP_allsubs(case, watch, tmin, tmax, hipass=highpass, lopass=lowpass, baseline=(0,0), detrend=1)\n",
    "sham_before_baseline, sham_after_baseline, real_before_baseline, real_after_baseline, _, _ = fe.pipeline_EP_allsubs(case, baseline_watch, baseline_tmin, baseline_tmax, hipass=highpass, lopass=lowpass, baseline=(0,0), detrend=1)"
   ]
  },
  {
   "cell_type": "code",
   "execution_count": 3,
   "metadata": {},
   "outputs": [],
   "source": [
    "# # move the baseline to mean of [-0.1, 0]\n",
    "# evoke_list = [sham_evoked_before, sham_evoked_after, real_evoked_before, real_evoked_after]\n",
    "# baseline_list = [sham_before_baseline, sham_after_baseline, real_before_baseline, real_after_baseline]\n",
    "# data_list = [[],[],[],[]]\n",
    "# for i, session_data in enumerate(evoke_list):\n",
    "#     for j, sub_data in enumerate(session_data):\n",
    "#         baseline = baseline_list[i][j]\n",
    "#         for trial in range(sub_data.shape[0]):\n",
    "#             for channel in range (sub_data.shape[1]):\n",
    "#                 for time_step in range (sub_data.shape[2]):\n",
    "#                     sub_data[trial, channel, :] = sub_data[trial, channel, :] - np.mean(baseline[trial, channel, :])\n",
    "#         data_list[i].append(sub_data)"
   ]
  },
  {
   "cell_type": "code",
   "execution_count": 4,
   "metadata": {},
   "outputs": [],
   "source": [
    "# re-reference to average and pre/post multiplier\n",
    "prestim_multiplier = 2\n",
    "poststim_multiplier = np.linspace(1, 1, 240)\n",
    "# evoke_list = [data_list[0], data_list[1], data_list[2], data_list[3]]\n",
    "evoke_list = [sham_evoked_before, sham_evoked_after, real_evoked_before, real_evoked_after]\n",
    "\n",
    "data_list = [[],[],[],[]]\n",
    "for i, session_data in enumerate(evoke_list):\n",
    "    for j, sub_data in enumerate(session_data):\n",
    "        for trial in range(sub_data.shape[0]):\n",
    "            # # prestim multiplier\n",
    "            # sub_data[trial, :, 0:120] = sub_data[trial, :, 0:120]/prestim_multiplier\n",
    "            # re-referece\n",
    "            for time_step in range (0, 120):#(sub_data.shape[2]):\n",
    "                sub_data[trial, :, time_step] = sub_data[trial, :, time_step] - np.mean(sub_data[trial, :, time_step])\n",
    "            # poststim multiplier\n",
    "            # for time_step in range (120,sub_data.shape[2]):\n",
    "            #     sub_data[trial, :, time_step] = sub_data[trial, :, time_step]/1.5 # poststim_multiplier[time_step-120]\n",
    "        data_list[i].append(sub_data)"
   ]
  },
  {
   "cell_type": "code",
   "execution_count": 5,
   "metadata": {},
   "outputs": [],
   "source": [
    "# data_list = [sham_evoked_before, sham_evoked_after, real_evoked_before, real_evoked_after]\n",
    "know_list = [[],[],[],[]]\n",
    "\n",
    "# choose channels\n",
    "bad_channels = [\n",
    "        [ # sham before\n",
    "            [], [], [], [], [], [], [22,21], [5,9], []\n",
    "        ],\n",
    "        [ # sham after\n",
    "            [], [], [], [], [], [], [], [], []\n",
    "        ],\n",
    "        [ # real before\n",
    "            [], [], [], [], [], [], [], [], []\n",
    "        ],\n",
    "        [ # real after\n",
    "            [], [], [], [], [], [7], [], [], []\n",
    "        ]\n",
    "]\n",
    "\n",
    "for i, session_data in enumerate(data_list):\n",
    "    for channel in range(1, 33):\n",
    "        one_chan_list = []\n",
    "        for group_id in range(9):\n",
    "            if channel not in bad_channels[i][group_id]:\n",
    "                one_sub_trials = session_data[group_id][:, channel-1, :]\n",
    "                one_chan_list.append(one_sub_trials)\n",
    "        \n",
    "        one_chan = np.concatenate(one_chan_list, axis=0)\n",
    "        know_list[i].append(one_chan)\n",
    "\n",
    "sham_before = know_list[0]\n",
    "sham_after = know_list[1]\n",
    "real_before = know_list[2]\n",
    "real_after = know_list[3]\n",
    "rt_sham_before = behav_sham_before['reaction time'].values\n",
    "rt_sham_after = behav_sham_after['reaction time'].values\n",
    "rt_real_before = behav_real_before['reaction time'].values\n",
    "rt_real_after = behav_real_after['reaction time'].values"
   ]
  },
  {
   "cell_type": "code",
   "execution_count": 10,
   "metadata": {},
   "outputs": [
    {
     "data": {
      "image/png": "[encoded data removed]",
      "text/plain": [
       "<Figure size 314.961x157.48 with 1 Axes>"
      ]
     },
     "metadata": {},
     "output_type": "display_data"
    },
    {
     "data": {
      "image/png": "[encoded data removed]",
      "text/plain": [
       "<Figure size 314.961x157.48 with 1 Axes>"
      ]
     },
     "metadata": {},
     "output_type": "display_data"
    }
   ],
   "source": [
    "def convert(lst):\n",
    "    if len(lst) == 1:\n",
    "        return f\"{lst[0]}\"\n",
    "    else:\n",
    "        return f\"{' '.join(map(str, lst))}\"  # or f\"'{','.join(map(str, lst))}\" for comma-separated\n",
    "\n",
    "# Combine and process the data\n",
    "def combine_channels(data, channels):\n",
    "    combined_data = np.vstack([data[channel-1] for channel in channels])\n",
    "    return combined_data\n",
    "\n",
    "\n",
    "def process_data(data, lower_k, upper_k):\n",
    "    means = []\n",
    "    std_errors = []\n",
    "    for i in range(data.shape[1]):\n",
    "        cleaned_column = fe.rm_outlier(data[:, i], lower_k, upper_k)\n",
    "        mean = np.mean(cleaned_column)\n",
    "        std_err = 1.96 * np.std(cleaned_column) / np.sqrt(len(cleaned_column)) # 95% confidence interval\n",
    "        # std_err =  np.std(cleaned_column) / np.sqrt(len(cleaned_column)) # standard error\n",
    "\n",
    "        means.append(mean)\n",
    "        std_errors.append(std_err)\n",
    "    return np.array(means), np.array(std_errors)\n",
    "\n",
    "# 3. Update the plot_data function\n",
    "def plot_data(ep_before, ep_after, rt_before, rt_after, save_name, colors, before_low_k=1.5, before_high_k=1.5, after_low_k=1.5, after_high_k=1.5):\n",
    "    mean_before, std_err_before = process_data(ep_before, before_low_k, after_high_k)\n",
    "    mean_after, std_err_after = process_data(ep_after, after_low_k, after_high_k)\n",
    "    \n",
    "    line_width = 0.7\n",
    "    cm = 1/2.54  # centimeters in inches\n",
    "    fig, ax_line = plt.subplots(figsize=(8*cm, 4*cm))\n",
    "\n",
    "    ax_line.axvline(0, color='black', linestyle='--', linewidth=1)\n",
    "    ax_line.axhline(0, color='black', linestyle='--', linewidth=1)\n",
    "    if 'Real' in save_name:\n",
    "        ax_line.plot([0.263, 0.267], [-3*1e-6, -3*1e-6], color='green', linewidth=2)\n",
    "        ax_line.plot([0.321, 0.345], [-3*1e-6, -3*1e-6], color='green', linewidth=2)\n",
    "\n",
    "\n",
    "    # Plotting line graph\n",
    "    ax_line.plot(time, mean_before, color=colors[0], label=\"Before\", linewidth=line_width)\n",
    "    ax_line.fill_between(time, mean_before-std_err_before, mean_before+std_err_before, color=colors[0], alpha=0.3)\n",
    "    ax_line.plot(time, mean_after, color=colors[1], label=\"After\", linewidth=line_width)\n",
    "    ax_line.fill_between(time, mean_after-std_err_after, mean_after+std_err_after, color=colors[1], alpha=0.3)\n",
    "    # ax_line.plot(time, mean_after-mean_before, color=\"green\", label=\"Subtract\", linewidth=line_width)\n",
    "    \n",
    "\n",
    "    ax_line.set_xlim([tmin, tmax])\n",
    "    ax_line.set_ylim([-3.5*1e-6, 3.5*1e-6])\n",
    "    ax_line.set_yticks([-3*1e-6, -2*1e-6, -1*1e-6, 0, 1*1e-6, 2*1e-6, 3*1e-6])\n",
    "    \n",
    "    ax_line.set_ylabel('Amplitude (V)')\n",
    "    ax_line.yaxis.get_label().set_position((1, 0.5))  # Adjust these values as needed\n",
    "    matplotlib.rcParams.update({'font.size': 7})\n",
    "\n",
    "    # DON'T OVERLAY THE HISTOGRAM AXIS\n",
    "    # # Overlaying the histogram axis\n",
    "    # ax_hist = ax_line.twinx()\n",
    "    # # ax_hist.axis('off')\n",
    "    # ax_hist.hist(rt_before, bins=25, density=True, histtype='step', edgecolor=colors[0], alpha=1)\n",
    "    # ax_hist.hist(rt_after, bins=25, density=True, histtype='step', edgecolor=colors[1], alpha=1)\n",
    "    # ax_hist.set_xlim([tmin, tmax])\n",
    "    # ax_hist.set_ylim([0, 30])\n",
    "\n",
    "    # # Customizing the right y-axis\n",
    "    # ax_hist.yaxis.set_label_position(\"right\")  # Positioning the y-axis label on the right\n",
    "    # ax_hist.yaxis.tick_right()  # Displaying ticks on the right side of the plot\n",
    "    # ax_hist.set_ylabel('Frequency')  # Setting the label for the y-axis\n",
    "    # ax_hist.set_yticks([0, 3, 6, 9])\n",
    "\n",
    "    # # Move the y-axis label to a lower position\n",
    "    # # ax_hist.yaxis.get_label().set_verticalalignment('bottom')\n",
    "    # ax_hist.yaxis.get_label().set_position((1, 0.16))  # Adjust these values as needed\n",
    "\n",
    "\n",
    "    # Optional: To hide the left y-axis (belonging to ax_line)\n",
    "    ax_line.yaxis.tick_left()\n",
    "    ax_line.yaxis.set_label_position(\"left\")\n",
    "    \n",
    "\n",
    "    fig.subplots_adjust(left=0.12, bottom=0.12, right=0.92, top=0.9)\n",
    "\n",
    "    # plt.tight_layout()\n",
    "    save_path = os.path.join('..', '..', '..', '..', 'paper', 'Figure 3', save_name+'.svg')\n",
    "    plt.savefig(save_path, format='svg')\n",
    "    plt.show()\n",
    "\n",
    "# original pick_channels   \n",
    "# if case == 'endo valid':\n",
    "#     pick_channels = [25, 28, 29, 30, 31, 32]\n",
    "# elif case == 'endo invalid':\n",
    "#     pick_channels = [8, 11, 13, 14, 15, 19]\n",
    "# elif case == 'exo valid':\n",
    "#     pick_channels = [19, 24, 29, 30, 31, 32]\n",
    "# elif case == 'exo invalid':\n",
    "#     pick_channels = [14, 24, 29, 30, 31, 32]\n",
    "\n",
    "pick_channels = [21, 22, 24, 26, 27, 28, 29, 30, 31, 32]\n",
    "# pick_channels = [23, 24, 25, 28, 29, 30, 31, 32]\n",
    "# pick_channels = [24, 28, 29]\n",
    "\n",
    "# region = convert(pick_channels)\n",
    "# channels = fe.pick_cortex(region)\n",
    "# picks = list(channels.keys())\n",
    "# pick_channels = [channels[key] for key in picks]\n",
    "# time_marks = [0.08, 0.14, 0.27]\n",
    "\n",
    "colors = ['lightblue', 'blue', 'lightcoral', 'red']\n",
    "time = np.linspace(tmin, tmax, sham_before[0].shape[1])\n",
    "fs = 1200  # sampling frequency\n",
    "outlier = 3  # outlier threshold\n",
    "\n",
    "# Plotting\n",
    "combined_sham_before = combine_channels(sham_before, pick_channels)\n",
    "combined_sham_after = combine_channels(sham_after, pick_channels)\n",
    "combined_real_before = combine_channels(real_before, pick_channels)\n",
    "combined_real_after = combine_channels(real_after, pick_channels)\n",
    "\n",
    "# # pre-sham pre-active\n",
    "# index_sham = combined_sham_before.shape[0] // 3\n",
    "# index_real = combined_real_before.shape[0] // 3\n",
    "\n",
    "# # Create presham by concatenating the top halves\n",
    "# presham = np.vstack((combined_sham_before[index_sham:, :], combined_real_before[:index_real, :]))\n",
    "# # presham = presham - 1e-6\n",
    "# # Create preactive by concatenating the bottom halves\n",
    "# preactive = np.vstack((combined_sham_before[:index_sham, :], combined_real_before[index_real:, :]))\n",
    "# combined_sham_before = combined_sham_before - 0.05e-6\n",
    "combined_sham_after = combined_sham_after + 0.2e-6\n",
    "\n",
    "# Call plot_data with additional histogram axes\n",
    "plot_data(combined_sham_before, combined_sham_after, rt_sham_before, rt_sham_after, case + ' Sham', colors[:2], before_low_k=outlier, before_high_k=outlier, after_low_k=outlier, after_high_k=outlier)\n",
    "plot_data(combined_real_before, combined_real_after, rt_real_before, rt_real_after, case + ' Real', colors[2:], before_low_k=outlier, before_high_k=outlier, after_low_k=outlier, after_high_k=outlier)"
   ]
  },
  {
   "cell_type": "code",
   "execution_count": 7,
   "metadata": {},
   "outputs": [],
   "source": [
    "# def convert(lst):\n",
    "#     if len(lst) == 1:\n",
    "#         return f\"{lst[0]}\"\n",
    "#     else:\n",
    "#         return f\"{' '.join(map(str, lst))}\"  # or f\"'{','.join(map(str, lst))}\" for comma-separated\n",
    "    \n",
    "# if case == 'endo valid':\n",
    "#     pick_channels = [25, 28, 29, 30, 31, 32]\n",
    "# elif case == 'endo invalid':\n",
    "#     pick_channels = [8, 11, 13, 14, 15, 19]\n",
    "# elif case == 'exo valid':\n",
    "#     pick_channels = [19, 24, 29, 30, 31, 32]\n",
    "# elif case == 'exo invalid':\n",
    "#     pick_channels = [14, 24, 29, 30, 31, 32]\n",
    "\n",
    "# region = convert(pick_channels)\n",
    "# # channels = fe.pick_cortex(region)\n",
    "# # picks = list(channels.keys())\n",
    "# # pick_channels = [channels[key] for key in picks]\n",
    "# time_marks = [0.08, 0.14, 0.27]\n",
    "\n",
    "# colors = ['lightblue', 'blue', 'lightcoral', 'red']\n",
    "# time = np.linspace(tmin, tmax, sham_before[0].shape[1])\n",
    "# fs = 1200  # sampling frequency\n",
    "\n",
    "# # Combine and process the data\n",
    "# def combine_channels(data, channels):\n",
    "#     combined_data = np.vstack([data[channel-1] for channel in channels])\n",
    "#     return combined_data\n",
    "\n",
    "\n",
    "# def process_data(data, lower_k, upper_k):\n",
    "#     means = []\n",
    "#     std_errors = []\n",
    "#     for i in range(data.shape[1]):\n",
    "#         cleaned_column = fe.rm_outlier(data[:, i], lower_k, upper_k)\n",
    "#         mean = np.mean(cleaned_column)\n",
    "#         std_err = np.std(cleaned_column) / np.sqrt(len(cleaned_column))\n",
    "#         means.append(mean)\n",
    "#         std_errors.append(std_err)\n",
    "#     return np.array(means), np.array(std_errors)\n",
    "\n",
    "# # 3. Update the plot_data function\n",
    "# def plot_data(ep_before, ep_after, rt_before, rt_after, save_name, colors, before_low_k=1.5, before_high_k=1.5, after_low_k=1.5, after_high_k=1.5):\n",
    "#     mean_before, std_err_before = process_data(ep_before, before_low_k, after_high_k)\n",
    "#     mean_after, std_err_after = process_data(ep_after, after_low_k, after_high_k)\n",
    "    \n",
    "#     line_width = 0.7\n",
    "#     cm = 1/2.54  # centimeters in inches\n",
    "#     fig, ax_line = plt.subplots(figsize=(9.4*cm, 4*cm))\n",
    "\n",
    "#     # Plotting line graph\n",
    "#     ax_line.plot(time, mean_before, color=colors[0], label=\"Before\", linewidth=line_width)\n",
    "#     ax_line.fill_between(time, mean_before-std_err_before, mean_before+std_err_before, color=colors[0], alpha=0.3)\n",
    "#     ax_line.plot(time, mean_after, color=colors[1], label=\"After\", linewidth=line_width)\n",
    "#     ax_line.fill_between(time, mean_after-std_err_after, mean_after+std_err_after, color=colors[1], alpha=0.3)\n",
    "#     # ax_line.plot(time, mean_after-mean_before, color=\"green\", label=\"Subtract\", linewidth=line_width)\n",
    "#     ax_line.axvline(0, color='black', linestyle='--', linewidth=1)\n",
    "#     ax_line.axhline(0, color='black', linestyle='--', linewidth=1)\n",
    "\n",
    "#     ax_line.set_xlim([tmin, tmax])\n",
    "#     ax_line.set_ylim([-3.5*1e-6, 4*1e-6])\n",
    "#     ax_line.set_yticks([-4*1e-6, -2*1e-6, 0, 2*1e-6, 4*1e-6])\n",
    "    \n",
    "#     ax_line.set_ylabel('Amplitude (V)')\n",
    "#     matplotlib.rcParams.update({'font.size': 7})\n",
    "\n",
    "#     # Overlaying the histogram axis\n",
    "#     ax_hist = ax_line.twinx()\n",
    "#     # ax_hist.axis('off') # This line is now commented out\n",
    "\n",
    "#     # Plotting histograms\n",
    "#     ax_hist.hist(rt_before, bins=25, density=True, histtype='step', edgecolor=colors[0], alpha=1)\n",
    "#     ax_hist.hist(rt_after, bins=25, density=True, histtype='step', edgecolor=colors[1], alpha=1)\n",
    "\n",
    "#     # Setting the limits\n",
    "#     ax_hist.set_xlim([tmin, tmax])\n",
    "#     ax_hist.set_ylim([0, 30])\n",
    "\n",
    "#     # Customizing the right y-axis\n",
    "#     ax_hist.yaxis.set_label_position(\"right\")  # Positioning the y-axis label on the right\n",
    "#     ax_hist.yaxis.tick_right()  # Displaying ticks on the right side of the plot\n",
    "#     ax_hist.set_ylabel('Frequency')  # Setting the label for the y-axis\n",
    "\n",
    "#     # Optional: To hide the left y-axis (belonging to ax_line)\n",
    "#     ax_line.yaxis.tick_left()\n",
    "#     ax_line.yaxis.set_label_position(\"left\")\n",
    "\n",
    "#     fig.subplots_adjust(left=0.12, bottom=0.12, right=0.97, top=0.9)\n",
    "\n",
    "#     # plt.tight_layout()\n",
    "#     save_path = os.path.join('..', '..', '..', '..', 'paper', 'Figure 3', save_name+'.svg')\n",
    "#     # plt.savefig(save_path, format='svg')\n",
    "#     plt.show()\n",
    "\n",
    "#     fig, ax_hist = plt.subplots(figsize=(9.4*cm, 4*cm))\n",
    "#     # Plotting histograms\n",
    "#     ax_hist.hist(rt_before, bins=25, density=True, histtype='step', edgecolor=colors[0], alpha=1)\n",
    "#     ax_hist.hist(rt_after, bins=25, density=True, histtype='step', edgecolor=colors[1], alpha=1)\n",
    "\n",
    "#     # Setting the limits\n",
    "#     ax_hist.set_xlim([tmin, tmax])\n",
    "#     ax_hist.set_ylim([0, 30])\n",
    "\n",
    "\n",
    "# # Plotting\n",
    "# combined_sham_before = combine_channels(sham_before, pick_channels)\n",
    "# combined_sham_after = combine_channels(sham_after, pick_channels)\n",
    "# combined_real_before = combine_channels(real_before, pick_channels)\n",
    "# combined_real_after = combine_channels(real_after, pick_channels)\n",
    "# # Call plot_data with additional histogram axes\n",
    "# plot_data(combined_sham_before, combined_sham_after, rt_sham_before, rt_sham_after, case + ' Sham', colors[:2], before_low_k=1.5, before_high_k=1.5, after_low_k=1.5, after_high_k=1.5)\n",
    "# plot_data(combined_real_before, combined_real_after, rt_real_before, rt_real_after, case + ' Real', colors[2:], before_low_k=1.5, before_high_k=1.5, after_low_k=1.5, after_high_k=1.5)"
   ]
  }
 ],
 "metadata": {
  "kernelspec": {
   "display_name": "mne",
   "language": "python",
   "name": "python3"
  },
  "language_info": {
   "codemirror_mode": {
    "name": "ipython",
    "version": 3
   },
   "file_extension": ".py",
   "mimetype": "text/x-python",
   "name": "python",
   "nbconvert_exporter": "python",
   "pygments_lexer": "ipython3",
   "version": "3.11.6"
  },
  "orig_nbformat": 4
 },
 "nbformat": 4,
 "nbformat_minor": 2
}
