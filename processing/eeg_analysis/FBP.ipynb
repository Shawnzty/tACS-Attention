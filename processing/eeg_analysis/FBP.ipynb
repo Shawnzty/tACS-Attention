{
 "cells": [
  {
   "cell_type": "markdown",
   "metadata": {},
   "source": [
    "### FBP: Frequency Band Power"
   ]
  },
  {
   "cell_type": "code",
   "execution_count": 114,
   "metadata": {},
   "outputs": [
    {
     "data": {
      "text/plain": [
       "<module 'behavior.func4behav' from 'c:\\\\Users\\\\Tianyi Zheng\\\\OneDrive - neuron.t.u-tokyo.ac.jp\\\\Documents\\\\zheng\\\\mywork\\\\attention_tES\\\\tes-attention\\\\processing\\\\behavior\\\\func4behav.py'>"
      ]
     },
     "execution_count": 114,
     "metadata": {},
     "output_type": "execute_result"
    }
   ],
   "source": [
    "import sys\n",
    "import os\n",
    "sys.path.insert(0, os.path.abspath('..'))\n",
    "from scipy.io import loadmat\n",
    "from pathlib import Path\n",
    "import matplotlib.patches as patches\n",
    "import matplotlib.lines as mlines\n",
    "import matplotlib.pyplot as plt\n",
    "from matplotlib import rc\n",
    "import matplotlib.image as mpimg\n",
    "import numpy as np\n",
    "import pandas as pd\n",
    "# the following import is required for matplotlib < 3.2:\n",
    "from mpl_toolkits.mplot3d import Axes3D  # noqa\n",
    "from scipy import stats\n",
    "import mne\n",
    "import eeg_analysis.funcs4eeg as fe\n",
    "import re\n",
    "import imp\n",
    "import ast\n",
    "import behavior.func4behav as fb\n",
    "imp.reload(fe)\n",
    "imp.reload(fb)"
   ]
  },
  {
   "cell_type": "code",
   "execution_count": 115,
   "metadata": {},
   "outputs": [],
   "source": [
    "real_ids = [1, 3, 4, 5, 9, 12, 13, 17, 18]\n",
    "sham_ids = [2, 6, 7, 8, 10, 11, 14, 15, 16]\n",
    "\n",
    "bands = [[4, 7], [8, 12], [12.5, 30], [30, 60], [60, 100]]\n",
    "band_names = ['theta', 'alpha', 'beta', 'gamma', 'high gamma']"
   ]
  },
  {
   "cell_type": "markdown",
   "metadata": {},
   "source": [
    "### power over the entire trial"
   ]
  },
  {
   "cell_type": "code",
   "execution_count": 116,
   "metadata": {},
   "outputs": [],
   "source": [
    "case = 'endo'\n",
    "# sham_before, sham_after, real_before, real_after = fe.pipeline_FBP_allsubs(case)"
   ]
  },
  {
   "cell_type": "code",
   "execution_count": 120,
   "metadata": {},
   "outputs": [],
   "source": [
    "subject_id = 12\n",
    "behav_sham_before, behav_sham_after, behav_real_before, behav_real_after, rt_means, rt_std_errors = fe.reaction_time_table(case)\n",
    "trials_before, trials_after = fe.get_inuse_trials(subject_id, behav_real_before, behav_real_after)\n",
    "eeg_before, eeg_after = fe.load_eeg(subject_id)\n",
    "events, event_dict = fe.make_default_events(eeg_before)\n",
    "picked_events, picked_events_dict = fe.make_custom_events(eeg_before, events, event_dict, trials_before, fe.translate_case(case))\n"
   ]
  },
  {
   "cell_type": "code",
   "execution_count": 134,
   "metadata": {},
   "outputs": [
    {
     "name": "stdout",
     "output_type": "stream",
     "text": [
      "5.035833333333334\n",
      "5.031666666666666\n",
      "5.034166666666667\n",
      "5.031666666666666\n",
      "4.535833333333334\n",
      "4.533333333333333\n",
      "4.533333333333333\n",
      "4.534166666666667\n",
      "5.030833333333334\n",
      "4.534166666666667\n",
      "5.0325\n",
      "4.533333333333333\n",
      "4.534166666666667\n",
      "5.034166666666667\n",
      "5.0325\n",
      "4.533333333333333\n",
      "5.0325\n",
      "4.533333333333333\n",
      "5.034166666666667\n",
      "4.533333333333333\n",
      "4.533333333333333\n",
      "5.033333333333333\n",
      "5.031666666666666\n",
      "5.0325\n",
      "5.031666666666666\n",
      "4.531666666666666\n",
      "4.5325\n",
      "5.034166666666667\n",
      "5.033333333333333\n",
      "5.033333333333333\n",
      "5.034166666666667\n",
      "4.534166666666667\n",
      "4.5325\n",
      "4.533333333333333\n",
      "5.030833333333334\n",
      "5.033333333333333\n",
      "5.0325\n",
      "4.531666666666666\n",
      "5.033333333333333\n",
      "4.533333333333333\n",
      "5.0325\n"
     ]
    }
   ],
   "source": [
    "trial_fixations = picked_events[picked_events[:, 2] == 1]\n",
    "trial_stims = picked_events[picked_events[:, 2] == 11]\n",
    "trial_fixations[:, 0]\n",
    "trial_start_times = trial_fixations[:,0] # time steps of fixation onsets\n",
    "trial_end_times = (trial_stims[:,0] + (1200*1.5)).astype(int) # time steps of stimulus onsets\n",
    "\n",
    "data = eeg_before.get_data()[1:33,:] # 32 channels\n",
    "\n",
    "for i, end_time in enumerate (trial_end_times):\n",
    "    trial = data[:,trial_start_times[i]:end_time]\n",
    "    print(trial.shape[1]/1200)"
   ]
  },
  {
   "cell_type": "code",
   "execution_count": 131,
   "metadata": {},
   "outputs": [
    {
     "data": {
      "text/plain": [
       "(32, 6043)"
      ]
     },
     "execution_count": 131,
     "metadata": {},
     "output_type": "execute_result"
    }
   ],
   "source": [
    "data[:,trial_start_times[0]:7243].shape"
   ]
  },
  {
   "cell_type": "code",
   "execution_count": 119,
   "metadata": {},
   "outputs": [],
   "source": [
    "# set baseline"
   ]
  },
  {
   "cell_type": "markdown",
   "metadata": {},
   "source": [
    "### Evoked power change"
   ]
  },
  {
   "cell_type": "code",
   "execution_count": null,
   "metadata": {},
   "outputs": [],
   "source": []
  }
 ],
 "metadata": {
  "kernelspec": {
   "display_name": "mne",
   "language": "python",
   "name": "python3"
  },
  "language_info": {
   "codemirror_mode": {
    "name": "ipython",
    "version": 3
   },
   "file_extension": ".py",
   "mimetype": "text/x-python",
   "name": "python",
   "nbconvert_exporter": "python",
   "pygments_lexer": "ipython3",
   "version": "3.9.17"
  },
  "orig_nbformat": 4
 },
 "nbformat": 4,
 "nbformat_minor": 2
}
