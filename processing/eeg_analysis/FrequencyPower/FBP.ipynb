{
 "cells": [
  {
   "cell_type": "markdown",
   "metadata": {},
   "source": [
    "### FBP: Frequency Band Power"
   ]
  },
  {
   "cell_type": "code",
   "execution_count": 7,
   "metadata": {},
   "outputs": [
    {
     "data": {
      "text/plain": [
       "<module 'behavior.func4behav' from 'c:\\\\Users\\\\Tianyi Zheng\\\\OneDrive - neuron.t.u-tokyo.ac.jp\\\\Documents\\\\zheng\\\\mywork\\\\attention_tES\\\\tes-attention\\\\processing\\\\behavior\\\\func4behav.py'>"
      ]
     },
     "execution_count": 7,
     "metadata": {},
     "output_type": "execute_result"
    }
   ],
   "source": [
    "import sys\n",
    "import os\n",
    "sys.path.insert(0, os.path.abspath('../..'))\n",
    "from scipy.io import loadmat\n",
    "from pathlib import Path\n",
    "import matplotlib.patches as patches\n",
    "import matplotlib.lines as mlines\n",
    "import matplotlib.pyplot as plt\n",
    "from matplotlib import rc\n",
    "import matplotlib.image as mpimg\n",
    "import numpy as np\n",
    "import pandas as pd\n",
    "# the following import is required for matplotlib < 3.2:\n",
    "from mpl_toolkits.mplot3d import Axes3D  # noqa\n",
    "from scipy import stats\n",
    "from scipy.stats import ttest_ind, ttest_rel, mannwhitneyu\n",
    "import mne\n",
    "import eeg_analysis.funcs4eeg as fe\n",
    "import re\n",
    "import imp\n",
    "import ast\n",
    "import behavior.func4behav as fb\n",
    "\n",
    "imp.reload(fe)\n",
    "imp.reload(fb)"
   ]
  },
  {
   "cell_type": "code",
   "execution_count": 5,
   "metadata": {},
   "outputs": [],
   "source": [
    "real_ids = [1, 3, 4, 5, 9, 12, 13, 17, 18]\n",
    "sham_ids = [2, 6, 7, 8, 10, 11, 14, 15, 16]\n",
    "\n",
    "bands = [[4, 7], [8, 12], [12.5, 30], [30, 60], [60, 100]]\n",
    "band_names = ['theta', 'alpha', 'beta', 'gamma', 'high gamma']"
   ]
  },
  {
   "cell_type": "markdown",
   "metadata": {},
   "source": [
    "### power over the entire trial"
   ]
  },
  {
   "cell_type": "code",
   "execution_count": 6,
   "metadata": {},
   "outputs": [],
   "source": [
    "case = 'endo'\n",
    "sham_before, sham_after, real_before, real_after = fe.pipeline_FBP_allsubs(case)"
   ]
  },
  {
   "cell_type": "code",
   "execution_count": 15,
   "metadata": {},
   "outputs": [
    {
     "data": {
      "image/png": "[encoded data removed]",
      "text/plain": [
       "<Figure size 640x480 with 1 Axes>"
      ]
     },
     "metadata": {},
     "output_type": "display_data"
    }
   ],
   "source": [
    "band = 4\n",
    "rt_sham_before = sham_before[band, 1, :]\n",
    "rt_sham_after = sham_after[band, 1, :]\n",
    "rt_real_before = real_before[band, 1, :]\n",
    "rt_real_after = real_after[band, 1, :]\n",
    "# Calculate means\n",
    "means = [np.mean(sham_before[band, 1, :]), np.mean(sham_after[band, 1, :]), np.mean(real_before[band, 1, :]), np.mean(real_after[band, 1, :])]\n",
    "\n",
    "# Calculate standard errors\n",
    "std_errors = [\n",
    "    np.std(sham_before[band, 1, :]) / np.sqrt(len(sham_before[band, 1, :])), np.std(sham_after[band, 1, :]) / np.sqrt(len(sham_after[band, 1, :])),\n",
    "    np.std(real_before[band, 1, :]) / np.sqrt(len(real_before[band, 1, :])), np.std(real_after[band, 1, :]) / np.sqrt(len(real_after[band, 1, :]))\n",
    "]\n",
    "\n",
    "# Calculate t-tests\n",
    "_, p_sham = mannwhitneyu(rt_sham_before, rt_sham_after)\n",
    "_, p_real = mannwhitneyu(rt_real_before, rt_real_after)\n",
    "_, p_before = mannwhitneyu(rt_sham_before, rt_real_before)\n",
    "_, p_after = mannwhitneyu(rt_sham_after, rt_real_after)\n",
    "\n",
    "\n",
    "# Calculate percentage changes\n",
    "percent_change_sham = ((np.mean(rt_sham_after) - np.mean(rt_sham_before)) / np.mean(rt_sham_before)) * 100\n",
    "percent_change_real = ((np.mean(rt_real_after) - np.mean(rt_real_before)) / np.mean(rt_real_before)) * 100\n",
    "\n",
    "# Bar chart\n",
    "labels = ['Sham Before', 'Sham After', 'Real Before', 'Real After']\n",
    "colors = ['lightblue', 'blue', 'lightcoral', 'red']\n",
    "\n",
    "fig, ax = plt.subplots()\n",
    "\n",
    "bars = ax.bar(labels, means, yerr=std_errors, color=colors, capsize=10)\n",
    "\n",
    "# Add p-values\n",
    "heights = [bar.get_height() + error for bar, error in zip(bars, std_errors)]\n",
    "fsize = 13\n",
    "# ax.text(0.5, heights[0] + 2, f'p = {p_sham*4:.4f}', ha='center', va='bottom', fontsize=fsize)\n",
    "# ax.text(2.5, heights[2] + 2, f'p = {p_real*4:.4f}', ha='center', va='bottom', fontsize=fsize)\n",
    "# ax.text(1, heights[0] + 9, f'p = {p_before*4:.4f}', ha='center', va='bottom', fontsize=fsize)\n",
    "# ax.text(2, heights[2] + 9, f'p = {p_after*4:.4f}', ha='center', va='bottom', fontsize=fsize)\n",
    "\n",
    "# # Add percentage changes\n",
    "# ax.text(0.5, heights[0] + 1, f'{percent_change_sham:.1f}%', ha='center', va='top', color='blue', fontsize=fsize)\n",
    "# ax.text(2.5, heights[2] + 1, f'{percent_change_real:.1f}%', ha='center', va='top', color='red', fontsize=fsize)\n",
    "\n",
    "# Add some additional formatting if desired\n",
    "ax.set_ylabel('fbp')\n",
    "ax.set_title(case)\n",
    "# ax.set_ylim([250, 400])  # Adjust as needed\n",
    "\n",
    "plt.show()"
   ]
  },
  {
   "cell_type": "code",
   "execution_count": 8,
   "metadata": {},
   "outputs": [],
   "source": [
    "subject_id = 18\n",
    "behav_sham_before, behav_sham_after, behav_real_before, behav_real_after, rt_means, rt_std_errors = fe.reaction_time_table(case)\n",
    "trials_before, trials_after = fe.get_inuse_trials(subject_id, behav_real_before, behav_real_after)\n",
    "\n",
    "eeg_before, eeg_after = fe.load_eeg(subject_id)\n",
    "events, event_dict = fe.make_default_events(eeg_before)\n",
    "picked_events, picked_events_dict = fe.make_custom_events(eeg_before, events, event_dict, trials_before, fe.translate_case(case))"
   ]
  },
  {
   "cell_type": "code",
   "execution_count": 107,
   "metadata": {},
   "outputs": [
    {
     "name": "stdout",
     "output_type": "stream",
     "text": [
      "(32, 6046)\n",
      "(32, 5439)\n",
      "(32, 6040)\n",
      "(32, 5440)\n",
      "(32, 6041)\n",
      "(32, 6038)\n",
      "(32, 6039)\n",
      "(32, 6040)\n",
      "(32, 5441)\n",
      "(32, 5441)\n",
      "(32, 5439)\n",
      "(32, 6040)\n",
      "(32, 6039)\n",
      "(32, 5439)\n",
      "(32, 6040)\n",
      "(32, 5442)\n",
      "(32, 6040)\n",
      "(32, 5439)\n",
      "(32, 5440)\n",
      "(32, 5440)\n",
      "(32, 6040)\n",
      "(32, 5438)\n",
      "(32, 6040)\n",
      "(32, 5440)\n",
      "(32, 5438)\n",
      "(32, 6039)\n",
      "(32, 6040)\n",
      "(32, 6041)\n",
      "(32, 6040)\n",
      "(32, 5441)\n",
      "(32, 6041)\n",
      "(32, 5439)\n",
      "(32, 5441)\n",
      "(32, 6038)\n",
      "(32, 5438)\n",
      "(32, 6038)\n",
      "(32, 5440)\n",
      "(32, 5440)\n",
      "(32, 5441)\n",
      "(32, 5438)\n",
      "(32, 5440)\n",
      "(32, 6039)\n",
      "(32, 6041)\n",
      "(32, 5439)\n",
      "(32, 5440)\n",
      "(32, 6039)\n",
      "(32, 6039)\n",
      "(32, 6040)\n",
      "(32, 5441)\n",
      "(32, 6040)\n",
      "(32, 6039)\n",
      "(32, 5441)\n",
      "(32, 6040)\n",
      "(32, 5439)\n",
      "(32, 6041)\n",
      "(32, 5440)\n",
      "(32, 6040)\n",
      "(32, 5438)\n",
      "(32, 5439)\n"
     ]
    }
   ],
   "source": [
    "trial_fixations = picked_events[picked_events[:, 2] == 1]\n",
    "trial_stims = picked_events[picked_events[:, 2] == 11]\n",
    "trial_start_times = trial_fixations[:,0] # time steps of fixation onsets\n",
    "trial_end_times = (trial_stims[:,0] + (1200*1.5)).astype(int) # time steps of stimulus onsets\n",
    "\n",
    "data = eeg_before.get_data()[1:33,:] # 32 channels\n",
    "\n",
    "for i, end_time in enumerate (trial_end_times):\n",
    "    trial = data[:,trial_start_times[i]:end_time]\n",
    "    print(trial.shape)"
   ]
  },
  {
   "cell_type": "code",
   "execution_count": 108,
   "metadata": {},
   "outputs": [
    {
     "data": {
      "text/plain": [
       "(32, 6043)"
      ]
     },
     "execution_count": 108,
     "metadata": {},
     "output_type": "execute_result"
    }
   ],
   "source": [
    "data[:,trial_start_times[0]:7243].shape"
   ]
  },
  {
   "cell_type": "markdown",
   "metadata": {},
   "source": [
    "### separate by 1 hz in frequency, plot heatmap?"
   ]
  },
  {
   "cell_type": "markdown",
   "metadata": {},
   "source": [
    "### Evoked power change"
   ]
  },
  {
   "cell_type": "code",
   "execution_count": null,
   "metadata": {},
   "outputs": [],
   "source": []
  }
 ],
 "metadata": {
  "kernelspec": {
   "display_name": "mne",
   "language": "python",
   "name": "python3"
  },
  "language_info": {
   "codemirror_mode": {
    "name": "ipython",
    "version": 3
   },
   "file_extension": ".py",
   "mimetype": "text/x-python",
   "name": "python",
   "nbconvert_exporter": "python",
   "pygments_lexer": "ipython3",
   "version": "3.9.17"
  },
  "orig_nbformat": 4
 },
 "nbformat": 4,
 "nbformat_minor": 2
}
