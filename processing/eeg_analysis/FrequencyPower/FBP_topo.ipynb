{
 "cells": [
  {
   "cell_type": "code",
   "execution_count": 127,
   "metadata": {},
   "outputs": [],
   "source": [
    "import sys\n",
    "import os\n",
    "sys.path.insert(0, os.path.abspath('../..'))\n",
    "from scipy.io import loadmat\n",
    "from pathlib import Path\n",
    "import matplotlib.patches as patches\n",
    "import matplotlib.lines as mlines\n",
    "import matplotlib.pyplot as plt\n",
    "from matplotlib import rc\n",
    "import matplotlib.image as mpimg\n",
    "import numpy as np\n",
    "import pandas as pd\n",
    "# the following import is required for matplotlib < 3.2:\n",
    "from mpl_toolkits.mplot3d import Axes3D  # noqa\n",
    "from scipy import stats\n",
    "from scipy.stats import mannwhitneyu, ttest_rel\n",
    "from scipy.signal import butter, filtfilt\n",
    "import mne\n",
    "import eeg_analysis.funcs4eeg as fe\n",
    "import re\n",
    "import imp\n",
    "import ast\n",
    "import behavior.func4behav as fb\n",
    "imp.reload(fe)\n",
    "imp.reload(fb)\n",
    "\n",
    "from scipy import signal\n",
    "from scipy.signal import resample\n",
    "from scipy.ndimage import zoom"
   ]
  },
  {
   "cell_type": "code",
   "execution_count": 128,
   "metadata": {},
   "outputs": [],
   "source": [
    "case_title = 'endo'\n",
    "case_list = [case_title+' fast', case_title+' slow']\n",
    "if 'endo' in case_title:\n",
    "    tmax_list = [1.5+1+0.5+0.05+1, 1.5+1+1+0.05+1]\n",
    "else:\n",
    "    tmax_list = [1.5+0.033*4+0.5+0.05+1, 1.5+0.033*4+1+0.05+1]\n",
    "\n",
    "fs = 1200\n",
    "eeg_fast = np.empty((0, 32, int(tmax_list[0]*fs)+1))\n",
    "eeg_slow = np.empty((0, 32, int(tmax_list[1]*fs)+1))\n",
    "rt = np.empty((0,))\n",
    "for i, case in enumerate(case_list):\n",
    "    tmax = tmax_list[i]\n",
    "    watch = '1 fixation'\n",
    "    tmin = 0 # include fix or not?\n",
    "\n",
    "    highpass = None # 0.3\n",
    "    lowpass = None\n",
    "\n",
    "    EP_lists, RT_lists = fe.pipeline_EP_RT(case, watch, tmin, tmax, hipass=highpass, lopass=lowpass, baseline=(0,0), move_baseline=False, detrend=1)\n",
    "    eeg_tmp = np.vstack([EP_lists[0], EP_lists[2]]) # only for all before\n",
    "    \n",
    "    # make eeg to same length\n",
    "    if 'slow' in case:\n",
    "        eeg_slow = np.vstack((eeg_slow, eeg_tmp))\n",
    "    else:\n",
    "        eeg_fast = np.vstack((eeg_fast, eeg_tmp))\n",
    "\n",
    "    rt_tmp = np.hstack([RT_lists[0], RT_lists[2]])\n",
    "    rt = np.hstack((rt, rt_tmp))\n"
   ]
  },
  {
   "cell_type": "code",
   "execution_count": 129,
   "metadata": {},
   "outputs": [],
   "source": [
    "freq_bands = [[4, 8], [8, 12], [12, 30], [30, 50]]\n",
    "endo_fast_stages = [[0, 1.5], [1.5, 1.5+1], [1.5+1, 1.5+1+0.5], [1.5+1+0.5+0.05, 1.5+1+0.5+0.05+1], [0, 1.5+1+0.5+0.05+1]]\n",
    "endo_slow_stages = [[0, 1.5], [1.5, 1.5+1], [1.5+1, 1.5+1+1], [1.5+1+1+0.05, 1.5+1+1+0.05+1], [0, 1.5+1+1+0.05+1]]\n",
    "exo_fast_stages = [[0, 1.5], [1.5, 1.5+0.033*4], [1.5+0.033*4, 1.5+0.033*4+0.5], [1.5+0.033*4+0.5+0.05, 1.5+0.033*4+0.5+0.05+1], [0, 1.5+0.033*4+0.5+0.05+1]]\n",
    "exo_slow_stages = [[0, 1.5], [1.5, 1.5+0.033*4], [1.5+0.033*4, 1.5+0.033*4+1], [1.5+0.033*4+1+0.05, 1.5+0.033*4+1+0.05+1], [0, 1.5+0.033*4+1+0.05+1]]"
   ]
  },
  {
   "cell_type": "code",
   "execution_count": 130,
   "metadata": {},
   "outputs": [],
   "source": [
    "bp_table = np.zeros((eeg_fast.shape[0]+eeg_slow.shape[0], 32, 5, 4)) # trials, 32 channels, 5 stages, 4 frequency bands\n",
    "eeg_list = [eeg_fast, eeg_slow]\n",
    "if 'endo' in case_title:\n",
    "    stages_list = [endo_fast_stages, endo_slow_stages]\n",
    "else:\n",
    "    stages_list = [exo_fast_stages, exo_slow_stages]\n",
    "\n",
    "adjust = 0\n",
    "for i, eeg in enumerate(eeg_list):\n",
    "    stages = stages_list[i]\n",
    "    # add stim channel\n",
    "    stim = np.zeros((1, eeg.shape[2]))\n",
    "    stim[0,1] = 1\n",
    "\n",
    "    for trial in range(eeg.shape[0]):\n",
    "        # print(trial+adjust)\n",
    "        data = eeg[trial,:,:]\n",
    "        for j, stage in enumerate(stages):\n",
    "            stage_start = int(stage[0]*fs)\n",
    "            stage_end = int(stage[1]*fs)\n",
    "            psds, freqs = mne.time_frequency.psd_array_multitaper(data[:,stage_start:stage_end], fs, fmin=0, fmax=51, verbose=False)\n",
    "            for k,band in enumerate(freq_bands):\n",
    "                bp_table[trial+adjust, :, j, k] = fe.band_power(psds, freqs, band)\n",
    "    adjust = eeg.shape[0]\n",
    "# 35.6 sec"
   ]
  },
  {
   "cell_type": "code",
   "execution_count": null,
   "metadata": {},
   "outputs": [],
   "source": []
  }
 ],
 "metadata": {
  "kernelspec": {
   "display_name": "mne",
   "language": "python",
   "name": "python3"
  },
  "language_info": {
   "codemirror_mode": {
    "name": "ipython",
    "version": 3
   },
   "file_extension": ".py",
   "mimetype": "text/x-python",
   "name": "python",
   "nbconvert_exporter": "python",
   "pygments_lexer": "ipython3",
   "version": "3.9.17"
  }
 },
 "nbformat": 4,
 "nbformat_minor": 2
}
