{
 "cells": [
  {
   "cell_type": "code",
   "execution_count": 1,
   "metadata": {},
   "outputs": [],
   "source": [
    "import numpy as np\n",
    "import mne\n",
    "import matplotlib.pyplot as plt\n",
    "import os"
   ]
  },
  {
   "cell_type": "code",
   "execution_count": 2,
   "metadata": {},
   "outputs": [
    {
     "name": "stdout",
     "output_type": "stream",
     "text": [
      "Opening raw data file ..\\..\\data\\8\\raw_before.fif...\n",
      "    Range : 0 ... 647873 =      0.000 ...   539.894 secs\n",
      "Ready.\n",
      "Reading 0 ... 647873  =      0.000 ...   539.894 secs...\n"
     ]
    },
    {
     "name": "stderr",
     "output_type": "stream",
     "text": [
      "C:\\Users\\Tianyi Zheng\\AppData\\Local\\Temp\\ipykernel_9932\\25810900.py:2: RuntimeWarning: This filename (..\\..\\data\\8\\raw_before.fif) does not conform to MNE naming conventions. All raw files should end with raw.fif, raw_sss.fif, raw_tsss.fif, _meg.fif, _eeg.fif, _ieeg.fif, raw.fif.gz, raw_sss.fif.gz, raw_tsss.fif.gz, _meg.fif.gz, _eeg.fif.gz or _ieeg.fif.gz\n",
      "  raw = mne.io.read_raw_fif(raw_path, preload=True)\n"
     ]
    },
    {
     "name": "stdout",
     "output_type": "stream",
     "text": [
      "Opening raw data file ..\\..\\data\\8\\repaired_before.fif...\n",
      "    Range : 0 ... 647873 =      0.000 ...   539.894 secs\n",
      "Ready.\n",
      "Reading 0 ... 647873  =      0.000 ...   539.894 secs...\n"
     ]
    },
    {
     "name": "stderr",
     "output_type": "stream",
     "text": [
      "C:\\Users\\Tianyi Zheng\\AppData\\Local\\Temp\\ipykernel_9932\\25810900.py:6: RuntimeWarning: This filename (..\\..\\data\\8\\repaired_before.fif) does not conform to MNE naming conventions. All raw files should end with raw.fif, raw_sss.fif, raw_tsss.fif, _meg.fif, _eeg.fif, _ieeg.fif, raw.fif.gz, raw_sss.fif.gz, raw_tsss.fif.gz, _meg.fif.gz, _eeg.fif.gz or _ieeg.fif.gz\n",
      "  repaired = mne.io.read_raw_fif(repaired_path, preload=True)\n"
     ]
    },
    {
     "name": "stdout",
     "output_type": "stream",
     "text": [
      "Using qt as 2D backend.\n"
     ]
    },
    {
     "data": {
      "text/plain": [
       "<mne_qt_browser._pg_figure.MNEQtBrowser at 0x1cfb54600d0>"
      ]
     },
     "execution_count": 2,
     "metadata": {},
     "output_type": "execute_result"
    },
    {
     "name": "stdout",
     "output_type": "stream",
     "text": [
      "Channels marked as bad:\n",
      "none\n",
      "Channels marked as bad:\n",
      "none\n"
     ]
    }
   ],
   "source": [
    "raw_path = os.path.join('..', '..', 'data', str(8), 'raw_' + 'before' + '.fif')\n",
    "raw = mne.io.read_raw_fif(raw_path, preload=True)\n",
    "\n",
    "\n",
    "repaired_path = os.path.join('..', '..', 'data', str(8), 'repaired_' + 'before' + '.fif')\n",
    "repaired = mne.io.read_raw_fif(repaired_path, preload=True)\n",
    "\n",
    "raw.plot()\n",
    "repaired.plot()"
   ]
  }
 ],
 "metadata": {
  "kernelspec": {
   "display_name": "mne_office",
   "language": "python",
   "name": "python3"
  },
  "language_info": {
   "codemirror_mode": {
    "name": "ipython",
    "version": 3
   },
   "file_extension": ".py",
   "mimetype": "text/x-python",
   "name": "python",
   "nbconvert_exporter": "python",
   "pygments_lexer": "ipython3",
   "version": "3.10.9"
  },
  "orig_nbformat": 4
 },
 "nbformat": 4,
 "nbformat_minor": 2
}
