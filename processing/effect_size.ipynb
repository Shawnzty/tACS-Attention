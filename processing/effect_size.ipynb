{
 "cells": [
  {
   "cell_type": "code",
   "execution_count": 7,
   "metadata": {},
   "outputs": [
    {
     "name": "stdout",
     "output_type": "stream",
     "text": [
      "sample size in each group: 9.15\n"
     ]
    }
   ],
   "source": [
    "import statsmodels.stats.power as smp\n",
    "\n",
    "effect_size = 1.1  # Cohen's d\n",
    "alpha = 0.05  # significance\n",
    "power = 0.6  # power\n",
    "\n",
    "analysis = smp.TTestIndPower()\n",
    "sample_size = analysis.solve_power(effect_size, power=power, alpha=alpha)\n",
    "print(f\"sample size in each group: {sample_size:.2f}\")\n"
   ]
  }
 ],
 "metadata": {
  "kernelspec": {
   "display_name": "brain",
   "language": "python",
   "name": "python3"
  },
  "language_info": {
   "codemirror_mode": {
    "name": "ipython",
    "version": 3
   },
   "file_extension": ".py",
   "mimetype": "text/x-python",
   "name": "python",
   "nbconvert_exporter": "python",
   "pygments_lexer": "ipython3",
   "version": "3.11.6"
  }
 },
 "nbformat": 4,
 "nbformat_minor": 2
}
