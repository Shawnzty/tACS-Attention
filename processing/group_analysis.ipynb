{
 "cells": [
  {
   "cell_type": "code",
   "execution_count": 1,
   "metadata": {},
   "outputs": [],
   "source": [
    "import os\n",
    "from scipy.io import loadmat\n",
    "from pathlib import Path\n",
    "\n",
    "import matplotlib.pyplot as plt\n",
    "import numpy as np\n",
    "import pandas as pd\n",
    "# the following import is required for matplotlib < 3.2:\n",
    "from mpl_toolkits.mplot3d import Axes3D  # noqa\n",
    "import mne\n",
    "import funcs"
   ]
  },
  {
   "cell_type": "code",
   "execution_count": 2,
   "metadata": {},
   "outputs": [],
   "source": [
    "file_path = os.path.join('..', '..', 'data', 'experiment.csv')\n",
    "df = pd.read_csv(file_path)\n",
    "\n",
    "real_or_sham = df['Real stimulation'].tolist()"
   ]
  },
  {
   "cell_type": "code",
   "execution_count": 3,
   "metadata": {},
   "outputs": [
    {
     "name": "stdout",
     "output_type": "stream",
     "text": [
      "Opening raw data file ../../data\\1\\repaired_before.fif...\n",
      "    Range : 0 ... 647763 =      0.000 ...   539.803 secs\n",
      "Ready.\n",
      "Reading 0 ... 647763  =      0.000 ...   539.803 secs...\n"
     ]
    },
    {
     "name": "stderr",
     "output_type": "stream",
     "text": [
      "c:\\zheng\\mywork\\attention_tES\\tes-attention\\processing\\funcs.py:14: RuntimeWarning: This filename (../../data\\1\\repaired_before.fif) does not conform to MNE naming conventions. All raw files should end with raw.fif, raw_sss.fif, raw_tsss.fif, _meg.fif, _eeg.fif, _ieeg.fif, raw.fif.gz, raw_sss.fif.gz, raw_tsss.fif.gz, _meg.fif.gz, _eeg.fif.gz or _ieeg.fif.gz\n",
      "  raw_before = mne.io.read_raw_fif(raw_path_before, preload=True)\n"
     ]
    },
    {
     "name": "stdout",
     "output_type": "stream",
     "text": [
      "Opening raw data file ../../data\\1\\repaired_after.fif...\n",
      "    Range : 0 ... 647880 =      0.000 ...   539.900 secs\n",
      "Ready.\n",
      "Reading 0 ... 647880  =      0.000 ...   539.900 secs...\n"
     ]
    },
    {
     "name": "stderr",
     "output_type": "stream",
     "text": [
      "c:\\zheng\\mywork\\attention_tES\\tes-attention\\processing\\funcs.py:16: RuntimeWarning: This filename (../../data\\1\\repaired_after.fif) does not conform to MNE naming conventions. All raw files should end with raw.fif, raw_sss.fif, raw_tsss.fif, _meg.fif, _eeg.fif, _ieeg.fif, raw.fif.gz, raw_sss.fif.gz, raw_tsss.fif.gz, _meg.fif.gz, _eeg.fif.gz or _ieeg.fif.gz\n",
      "  raw_after = mne.io.read_raw_fif(raw_path_after, preload=True)\n"
     ]
    }
   ],
   "source": [
    "raw_before, raw_after = funcs.load_eeg_data(1)"
   ]
  }
 ],
 "metadata": {
  "kernelspec": {
   "display_name": "mne_office",
   "language": "python",
   "name": "python3"
  },
  "language_info": {
   "codemirror_mode": {
    "name": "ipython",
    "version": 3
   },
   "file_extension": ".py",
   "mimetype": "text/x-python",
   "name": "python",
   "nbconvert_exporter": "python",
   "pygments_lexer": "ipython3",
   "version": "3.10.9"
  },
  "orig_nbformat": 4
 },
 "nbformat": 4,
 "nbformat_minor": 2
}
