{
 "cells": [
  {
   "cell_type": "code",
   "execution_count": null,
   "metadata": {},
   "outputs": [],
   "source": [
    "import os\n",
    "from scipy.io import loadmat\n",
    "from pathlib import Path\n",
    "\n",
    "import matplotlib.pyplot as plt\n",
    "import numpy as np\n",
    "import pandas as pd\n",
    "# the following import is required for matplotlib < 3.2:\n",
    "from mpl_toolkits.mplot3d import Axes3D  # noqa\n",
    "import mne\n"
   ]
  },
  {
   "cell_type": "code",
   "execution_count": null,
   "metadata": {},
   "outputs": [],
   "source": [
    "# load raw\n",
    "subject_id = 2\n",
    "before_or_after = 'after'\n",
    "raw_path = os.path.join('..', '..', 'data', str(subject_id), 'raw_' + before_or_after + '.fif')\n",
    "raw = mne.io.read_raw_fif(raw_path, preload=True)\n",
    "# raw.plot()"
   ]
  },
  {
   "cell_type": "code",
   "execution_count": null,
   "metadata": {},
   "outputs": [],
   "source": [
    "# check psd\n",
    "psd_obj = raw.compute_psd(fmax=100)\n",
    "mne.viz.plot_raw_psd(raw, fmax=100, spatial_colors=True)"
   ]
  },
  {
   "cell_type": "code",
   "execution_count": null,
   "metadata": {},
   "outputs": [],
   "source": [
    "# # filtering and resampling\n",
    "# # Apply low-pass filter\n",
    "# raw_filtered = raw.copy().filter(l_freq=None, h_freq=50)\n",
    "\n",
    "# # Resample the data\n",
    "# sfreq = 600\n",
    "# raw_resampled = raw_filtered.copy().resample(sfreq=sfreq)\n",
    "\n",
    "# # Plot the power spectral density (PSD) of the original data\n",
    "# psd_obj = raw.compute_psd(fmax=100)\n",
    "# mne.viz.plot_raw_psd(raw, fmax=100, spatial_colors=True)\n",
    "\n",
    "# # Plot the PSD of the resampled data\n",
    "# raw_resampled.plot_psd()\n",
    "# psd_obj = raw_resampled.compute_psd(fmax=100)\n",
    "# mne.viz.plot_raw_psd(raw_resampled, fmax=100, spatial_colors=True)"
   ]
  },
  {
   "cell_type": "code",
   "execution_count": null,
   "metadata": {},
   "outputs": [],
   "source": [
    "# ica\n",
    "raw_filtered = raw.copy() # raw already filtered\n",
    "n_components = 32  # Number of ICA components (adjust as needed)\n",
    "ica = mne.preprocessing.ICA(n_components=n_components, random_state=97, method='picard')\n",
    "ica.fit(raw_filtered)\n",
    "# Extract explained variance of all components\n",
    "explained_var = ica.get_explained_variance_ratio(raw_filtered)\n",
    "print(explained_var)\n",
    "ica.plot_components()\n",
    "ica.plot_sources(raw_filtered)"
   ]
  },
  {
   "cell_type": "code",
   "execution_count": null,
   "metadata": {},
   "outputs": [],
   "source": [
    "# plot properties based on epochs\n",
    "# Find events related to the 'fixation' stim channel\n",
    "stim_channel_name = 'fixation'\n",
    "event_id = {'fixation': 1}\n",
    "events = mne.find_events(raw, stim_channel=stim_channel_name, min_duration=1/raw.info['sfreq'])\n",
    "\n",
    "# Create epochs\n",
    "tmin, tmax = -1.5, 3.58  # Define the time range of epochs 3.583s-5.05s\n",
    "epochs = mne.Epochs(raw, events, event_id=event_id, tmin=tmin, tmax=tmax, baseline=(0, 0), preload=True)\n",
    "\n",
    "# Apply ICA to the epochs\n",
    "ica_epochs = ica.apply(epochs.copy(), exclude=ica.exclude)\n",
    "\n",
    "# Plot properties for each component using segments based on epochs\n",
    "for idx in range(ica.n_components_):\n",
    "    ica.plot_properties(ica_epochs, picks=idx)"
   ]
  },
  {
   "cell_type": "code",
   "execution_count": null,
   "metadata": {},
   "outputs": [],
   "source": [
    "# plot overlay\n",
    "# ica.plot_overlay(raw, exclude=[1,2,3,4], picks='eeg')"
   ]
  },
  {
   "cell_type": "code",
   "execution_count": null,
   "metadata": {},
   "outputs": [],
   "source": [
    "# # Load the CSV file\n",
    "# csv_file = 'ic_to_remove.csv'\n",
    "# df = pd.read_csv(csv_file)\n",
    "\n",
    "# # Get the remove_ic\n",
    "# selected_row = df.loc[(df['subject_id'] == subject_id) & (df['before_or_after'] == before_or_after)]\n",
    "# remove_ic = selected_row['remove_ic'].iloc[0].split(',')\n",
    "\n",
    "# # # Get the other\n",
    "# # other = selected_row['other'].iloc[0].split(',')\n",
    "\n",
    "# # # Combine the two lists\n",
    "# # remove_ic = remove_ic + other\n",
    "\n",
    "# # Remove the components\n",
    "# ica.exclude = [int(i) for i in remove_ic]\n",
    "# raw_ica_applied = raw.copy()\n",
    "# ica.apply(raw_ica_applied)\n",
    "\n",
    "# # Plot the raw and ICA-applied data\n",
    "# raw.plot()\n",
    "# raw_ica_applied.plot()"
   ]
  }
 ],
 "metadata": {
  "kernelspec": {
   "display_name": "mne",
   "language": "python",
   "name": "python3"
  },
  "language_info": {
   "codemirror_mode": {
    "name": "ipython",
    "version": 3
   },
   "file_extension": ".py",
   "mimetype": "text/x-python",
   "name": "python",
   "nbconvert_exporter": "python",
   "pygments_lexer": "ipython3",
   "version": "3.10.9"
  },
  "orig_nbformat": 4
 },
 "nbformat": 4,
 "nbformat_minor": 2
}
