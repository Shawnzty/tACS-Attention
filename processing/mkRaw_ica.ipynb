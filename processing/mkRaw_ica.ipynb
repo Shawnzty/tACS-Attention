{
 "cells": [
  {
   "cell_type": "code",
   "execution_count": 1,
   "metadata": {},
   "outputs": [],
   "source": [
    "import os\n",
    "from scipy.io import loadmat\n",
    "from pathlib import Path\n",
    "\n",
    "import matplotlib.pyplot as plt\n",
    "import numpy as np\n",
    "import pandas as pd\n",
    "# the following import is required for matplotlib < 3.2:\n",
    "from mpl_toolkits.mplot3d import Axes3D  # noqa\n",
    "import mne"
   ]
  },
  {
   "attachments": {},
   "cell_type": "markdown",
   "metadata": {},
   "source": [
    "## load data"
   ]
  },
  {
   "cell_type": "code",
   "execution_count": null,
   "metadata": {},
   "outputs": [],
   "source": [
    "# read the EEG data\n",
    "subject_id = 1\n",
    "eeg_path = os.path.join('..', '..', 'data', str(subject_id), 'eeg_before.mat')\n",
    "eeg_before = loadmat(eeg_path)['eeg']\n",
    "eeg_before[1:33] *= 1e-6 # convert to microvolts\n",
    "\n",
    "# read the behavior data\n",
    "behavior_before_path = os.path.join('..', '..', 'data', str(subject_id), 'behavior_before.csv')\n",
    "behavior_before = pd.read_csv(behavior_before_path)\n",
    "behavior_after_path = os.path.join('..', '..', 'data', str(subject_id), 'behavior_after.csv')\n",
    "behavior_after = pd.read_csv(behavior_after_path)"
   ]
  },
  {
   "attachments": {},
   "cell_type": "markdown",
   "metadata": {},
   "source": [
    "## Create montage"
   ]
  },
  {
   "cell_type": "code",
   "execution_count": null,
   "metadata": {},
   "outputs": [],
   "source": [
    "# get montage of standard 10-20 EEG system\n",
    "# Create the standard 10-20 montage\n",
    "montage_1020 = mne.channels.make_standard_montage('standard_1020')\n",
    "# Get the channel positions in the 'head' coordinate frame\n",
    "positions_1020 = montage_1020._get_ch_pos()\n",
    "# Get the elec_coords dictionary\n",
    "elec_coords_1020 = {ch_name: coord for ch_name, coord in positions_1020.items() if ch_name in montage_1020.ch_names}\n",
    "print(elec_coords_1020['Fp1'])\n",
    "print(elec_coords_1020)"
   ]
  }
 ],
 "metadata": {
  "kernelspec": {
   "display_name": "mne",
   "language": "python",
   "name": "python3"
  },
  "language_info": {
   "codemirror_mode": {
    "name": "ipython",
    "version": 3
   },
   "file_extension": ".py",
   "mimetype": "text/x-python",
   "name": "python",
   "nbconvert_exporter": "python",
   "pygments_lexer": "ipython3",
   "version": "3.10.9"
  },
  "orig_nbformat": 4
 },
 "nbformat": 4,
 "nbformat_minor": 2
}
