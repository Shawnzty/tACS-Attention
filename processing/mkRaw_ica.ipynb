{
 "cells": [
  {
   "cell_type": "code",
   "execution_count": 1,
   "metadata": {},
   "outputs": [],
   "source": [
    "import os\n",
    "from scipy.io import loadmat\n",
    "from pathlib import Path\n",
    "\n",
    "import matplotlib.pyplot as plt\n",
    "import numpy as np\n",
    "import pandas as pd\n",
    "# the following import is required for matplotlib < 3.2:\n",
    "from mpl_toolkits.mplot3d import Axes3D  # noqa\n",
    "import mne"
   ]
  },
  {
   "attachments": {},
   "cell_type": "markdown",
   "metadata": {},
   "source": [
    "## load data"
   ]
  },
  {
   "cell_type": "code",
   "execution_count": 2,
   "metadata": {},
   "outputs": [],
   "source": [
    "# read the EEG data\n",
    "subject_id = 1\n",
    "eeg_path = os.path.join('..', '..', 'data', str(subject_id), 'eeg_before.mat')\n",
    "eeg_before = loadmat(eeg_path)['eeg']\n",
    "eeg_before[1:33] *= 1e-6 # convert to microvolts\n",
    "\n",
    "# read the behavior data\n",
    "behavior_before_path = os.path.join('..', '..', 'data', str(subject_id), 'behavior_before.csv')\n",
    "behavior_before = pd.read_csv(behavior_before_path)\n",
    "behavior_after_path = os.path.join('..', '..', 'data', str(subject_id), 'behavior_after.csv')\n",
    "behavior_after = pd.read_csv(behavior_after_path)"
   ]
  },
  {
   "attachments": {},
   "cell_type": "markdown",
   "metadata": {},
   "source": [
    "## Create montage and info"
   ]
  },
  {
   "cell_type": "code",
   "execution_count": 3,
   "metadata": {},
   "outputs": [
    {
     "name": "stdout",
     "output_type": "stream",
     "text": [
      "[-0.0294367  0.0839171 -0.00699  ]\n",
      "{'Fp1': array([-0.0294367,  0.0839171, -0.00699  ]), 'Fpz': array([ 0.0001123,  0.088247 , -0.001713 ]), 'Fp2': array([ 0.0298723,  0.0848959, -0.00708  ]), 'AF9': array([-0.0489708,  0.0640872, -0.047683 ]), 'AF7': array([-0.0548397,  0.0685722, -0.01059  ]), 'AF5': array([-0.0454307,  0.0728622,  0.005978 ]), 'AF3': array([-0.0337007,  0.0768371,  0.021227 ]), 'AF1': array([-0.0184717,  0.0799041,  0.032752 ]), 'AFz': array([0.0002313, 0.080771 , 0.035417 ]), 'AF2': array([0.0198203, 0.0803019, 0.032764 ]), 'AF4': array([0.0357123, 0.0777259, 0.021956 ]), 'AF6': array([0.0465843, 0.0738078, 0.006034 ]), 'AF8': array([ 0.0557433,  0.0696568, -0.010755 ]), 'AF10': array([ 0.0504352,  0.0638698, -0.048005 ]), 'F9': array([-0.0701019,  0.0416523, -0.049952 ]), 'F7': array([-0.0702629,  0.0424743, -0.01142  ]), 'F5': array([-0.0644658,  0.0480353,  0.016921 ]), 'F3': array([-0.0502438,  0.0531112,  0.042192 ]), 'F1': array([-0.0274958,  0.0569311,  0.060342 ]), 'Fz': array([0.0003122, 0.058512 , 0.066462 ]), 'F2': array([0.0295142, 0.0576019, 0.05954  ]), 'F4': array([0.0518362, 0.0543048, 0.040814 ]), 'F6': array([0.0679142, 0.0498297, 0.016367 ]), 'F8': array([ 0.0730431,  0.0444217, -0.012    ]), 'F10': array([ 0.0721141,  0.0420667, -0.050452 ]), 'FT9': array([-0.0840759,  0.0145673, -0.050429 ]), 'FT7': array([-0.080775 ,  0.0141203, -0.011135 ]), 'FC5': array([-0.0772149,  0.0186433,  0.02446  ]), 'FC3': array([-0.0601819,  0.0227162,  0.055544 ]), 'FC1': array([-0.0340619,  0.0260111,  0.079987 ]), 'FCz': array([0.0003761, 0.02739  , 0.088668 ]), 'FC2': array([0.0347841, 0.0264379, 0.078808 ]), 'FC4': array([0.0622931, 0.0237228, 0.05563  ]), 'FC6': array([0.0795341, 0.0199357, 0.024438 ]), 'FT8': array([ 0.0818151,  0.0154167, -0.01133  ]), 'FT10': array([ 0.0841131,  0.0143647, -0.050538 ]), 'T9': array([-0.0858941, -0.0158287, -0.048283 ]), 'T7': array([-0.0841611, -0.0160187, -0.009346 ]), 'C5': array([-0.0802801, -0.0137597,  0.02916  ]), 'C3': array([-0.0653581, -0.0116317,  0.064358 ]), 'C1': array([-0.036158 , -0.0099839,  0.089752 ]), 'Cz': array([ 0.0004009, -0.009167 ,  0.100244 ]), 'C2': array([ 0.037672 , -0.0096241,  0.088412 ]), 'C4': array([ 0.0671179, -0.0109003,  0.06358  ]), 'C6': array([ 0.0834559, -0.0127763,  0.029208 ]), 'T8': array([ 0.0850799, -0.0150203, -0.00949  ]), 'T10': array([ 0.0855599, -0.0163613, -0.048271 ]), 'TP9': array([-0.0856192, -0.0465147, -0.045707 ]), 'TP7': array([-0.0848302, -0.0460217, -0.007056 ]), 'CP5': array([-0.0795922, -0.0465507,  0.030949 ]), 'CP3': array([-0.0635562, -0.0470088,  0.065624 ]), 'CP1': array([-0.0355131, -0.0472919,  0.091315 ]), 'CPz': array([ 0.0003858, -0.047318 ,  0.099432 ]), 'CP2': array([ 0.0383838, -0.0470731,  0.090695 ]), 'CP4': array([ 0.0666118, -0.0466372,  0.06558  ]), 'CP6': array([ 0.0833218, -0.0461013,  0.031206 ]), 'TP8': array([ 0.0855488, -0.0455453, -0.00713  ]), 'TP10': array([ 0.0861618, -0.0470353, -0.045869 ]), 'P9': array([-0.0730093, -0.0737657, -0.040998 ]), 'P7': array([-0.0724343, -0.0734527, -0.002487 ]), 'P5': array([-0.0672723, -0.0762907,  0.028382 ]), 'P3': array([-0.0530073, -0.0787878,  0.05594  ]), 'P1': array([-0.0286203, -0.0805249,  0.075436 ]), 'Pz': array([ 0.0003247, -0.081115 ,  0.082615 ]), 'P2': array([ 0.0319197, -0.0804871,  0.076716 ]), 'P4': array([ 0.0556667, -0.0785602,  0.056561 ]), 'P6': array([ 0.0678877, -0.0759043,  0.028091 ]), 'P8': array([ 0.0730557, -0.0730683, -0.00254  ]), 'P10': array([ 0.0738947, -0.0743903, -0.04122  ]), 'PO9': array([-0.0549104, -0.0980448, -0.035465 ]), 'PO7': array([-0.0548404, -0.0975279,  0.002792 ]), 'PO5': array([-0.0484244, -0.0993408,  0.021599 ]), 'PO3': array([-0.0365114, -0.1008529,  0.037167 ]), 'PO1': array([-0.0189724, -0.101768 ,  0.046536 ]), 'POz': array([ 0.0002156, -0.102178 ,  0.050608 ]), 'PO2': array([ 0.0198776, -0.101793 ,  0.046393 ]), 'PO4': array([ 0.0367816, -0.1008491,  0.036397 ]), 'PO6': array([ 0.0498196, -0.0994461,  0.021727 ]), 'PO8': array([ 0.0556666, -0.0976251,  0.00273  ]), 'PO10': array([ 0.0549876, -0.0980911, -0.035541 ]), 'O1': array([-0.0294134, -0.112449 ,  0.008839 ]), 'Oz': array([ 1.07600e-04, -1.14892e-01,  1.46570e-02]), 'O2': array([ 0.0298426, -0.112156 ,  0.0088   ]), 'O9': array([-0.0298184, -0.11457  , -0.029216 ]), 'Iz': array([ 4.50000e-06, -1.18565e-01, -2.30780e-02]), 'O10': array([ 0.0297416, -0.11426  , -0.029256 ]), 'T3': array([-0.0841611, -0.0160187, -0.009346 ]), 'T5': array([-0.0724343, -0.0734527, -0.002487 ]), 'T4': array([ 0.0850799, -0.0150203, -0.00949  ]), 'T6': array([ 0.0730557, -0.0730683, -0.00254  ]), 'M1': array([-0.0860761, -0.0449897, -0.067986 ]), 'M2': array([ 0.0857939, -0.0450093, -0.068031 ]), 'A1': array([-0.0860761, -0.0249897, -0.067986 ]), 'A2': array([ 0.0857939, -0.0250093, -0.068031 ])}\n"
     ]
    }
   ],
   "source": [
    "# get montage of standard 10-20 EEG system\n",
    "# Create the standard 10-20 montage\n",
    "montage_1020 = mne.channels.make_standard_montage('standard_1020')\n",
    "# Get the channel positions in the 'head' coordinate frame\n",
    "positions_1020 = montage_1020._get_ch_pos()\n",
    "# Get the elec_coords dictionary\n",
    "elec_coords_1020 = {ch_name: coord for ch_name, coord in positions_1020.items() if ch_name in montage_1020.ch_names}\n",
    "print(elec_coords_1020['Fp1'])\n",
    "print(elec_coords_1020)"
   ]
  },
  {
   "cell_type": "code",
   "execution_count": 4,
   "metadata": {},
   "outputs": [
    {
     "name": "stdout",
     "output_type": "stream",
     "text": [
      "Creating RawArray with float64 data, n_channels=55, n_times=647764\n",
      "    Range : 0 ... 647763 =      0.000 ...   539.803 secs\n",
      "Ready.\n"
     ]
    }
   ],
   "source": [
    "# create info object\n",
    "# Define channel names and types\n",
    "ch_names = ['Time'] + ['Fp1', 'Fp2', \n",
    "                       'AF3', 'AF4', \n",
    "                       'F7', 'F3', 'Fz', 'F4', 'F8',\n",
    "                       'FC1', 'FC2',\n",
    "                       'T7', 'C3', 'Cz', 'C4', 'T8',\n",
    "                       'CP5', 'CP1', 'CP2', 'CP6',\n",
    "                       'P7', 'P5', 'P3', 'Pz', 'P4', 'P6', 'P8',\n",
    "                       'PO3', 'PO4',\n",
    "                       'O1', 'Oz', 'O2'] + ['Trigger'] + ['fixation',\n",
    "                        'endo left', 'endo right', 'exo left', 'exo right',\n",
    "                        'valid', 'invalid', 'ics fast', 'ics slow',\n",
    "                        'stim', 'stim_left', 'stim_right', 'stim_close','stim_xmiddle','stim_far',\n",
    "                        'stim_highest', 'stim_higher', 'stim_ymiddle', 'stim_lower', 'stim_lowest',\n",
    "                        'response']\n",
    "ch_types = ['misc'] + ['eeg'] * 32 + ['misc'] + ['stim'] * 21\n",
    "\n",
    "# Create the info object\n",
    "info = mne.create_info(ch_names, sfreq=1200, ch_types=ch_types)\n",
    "# Create raw object\n",
    "raw = mne.io.RawArray(eeg_before, info)"
   ]
  },
  {
   "cell_type": "code",
   "execution_count": 5,
   "metadata": {},
   "outputs": [],
   "source": [
    "# manually add the placement of electrodes\n",
    "elec_coords = {\n",
    "    'Fp1': elec_coords_1020['Fp1'],\n",
    "    'Fp2': elec_coords_1020['Fp2'],\n",
    "    'AF3': elec_coords_1020['AF3'],\n",
    "    'AF4': elec_coords_1020['AF4'],\n",
    "    'F7': elec_coords_1020['F7'],\n",
    "    'F3': elec_coords_1020['F3'],\n",
    "    'Fz': elec_coords_1020['Fz'],\n",
    "    'F4': elec_coords_1020['F4'],\n",
    "    'F8': elec_coords_1020['F8'],\n",
    "    'FC1': elec_coords_1020['FC1'],\n",
    "    'FC2': elec_coords_1020['FC2'],\n",
    "    'T7': elec_coords_1020['T7'],\n",
    "    'C3': elec_coords_1020['C3'],\n",
    "    'Cz': elec_coords_1020['Cz'],\n",
    "    'C4': elec_coords_1020['C4'],\n",
    "    'T8': elec_coords_1020['T8'],\n",
    "    'CP5': elec_coords_1020['CP5'],\n",
    "    'CP1': elec_coords_1020['CP1'],\n",
    "    'CP2': elec_coords_1020['CP2'],\n",
    "    'CP6': elec_coords_1020['CP6'],\n",
    "    'P7': elec_coords_1020['P7'],\n",
    "    'P5': elec_coords_1020['P5'],\n",
    "    'P3': elec_coords_1020['P3'],\n",
    "    'Pz': elec_coords_1020['Pz'],\n",
    "    'P4': elec_coords_1020['P4'],\n",
    "    'P6': elec_coords_1020['P6'],\n",
    "    'P8': elec_coords_1020['P8'],\n",
    "    'PO3': elec_coords_1020['PO3'],\n",
    "    'PO4': elec_coords_1020['PO4'],\n",
    "    'O1': elec_coords_1020['O1'],\n",
    "    'Oz': elec_coords_1020['Oz'],\n",
    "    'O2': elec_coords_1020['O2'],\n",
    "}\n",
    "\n",
    "# Create the montage object\n",
    "montage = mne.channels.make_dig_montage(elec_coords, coord_frame='head')"
   ]
  },
  {
   "cell_type": "code",
   "execution_count": 6,
   "metadata": {},
   "outputs": [
    {
     "name": "stdout",
     "output_type": "stream",
     "text": [
      "Filtering raw data in 1 contiguous segment\n",
      "Setting up band-pass filter from 0.1 - 60 Hz\n",
      "\n",
      "FIR filter parameters\n",
      "---------------------\n",
      "Designing a one-pass, zero-phase, non-causal bandpass filter:\n",
      "- Windowed time-domain design (firwin) method\n",
      "- Hamming window with 0.0194 passband ripple and 53 dB stopband attenuation\n",
      "- Lower passband edge: 0.10\n",
      "- Lower transition bandwidth: 0.10 Hz (-6 dB cutoff frequency: 0.05 Hz)\n",
      "- Upper passband edge: 60.00 Hz\n",
      "- Upper transition bandwidth: 15.00 Hz (-6 dB cutoff frequency: 67.50 Hz)\n",
      "- Filter length: 39601 samples (33.001 sec)\n",
      "\n"
     ]
    },
    {
     "name": "stderr",
     "output_type": "stream",
     "text": [
      "[Parallel(n_jobs=1)]: Using backend SequentialBackend with 1 concurrent workers.\n",
      "[Parallel(n_jobs=1)]: Done   1 out of   1 | elapsed:    0.0s remaining:    0.0s\n",
      "[Parallel(n_jobs=1)]: Done   2 out of   2 | elapsed:    0.0s remaining:    0.0s\n",
      "[Parallel(n_jobs=1)]: Done   3 out of   3 | elapsed:    0.0s remaining:    0.0s\n",
      "[Parallel(n_jobs=1)]: Done   4 out of   4 | elapsed:    0.0s remaining:    0.0s\n"
     ]
    },
    {
     "name": "stdout",
     "output_type": "stream",
     "text": [
      "Overwriting existing file.\n",
      "Writing c:\\zheng\\mywork\\attention_tES\\tes-attention\\processing\\..\\..\\data\\1\\raw.fif\n"
     ]
    },
    {
     "name": "stderr",
     "output_type": "stream",
     "text": [
      "[Parallel(n_jobs=1)]: Done  32 out of  32 | elapsed:    0.9s finished\n"
     ]
    },
    {
     "name": "stdout",
     "output_type": "stream",
     "text": [
      "Closing c:\\zheng\\mywork\\attention_tES\\tes-attention\\processing\\..\\..\\data\\1\\raw.fif\n",
      "[done]\n"
     ]
    }
   ],
   "source": [
    "# add info and montage to raw object\n",
    "raw.set_montage(montage)\n",
    "raw.info['subject_info'] = {'id': subject_id}\n",
    "raw.filter(l_freq=0.1, h_freq=60)\n",
    "raw.info\n",
    "# print(raw.info['subject_info'])\n",
    "raw_save_path = os.path.join('..', '..', 'data', str(subject_id), 'raw.fif')\n",
    "raw.save(raw_save_path, overwrite=True)"
   ]
  }
 ],
 "metadata": {
  "kernelspec": {
   "display_name": "mne",
   "language": "python",
   "name": "python3"
  },
  "language_info": {
   "codemirror_mode": {
    "name": "ipython",
    "version": 3
   },
   "file_extension": ".py",
   "mimetype": "text/x-python",
   "name": "python",
   "nbconvert_exporter": "python",
   "pygments_lexer": "ipython3",
   "version": "3.10.9"
  },
  "orig_nbformat": 4
 },
 "nbformat": 4,
 "nbformat_minor": 2
}
