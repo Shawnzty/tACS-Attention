{
 "cells": [
  {
   "cell_type": "code",
   "execution_count": 5,
   "metadata": {},
   "outputs": [
    {
     "name": "stdout",
     "output_type": "stream",
     "text": [
      "Automatically created module for IPython interactive environment\n",
      "Opening raw data file C:\\Users\\Tianyi Zheng\\mne_data\\MNE-sample-data\\MEG\\sample\\sample_audvis_raw.fif...\n",
      "    Read a total of 3 projection items:\n",
      "        PCA-v1 (1 x 102)  idle\n",
      "        PCA-v2 (1 x 102)  idle\n",
      "        PCA-v3 (1 x 102)  idle\n",
      "    Range : 25800 ... 192599 =     42.956 ...   320.670 secs\n",
      "Ready.\n"
     ]
    },
    {
     "ename": "ValueError",
     "evalue": "A head surface is required to project EEG, \"head\", \"outer_skin\", \"head-dense\" or \"seghead\" must be in surfaces or surfaces must be \"auto\"",
     "output_type": "error",
     "traceback": [
      "\u001b[1;31m---------------------------------------------------------------------------\u001b[0m",
      "\u001b[1;31mValueError\u001b[0m                                Traceback (most recent call last)",
      "Cell \u001b[1;32mIn[5], line 18\u001b[0m\n\u001b[0;32m     15\u001b[0m my_raw \u001b[39m=\u001b[39m mne\u001b[39m.\u001b[39mio\u001b[39m.\u001b[39mread_raw_fif(my_path, preload\u001b[39m=\u001b[39m\u001b[39mTrue\u001b[39;00m, verbose\u001b[39m=\u001b[39m\u001b[39mFalse\u001b[39;00m)\n\u001b[0;32m     17\u001b[0m \u001b[39m# Plot electrode locations on scalp\u001b[39;00m\n\u001b[1;32m---> 18\u001b[0m fig \u001b[39m=\u001b[39m plot_alignment(\n\u001b[0;32m     19\u001b[0m     my_raw\u001b[39m.\u001b[39;49minfo,\n\u001b[0;32m     20\u001b[0m     subject\u001b[39m=\u001b[39;49m\u001b[39m\"\u001b[39;49m\u001b[39msample\u001b[39;49m\u001b[39m\"\u001b[39;49m,\n\u001b[0;32m     21\u001b[0m     dig\u001b[39m=\u001b[39;49m\u001b[39mFalse\u001b[39;49;00m,\n\u001b[0;32m     22\u001b[0m     eeg\u001b[39m=\u001b[39;49m[\u001b[39m\"\u001b[39;49m\u001b[39mprojected\u001b[39;49m\u001b[39m\"\u001b[39;49m],\n\u001b[0;32m     23\u001b[0m     meg\u001b[39m=\u001b[39;49m[],\n\u001b[0;32m     24\u001b[0m     coord_frame\u001b[39m=\u001b[39;49m\u001b[39m\"\u001b[39;49m\u001b[39mhead\u001b[39;49m\u001b[39m\"\u001b[39;49m,\n\u001b[0;32m     25\u001b[0m     subjects_dir\u001b[39m=\u001b[39;49msubjects_dir,\n\u001b[0;32m     26\u001b[0m )\n\u001b[0;32m     28\u001b[0m \u001b[39m# Set viewing angle\u001b[39;00m\n\u001b[0;32m     29\u001b[0m set_3d_view(figure\u001b[39m=\u001b[39mfig, azimuth\u001b[39m=\u001b[39m\u001b[39m135\u001b[39m, elevation\u001b[39m=\u001b[39m\u001b[39m80\u001b[39m)\n",
      "File \u001b[1;32m<decorator-gen-171>:12\u001b[0m, in \u001b[0;36mplot_alignment\u001b[1;34m(info, trans, subject, subjects_dir, surfaces, coord_frame, meg, eeg, fwd, dig, ecog, src, mri_fiducials, bem, seeg, fnirs, show_axes, dbs, fig, interaction, verbose)\u001b[0m\n",
      "File \u001b[1;32mc:\\ProgramData\\anaconda3\\envs\\mne\\lib\\site-packages\\mne\\viz\\_3d.py:657\u001b[0m, in \u001b[0;36mplot_alignment\u001b[1;34m(info, trans, subject, subjects_dir, surfaces, coord_frame, meg, eeg, fwd, dig, ecog, src, mri_fiducials, bem, seeg, fnirs, show_axes, dbs, fig, interaction, verbose)\u001b[0m\n\u001b[0;32m    655\u001b[0m     surfaces\u001b[39m.\u001b[39mpop(surfaces\u001b[39m.\u001b[39mindex(head))\n\u001b[0;32m    656\u001b[0m \u001b[39melif\u001b[39;00m \u001b[39m'\u001b[39m\u001b[39mprojected\u001b[39m\u001b[39m'\u001b[39m \u001b[39min\u001b[39;00m eeg:\n\u001b[1;32m--> 657\u001b[0m     \u001b[39mraise\u001b[39;00m \u001b[39mValueError\u001b[39;00m(\u001b[39m'\u001b[39m\u001b[39mA head surface is required to project EEG, \u001b[39m\u001b[39m'\u001b[39m\n\u001b[0;32m    658\u001b[0m                      \u001b[39m'\u001b[39m\u001b[39m\"\u001b[39m\u001b[39mhead\u001b[39m\u001b[39m\"\u001b[39m\u001b[39m, \u001b[39m\u001b[39m\"\u001b[39m\u001b[39mouter_skin\u001b[39m\u001b[39m\"\u001b[39m\u001b[39m, \u001b[39m\u001b[39m\"\u001b[39m\u001b[39mhead-dense\u001b[39m\u001b[39m\"\u001b[39m\u001b[39m or \u001b[39m\u001b[39m\"\u001b[39m\u001b[39mseghead\u001b[39m\u001b[39m\"\u001b[39m\u001b[39m \u001b[39m\u001b[39m'\u001b[39m\n\u001b[0;32m    659\u001b[0m                      \u001b[39m'\u001b[39m\u001b[39mmust be in surfaces or surfaces must be \u001b[39m\u001b[39m\"\u001b[39m\u001b[39mauto\u001b[39m\u001b[39m\"\u001b[39m\u001b[39m'\u001b[39m)\n\u001b[0;32m    661\u001b[0m \u001b[39m# Skull surface:\u001b[39;00m\n\u001b[0;32m    662\u001b[0m skulls \u001b[39m=\u001b[39m [s \u001b[39mfor\u001b[39;00m s \u001b[39min\u001b[39;00m surfaces \u001b[39mif\u001b[39;00m s \u001b[39min\u001b[39;00m (\u001b[39m'\u001b[39m\u001b[39mouter_skull\u001b[39m\u001b[39m'\u001b[39m, \u001b[39m'\u001b[39m\u001b[39minner_skull\u001b[39m\u001b[39m'\u001b[39m)]\n",
      "\u001b[1;31mValueError\u001b[0m: A head surface is required to project EEG, \"head\", \"outer_skin\", \"head-dense\" or \"seghead\" must be in surfaces or surfaces must be \"auto\""
     ]
    }
   ],
   "source": [
    "import mne\n",
    "from mne.viz import plot_alignment, set_3d_view\n",
    "import imp\n",
    "import os\n",
    "imp.reload(mne)\n",
    "\n",
    "print(__doc__)\n",
    "\n",
    "my_path = os.path.join('..', '..', '..','data', str(1), 'repaired_before_raw.fif')\n",
    "data_path = mne.datasets.sample.data_path()\n",
    "subjects_dir = data_path / \"subjects\"\n",
    "meg_path = data_path / \"MEG\" / \"sample\"\n",
    "trans = mne.read_trans(meg_path / \"sample_audvis_raw-trans.fif\")\n",
    "raw = mne.io.read_raw_fif(meg_path / \"sample_audvis_raw.fif\")\n",
    "my_raw = mne.io.read_raw_fif(my_path, preload=True, verbose=False)\n",
    "\n",
    "# Plot electrode locations on scalp\n",
    "fig = plot_alignment(\n",
    "    my_raw.info,\n",
    "    trans,\n",
    "    subject=\"sample\",\n",
    "    dig=False,\n",
    "    eeg=[\"projected\"],\n",
    "    meg=[],\n",
    "    coord_frame=\"head\",\n",
    "    subjects_dir=subjects_dir,\n",
    ")\n",
    "\n",
    "# Set viewing angle\n",
    "set_3d_view(figure=fig, azimuth=135, elevation=80)"
   ]
  }
 ],
 "metadata": {
  "kernelspec": {
   "display_name": "mne",
   "language": "python",
   "name": "python3"
  },
  "language_info": {
   "codemirror_mode": {
    "name": "ipython",
    "version": 3
   },
   "file_extension": ".py",
   "mimetype": "text/x-python",
   "name": "python",
   "nbconvert_exporter": "python",
   "pygments_lexer": "ipython3",
   "version": "3.9.17"
  },
  "orig_nbformat": 4
 },
 "nbformat": 4,
 "nbformat_minor": 2
}
